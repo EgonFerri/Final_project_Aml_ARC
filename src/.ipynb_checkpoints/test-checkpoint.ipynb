{
 "cells": [
  {
   "cell_type": "code",
   "execution_count": 2,
   "metadata": {},
   "outputs": [],
   "source": [
    "from generators import *\n",
    "from models import *\n",
    "from solvers import *\n",
    "from utils import *\n",
    "\n",
    "from torch import nn"
   ]
  },
  {
   "cell_type": "code",
   "execution_count": 2,
   "metadata": {},
   "outputs": [],
   "source": [
    "data_path = Path('./data')"
   ]
  },
  {
   "cell_type": "code",
   "execution_count": 3,
   "metadata": {},
   "outputs": [],
   "source": [
    "is_cuda = torch.cuda.is_available()\n",
    "if is_cuda:\n",
    "    device = torch.device(\"cuda\")\n",
    "else:\n",
    "    device = torch.device(\"cpu\")\n",
    "    "
   ]
  },
  {
   "cell_type": "code",
   "execution_count": 4,
   "metadata": {},
   "outputs": [],
   "source": [
    "train_tasks = [get_task(data_path, index = i) for i in range(400)]"
   ]
  },
  {
   "cell_type": "code",
   "execution_count": 5,
   "metadata": {},
   "outputs": [
    {
     "data": {
      "image/png": "[encoded data removed]",
      "text/plain": [
       "<Figure size 1200x400 with 12 Axes>"
      ]
     },
     "metadata": {
      "needs_background": "light"
     },
     "output_type": "display_data"
    }
   ],
   "source": [
    "plot_task(get_task(data_path, index = 0))"
   ]
  },
  {
   "cell_type": "code",
   "execution_count": 9,
   "metadata": {},
   "outputs": [
    {
     "name": "stderr",
     "output_type": "stream",
     "text": [
      "\n",
      "\n",
      "  0%|                                                                                           | 0/10 [00:00<?, ?it/s]\u001b[A\u001b[A\n",
      "\n",
      " 10%|████████▎                                                                          | 1/10 [00:00<00:06,  1.49it/s]\u001b[A\u001b[A"
     ]
    },
    {
     "name": "stdout",
     "output_type": "stream",
     "text": [
      "\n",
      "Epoch: [1/10]\n",
      "Train loss is: 1.683010082244873\n",
      "Validation loss is: 1.7162301075458526\n",
      "Train accuracy is: 0.0 %\n",
      "Train accuracy for pixels is: 58.4375 %\n",
      "Validation accuracy is: 0.0 %\n",
      "Validation accuracy for pixels is: 53.395833333333336 %\n"
     ]
    },
    {
     "name": "stderr",
     "output_type": "stream",
     "text": [
      "\n",
      "\n",
      " 20%|████████████████▌                                                                  | 2/10 [00:01<00:05,  1.47it/s]\u001b[A\u001b[A"
     ]
    },
    {
     "name": "stdout",
     "output_type": "stream",
     "text": [
      "\n",
      "Epoch: [2/10]\n",
      "Train loss is: 1.6163830089569091\n",
      "Validation loss is: 1.6492734777927398\n",
      "Train accuracy is: 0.0 %\n",
      "Train accuracy for pixels is: 63.791666666666664 %\n",
      "Validation accuracy is: 0.0 %\n",
      "Validation accuracy for pixels is: 59.020833333333336 %\n"
     ]
    },
    {
     "name": "stderr",
     "output_type": "stream",
     "text": [
      "\n",
      "\n",
      " 30%|████████████████████████▉                                                          | 3/10 [00:02<00:04,  1.40it/s]\u001b[A\u001b[A"
     ]
    },
    {
     "name": "stdout",
     "output_type": "stream",
     "text": [
      "\n",
      "Epoch: [3/10]\n",
      "Train loss is: 1.5338430535793304\n",
      "Validation loss is: 1.5620126974582673\n",
      "Train accuracy is: 0.0 %\n",
      "Train accuracy for pixels is: 71.45833333333333 %\n",
      "Validation accuracy is: 0.0 %\n",
      "Validation accuracy for pixels is: 68.04166666666667 %\n"
     ]
    },
    {
     "name": "stderr",
     "output_type": "stream",
     "text": [
      "\n",
      "\n",
      " 40%|█████████████████████████████████▏                                                 | 4/10 [00:02<00:04,  1.40it/s]\u001b[A\u001b[A"
     ]
    },
    {
     "name": "stdout",
     "output_type": "stream",
     "text": [
      "\n",
      "Epoch: [4/10]\n",
      "Train loss is: 1.5015252435207367\n",
      "Validation loss is: 1.5319176733493804\n",
      "Train accuracy is: 0.0 %\n",
      "Train accuracy for pixels is: 75.4375 %\n",
      "Validation accuracy is: 0.0 %\n",
      "Validation accuracy for pixels is: 71.95833333333333 %\n"
     ]
    },
    {
     "name": "stderr",
     "output_type": "stream",
     "text": [
      "\n",
      "\n",
      " 50%|█████████████████████████████████████████▌                                         | 5/10 [00:03<00:03,  1.36it/s]\u001b[A\u001b[A"
     ]
    },
    {
     "name": "stdout",
     "output_type": "stream",
     "text": [
      "\n",
      "Epoch: [5/10]\n",
      "Train loss is: 1.4698666763305663\n",
      "Validation loss is: 1.4987240302562714\n",
      "Train accuracy is: 0.0 %\n",
      "Train accuracy for pixels is: 78.72916666666667 %\n",
      "Validation accuracy is: 0.0 %\n",
      "Validation accuracy for pixels is: 74.6875 %\n"
     ]
    },
    {
     "name": "stderr",
     "output_type": "stream",
     "text": [
      "\n",
      "\n",
      " 60%|█████████████████████████████████████████████████▊                                 | 6/10 [00:04<00:02,  1.34it/s]\u001b[A\u001b[A"
     ]
    },
    {
     "name": "stdout",
     "output_type": "stream",
     "text": [
      "\n",
      "Epoch: [6/10]\n",
      "Train loss is: 1.500153900384903\n",
      "Validation loss is: 1.5334752523899078\n",
      "Train accuracy is: 0.0 %\n",
      "Train accuracy for pixels is: 75.58333333333333 %\n",
      "Validation accuracy is: 0.0 %\n",
      "Validation accuracy for pixels is: 71.83333333333333 %\n"
     ]
    },
    {
     "name": "stderr",
     "output_type": "stream",
     "text": [
      "\n",
      "\n",
      " 70%|██████████████████████████████████████████████████████████                         | 7/10 [00:05<00:02,  1.30it/s]\u001b[A\u001b[A"
     ]
    },
    {
     "name": "stdout",
     "output_type": "stream",
     "text": [
      "\n",
      "Epoch: [7/10]\n",
      "Train loss is: 1.462197322845459\n",
      "Validation loss is: 1.4928768241405488\n",
      "Train accuracy is: 0.0 %\n",
      "Train accuracy for pixels is: 80.25 %\n",
      "Validation accuracy is: 0.0 %\n",
      "Validation accuracy for pixels is: 76.4375 %\n"
     ]
    },
    {
     "name": "stderr",
     "output_type": "stream",
     "text": [
      "\n",
      "\n",
      " 80%|██████████████████████████████████████████████████████████████████▍                | 8/10 [00:06<00:01,  1.30it/s]\u001b[A\u001b[A"
     ]
    },
    {
     "name": "stdout",
     "output_type": "stream",
     "text": [
      "\n",
      "Epoch: [8/10]\n",
      "Train loss is: 1.4514845204353333\n",
      "Validation loss is: 1.4822873175144196\n",
      "Train accuracy is: 0.0 %\n",
      "Train accuracy for pixels is: 80.375 %\n",
      "Validation accuracy is: 0.0 %\n",
      "Validation accuracy for pixels is: 77.4375 %\n"
     ]
    },
    {
     "name": "stderr",
     "output_type": "stream",
     "text": [
      "\n",
      "\n",
      " 90%|██████████████████████████████████████████████████████████████████████████▋        | 9/10 [00:06<00:00,  1.30it/s]\u001b[A\u001b[A"
     ]
    },
    {
     "name": "stdout",
     "output_type": "stream",
     "text": [
      "\n",
      "Epoch: [9/10]\n",
      "Train loss is: 1.4361257505416871\n",
      "Validation loss is: 1.4657190573215484\n",
      "Train accuracy is: 0.0 %\n",
      "Train accuracy for pixels is: 83.10416666666667 %\n",
      "Validation accuracy is: 0.0 %\n",
      "Validation accuracy for pixels is: 79.54166666666667 %\n"
     ]
    },
    {
     "name": "stderr",
     "output_type": "stream",
     "text": [
      "\n",
      "\n",
      "100%|██████████████████████████████████████████████████████████████████████████████████| 10/10 [00:07<00:00,  1.33it/s]\u001b[A\u001b[A"
     ]
    },
    {
     "name": "stdout",
     "output_type": "stream",
     "text": [
      "\n",
      "Epoch: [10/10]\n",
      "Train loss is: 1.4204637670516969\n",
      "Validation loss is: 1.4511282908916474\n",
      "Train accuracy is: 0.0 %\n",
      "Train accuracy for pixels is: 82.39583333333333 %\n",
      "Validation accuracy is: 0.0 %\n",
      "Validation accuracy for pixels is: 79.02083333333333 %\n"
     ]
    },
    {
     "name": "stderr",
     "output_type": "stream",
     "text": [
      "\n"
     ]
    }
   ],
   "source": [
    "LSTM_result_T1, LSTM__predictions_T1, LSTM_wrong_pred_T1 = evaluate_metrics(\n",
    "    task_builder(gener_one, 100, 100),criterion = nn.CrossEntropyLoss,\n",
    "    model_name = LSTM,lr = 0.1,n_epoch = 10,device = device, verbose = True\n",
    ")"
   ]
  },
  {
   "cell_type": "code",
   "execution_count": null,
   "metadata": {},
   "outputs": [],
   "source": []
  }
 ],
 "metadata": {
  "kernelspec": {
   "display_name": "Python 3",
   "language": "python",
   "name": "python3"
  }
 },
 "nbformat": 4,
 "nbformat_minor": 4
}
