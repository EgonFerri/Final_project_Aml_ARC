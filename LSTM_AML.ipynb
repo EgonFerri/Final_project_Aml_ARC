{
  "nbformat": 4,
  "nbformat_minor": 0,
  "metadata": {
    "colab": {
      "name": "LSTM_AML.ipynb",
      "provenance": []
    },
    "kernelspec": {
      "name": "python3",
      "display_name": "Python 3"
    },
    "accelerator": "GPU",
    "widgets": {
      "application/vnd.jupyter.widget-state+json": {
        "ef0371ff33be4342bc880ecd8b43dc52": {
          "model_module": "@jupyter-widgets/controls",
          "model_name": "HBoxModel",
          "state": {
            "_view_name": "HBoxView",
            "_dom_classes": [],
            "_model_name": "HBoxModel",
            "_view_module": "@jupyter-widgets/controls",
            "_model_module_version": "1.5.0",
            "_view_count": null,
            "_view_module_version": "1.5.0",
            "box_style": "",
            "layout": "IPY_MODEL_89abd86ebdf549448915dc6165efa679",
            "_model_module": "@jupyter-widgets/controls",
            "children": [
              "IPY_MODEL_df929a44785248fe92930905bda0bc66",
              "IPY_MODEL_99586bb13dd84d569ca493b18fbc67f5"
            ]
          }
        },
        "89abd86ebdf549448915dc6165efa679": {
          "model_module": "@jupyter-widgets/base",
          "model_name": "LayoutModel",
          "state": {
            "_view_name": "LayoutView",
            "grid_template_rows": null,
            "right": null,
            "justify_content": null,
            "_view_module": "@jupyter-widgets/base",
            "overflow": null,
            "_model_module_version": "1.2.0",
            "_view_count": null,
            "flex_flow": null,
            "width": null,
            "min_width": null,
            "border": null,
            "align_items": null,
            "bottom": null,
            "_model_module": "@jupyter-widgets/base",
            "top": null,
            "grid_column": null,
            "overflow_y": null,
            "overflow_x": null,
            "grid_auto_flow": null,
            "grid_area": null,
            "grid_template_columns": null,
            "flex": null,
            "_model_name": "LayoutModel",
            "justify_items": null,
            "grid_row": null,
            "max_height": null,
            "align_content": null,
            "visibility": null,
            "align_self": null,
            "height": null,
            "min_height": null,
            "padding": null,
            "grid_auto_rows": null,
            "grid_gap": null,
            "max_width": null,
            "order": null,
            "_view_module_version": "1.2.0",
            "grid_template_areas": null,
            "object_position": null,
            "object_fit": null,
            "grid_auto_columns": null,
            "margin": null,
            "display": null,
            "left": null
          }
        },
        "df929a44785248fe92930905bda0bc66": {
          "model_module": "@jupyter-widgets/controls",
          "model_name": "FloatProgressModel",
          "state": {
            "_view_name": "ProgressView",
            "style": "IPY_MODEL_22861ad4fffa4cbbb7ef8f8b8a9b74cf",
            "_dom_classes": [],
            "description": "100%",
            "_model_name": "FloatProgressModel",
            "bar_style": "success",
            "max": 1,
            "_view_module": "@jupyter-widgets/controls",
            "_model_module_version": "1.5.0",
            "value": 1,
            "_view_count": null,
            "_view_module_version": "1.5.0",
            "orientation": "horizontal",
            "min": 0,
            "description_tooltip": null,
            "_model_module": "@jupyter-widgets/controls",
            "layout": "IPY_MODEL_e8ce998817184e11ab680c1dd79f2a5d"
          }
        },
        "99586bb13dd84d569ca493b18fbc67f5": {
          "model_module": "@jupyter-widgets/controls",
          "model_name": "HTMLModel",
          "state": {
            "_view_name": "HTMLView",
            "style": "IPY_MODEL_7571d278be9145c6a121e438e8306315",
            "_dom_classes": [],
            "description": "",
            "_model_name": "HTMLModel",
            "placeholder": "​",
            "_view_module": "@jupyter-widgets/controls",
            "_model_module_version": "1.5.0",
            "value": " 1/1 [00:06&lt;00:00,  6.41s/it]",
            "_view_count": null,
            "_view_module_version": "1.5.0",
            "description_tooltip": null,
            "_model_module": "@jupyter-widgets/controls",
            "layout": "IPY_MODEL_31f666d4f4874934bc513c375088488f"
          }
        },
        "22861ad4fffa4cbbb7ef8f8b8a9b74cf": {
          "model_module": "@jupyter-widgets/controls",
          "model_name": "ProgressStyleModel",
          "state": {
            "_view_name": "StyleView",
            "_model_name": "ProgressStyleModel",
            "description_width": "initial",
            "_view_module": "@jupyter-widgets/base",
            "_model_module_version": "1.5.0",
            "_view_count": null,
            "_view_module_version": "1.2.0",
            "bar_color": null,
            "_model_module": "@jupyter-widgets/controls"
          }
        },
        "e8ce998817184e11ab680c1dd79f2a5d": {
          "model_module": "@jupyter-widgets/base",
          "model_name": "LayoutModel",
          "state": {
            "_view_name": "LayoutView",
            "grid_template_rows": null,
            "right": null,
            "justify_content": null,
            "_view_module": "@jupyter-widgets/base",
            "overflow": null,
            "_model_module_version": "1.2.0",
            "_view_count": null,
            "flex_flow": null,
            "width": null,
            "min_width": null,
            "border": null,
            "align_items": null,
            "bottom": null,
            "_model_module": "@jupyter-widgets/base",
            "top": null,
            "grid_column": null,
            "overflow_y": null,
            "overflow_x": null,
            "grid_auto_flow": null,
            "grid_area": null,
            "grid_template_columns": null,
            "flex": null,
            "_model_name": "LayoutModel",
            "justify_items": null,
            "grid_row": null,
            "max_height": null,
            "align_content": null,
            "visibility": null,
            "align_self": null,
            "height": null,
            "min_height": null,
            "padding": null,
            "grid_auto_rows": null,
            "grid_gap": null,
            "max_width": null,
            "order": null,
            "_view_module_version": "1.2.0",
            "grid_template_areas": null,
            "object_position": null,
            "object_fit": null,
            "grid_auto_columns": null,
            "margin": null,
            "display": null,
            "left": null
          }
        },
        "7571d278be9145c6a121e438e8306315": {
          "model_module": "@jupyter-widgets/controls",
          "model_name": "DescriptionStyleModel",
          "state": {
            "_view_name": "StyleView",
            "_model_name": "DescriptionStyleModel",
            "description_width": "",
            "_view_module": "@jupyter-widgets/base",
            "_model_module_version": "1.5.0",
            "_view_count": null,
            "_view_module_version": "1.2.0",
            "_model_module": "@jupyter-widgets/controls"
          }
        },
        "31f666d4f4874934bc513c375088488f": {
          "model_module": "@jupyter-widgets/base",
          "model_name": "LayoutModel",
          "state": {
            "_view_name": "LayoutView",
            "grid_template_rows": null,
            "right": null,
            "justify_content": null,
            "_view_module": "@jupyter-widgets/base",
            "overflow": null,
            "_model_module_version": "1.2.0",
            "_view_count": null,
            "flex_flow": null,
            "width": null,
            "min_width": null,
            "border": null,
            "align_items": null,
            "bottom": null,
            "_model_module": "@jupyter-widgets/base",
            "top": null,
            "grid_column": null,
            "overflow_y": null,
            "overflow_x": null,
            "grid_auto_flow": null,
            "grid_area": null,
            "grid_template_columns": null,
            "flex": null,
            "_model_name": "LayoutModel",
            "justify_items": null,
            "grid_row": null,
            "max_height": null,
            "align_content": null,
            "visibility": null,
            "align_self": null,
            "height": null,
            "min_height": null,
            "padding": null,
            "grid_auto_rows": null,
            "grid_gap": null,
            "max_width": null,
            "order": null,
            "_view_module_version": "1.2.0",
            "grid_template_areas": null,
            "object_position": null,
            "object_fit": null,
            "grid_auto_columns": null,
            "margin": null,
            "display": null,
            "left": null
          }
        },
        "ce279008c5d14f02b5e79bb692ed390c": {
          "model_module": "@jupyter-widgets/controls",
          "model_name": "HBoxModel",
          "state": {
            "_view_name": "HBoxView",
            "_dom_classes": [],
            "_model_name": "HBoxModel",
            "_view_module": "@jupyter-widgets/controls",
            "_model_module_version": "1.5.0",
            "_view_count": null,
            "_view_module_version": "1.5.0",
            "box_style": "",
            "layout": "IPY_MODEL_122f556cec31419ebbf2f3bd7a3b1a1c",
            "_model_module": "@jupyter-widgets/controls",
            "children": [
              "IPY_MODEL_4cc73b003d774c70a008829b05813345",
              "IPY_MODEL_3462e085f3fd4fbc8518c23a484f637c"
            ]
          }
        },
        "122f556cec31419ebbf2f3bd7a3b1a1c": {
          "model_module": "@jupyter-widgets/base",
          "model_name": "LayoutModel",
          "state": {
            "_view_name": "LayoutView",
            "grid_template_rows": null,
            "right": null,
            "justify_content": null,
            "_view_module": "@jupyter-widgets/base",
            "overflow": null,
            "_model_module_version": "1.2.0",
            "_view_count": null,
            "flex_flow": null,
            "width": null,
            "min_width": null,
            "border": null,
            "align_items": null,
            "bottom": null,
            "_model_module": "@jupyter-widgets/base",
            "top": null,
            "grid_column": null,
            "overflow_y": null,
            "overflow_x": null,
            "grid_auto_flow": null,
            "grid_area": null,
            "grid_template_columns": null,
            "flex": null,
            "_model_name": "LayoutModel",
            "justify_items": null,
            "grid_row": null,
            "max_height": null,
            "align_content": null,
            "visibility": null,
            "align_self": null,
            "height": null,
            "min_height": null,
            "padding": null,
            "grid_auto_rows": null,
            "grid_gap": null,
            "max_width": null,
            "order": null,
            "_view_module_version": "1.2.0",
            "grid_template_areas": null,
            "object_position": null,
            "object_fit": null,
            "grid_auto_columns": null,
            "margin": null,
            "display": null,
            "left": null
          }
        },
        "4cc73b003d774c70a008829b05813345": {
          "model_module": "@jupyter-widgets/controls",
          "model_name": "FloatProgressModel",
          "state": {
            "_view_name": "ProgressView",
            "style": "IPY_MODEL_9f522a390da548e99686b6ba3740981e",
            "_dom_classes": [],
            "description": "100%",
            "_model_name": "FloatProgressModel",
            "bar_style": "success",
            "max": 262,
            "_view_module": "@jupyter-widgets/controls",
            "_model_module_version": "1.5.0",
            "value": 262,
            "_view_count": null,
            "_view_module_version": "1.5.0",
            "orientation": "horizontal",
            "min": 0,
            "description_tooltip": null,
            "_model_module": "@jupyter-widgets/controls",
            "layout": "IPY_MODEL_0bc9db9496584ebcaaeab88db376cd06"
          }
        },
        "3462e085f3fd4fbc8518c23a484f637c": {
          "model_module": "@jupyter-widgets/controls",
          "model_name": "HTMLModel",
          "state": {
            "_view_name": "HTMLView",
            "style": "IPY_MODEL_c761636f591f4a39ab27eb34f6c69063",
            "_dom_classes": [],
            "description": "",
            "_model_name": "HTMLModel",
            "placeholder": "​",
            "_view_module": "@jupyter-widgets/controls",
            "_model_module_version": "1.5.0",
            "value": " 262/262 [10:02&lt;00:00,  2.30s/it]",
            "_view_count": null,
            "_view_module_version": "1.5.0",
            "description_tooltip": null,
            "_model_module": "@jupyter-widgets/controls",
            "layout": "IPY_MODEL_6083e525c0314f86976da1c96dcfa336"
          }
        },
        "9f522a390da548e99686b6ba3740981e": {
          "model_module": "@jupyter-widgets/controls",
          "model_name": "ProgressStyleModel",
          "state": {
            "_view_name": "StyleView",
            "_model_name": "ProgressStyleModel",
            "description_width": "initial",
            "_view_module": "@jupyter-widgets/base",
            "_model_module_version": "1.5.0",
            "_view_count": null,
            "_view_module_version": "1.2.0",
            "bar_color": null,
            "_model_module": "@jupyter-widgets/controls"
          }
        },
        "0bc9db9496584ebcaaeab88db376cd06": {
          "model_module": "@jupyter-widgets/base",
          "model_name": "LayoutModel",
          "state": {
            "_view_name": "LayoutView",
            "grid_template_rows": null,
            "right": null,
            "justify_content": null,
            "_view_module": "@jupyter-widgets/base",
            "overflow": null,
            "_model_module_version": "1.2.0",
            "_view_count": null,
            "flex_flow": null,
            "width": null,
            "min_width": null,
            "border": null,
            "align_items": null,
            "bottom": null,
            "_model_module": "@jupyter-widgets/base",
            "top": null,
            "grid_column": null,
            "overflow_y": null,
            "overflow_x": null,
            "grid_auto_flow": null,
            "grid_area": null,
            "grid_template_columns": null,
            "flex": null,
            "_model_name": "LayoutModel",
            "justify_items": null,
            "grid_row": null,
            "max_height": null,
            "align_content": null,
            "visibility": null,
            "align_self": null,
            "height": null,
            "min_height": null,
            "padding": null,
            "grid_auto_rows": null,
            "grid_gap": null,
            "max_width": null,
            "order": null,
            "_view_module_version": "1.2.0",
            "grid_template_areas": null,
            "object_position": null,
            "object_fit": null,
            "grid_auto_columns": null,
            "margin": null,
            "display": null,
            "left": null
          }
        },
        "c761636f591f4a39ab27eb34f6c69063": {
          "model_module": "@jupyter-widgets/controls",
          "model_name": "DescriptionStyleModel",
          "state": {
            "_view_name": "StyleView",
            "_model_name": "DescriptionStyleModel",
            "description_width": "",
            "_view_module": "@jupyter-widgets/base",
            "_model_module_version": "1.5.0",
            "_view_count": null,
            "_view_module_version": "1.2.0",
            "_model_module": "@jupyter-widgets/controls"
          }
        },
        "6083e525c0314f86976da1c96dcfa336": {
          "model_module": "@jupyter-widgets/base",
          "model_name": "LayoutModel",
          "state": {
            "_view_name": "LayoutView",
            "grid_template_rows": null,
            "right": null,
            "justify_content": null,
            "_view_module": "@jupyter-widgets/base",
            "overflow": null,
            "_model_module_version": "1.2.0",
            "_view_count": null,
            "flex_flow": null,
            "width": null,
            "min_width": null,
            "border": null,
            "align_items": null,
            "bottom": null,
            "_model_module": "@jupyter-widgets/base",
            "top": null,
            "grid_column": null,
            "overflow_y": null,
            "overflow_x": null,
            "grid_auto_flow": null,
            "grid_area": null,
            "grid_template_columns": null,
            "flex": null,
            "_model_name": "LayoutModel",
            "justify_items": null,
            "grid_row": null,
            "max_height": null,
            "align_content": null,
            "visibility": null,
            "align_self": null,
            "height": null,
            "min_height": null,
            "padding": null,
            "grid_auto_rows": null,
            "grid_gap": null,
            "max_width": null,
            "order": null,
            "_view_module_version": "1.2.0",
            "grid_template_areas": null,
            "object_position": null,
            "object_fit": null,
            "grid_auto_columns": null,
            "margin": null,
            "display": null,
            "left": null
          }
        }
      }
    }
  },
  "cells": [
    {
      "cell_type": "code",
      "metadata": {
        "id": "zSB7rLQh2A1k",
        "colab_type": "code",
        "colab": {}
      },
      "source": [
        "import numpy as np              #numpy library is used to work with multidimensional array.\n",
        "import pandas as pd             #panda used for data manipulation and analysis.                \n",
        "import os                       #os library is used for loading file to use in the program\n",
        "import json                     #json library parses json into a string or dict, and convert string or dict to json file.\n",
        "from pathlib import Path        #support path\n",
        "import matplotlib.pyplot as plt #support ploting a figure\n",
        "from matplotlib import colors   #colors support converting number or argument into colors\n",
        "from tqdm.notebook import tqdm\n",
        "from torch import FloatTensor, LongTensor\n",
        "import torch\n",
        "from torch.nn import CrossEntropyLoss\n",
        "from torch.autograd import Variable\n",
        "from torch.optim import Adam\n",
        "import torch.nn as nn"
      ],
      "execution_count": 0,
      "outputs": []
    },
    {
      "cell_type": "code",
      "metadata": {
        "id": "pkhiZGMN3YWO",
        "colab_type": "code",
        "colab": {}
      },
      "source": [
        "is_cuda = torch.cuda.is_available()\n",
        "if is_cuda:\n",
        "    device = torch.device(\"cuda\")\n",
        "else:\n",
        "    device = torch.device(\"cpu\")"
      ],
      "execution_count": 0,
      "outputs": []
    },
    {
      "cell_type": "code",
      "metadata": {
        "id": "JTOVzSZt2TWm",
        "colab_type": "code",
        "colab": {}
      },
      "source": [
        "# get the path for training_task, evaluation_task, and test_task\n",
        "data_path = Path('./data')\n",
        "#data_path = Path('Final_data/Final_data/')\n",
        "training_path = data_path / 'training'\n",
        "evaluation_path = data_path / 'evaluation'\n",
        "test_path = data_path / 'test'\n",
        "\n",
        "#from the path above, we load the tests file's directory into our training_tasks, evaluation_tasks, and test_tasks variables\n",
        "#the sorted() function is just for the list of directory to maintain some order\n",
        "training_tasks = sorted(os.listdir(training_path))\n",
        "evaluation_tasks = sorted(os.listdir(evaluation_path))\n",
        "test_tasks = sorted(os.listdir(test_path))\n",
        "\n",
        "#Get the first file of the training_tasks\n",
        "training_task_file = str(training_path / training_tasks[0])\n",
        "\n",
        "#Get the first file of the evaluation_tasks\n",
        "evaluation_task_file = str(evaluation_path / evaluation_tasks[0])\n",
        "\n",
        "#Get the first file of the test_tasks\n",
        "test_task_file = str(test_path / test_tasks[0])\n",
        "\n",
        "#open the file and load it\n",
        "with open(training_task_file, 'r') as f:   \n",
        "    #can change training_task_file to evaluation_task_file or test_task_file to have a look at evaluation file or test file\n",
        "    task = json.load(f)\n",
        "\n",
        "# The number of \"train\" and \"test\" in one training example.\n",
        "n_train_pairs = len(task['train'])\n",
        "n_test_pairs = len(task['test'])"
      ],
      "execution_count": 0,
      "outputs": []
    },
    {
      "cell_type": "code",
      "metadata": {
        "id": "HvxmAOzn2pU8",
        "colab_type": "code",
        "colab": {}
      },
      "source": [
        "def get_task(subset='train', index=0, print_path=False):\n",
        "    if subset=='train':\n",
        "        task_file = str(training_path / training_tasks[index])\n",
        "    elif subset=='eval':\n",
        "        task_file = str(evaluation_path / evaluation_tasks[index])\n",
        "    else:\n",
        "        task_file = str(test_path / test_tasks[index])\n",
        "    with open(task_file, 'r') as f:   \n",
        "        task = json.load(f)\n",
        "    if print_path==True:\n",
        "        print(task_file)\n",
        "    return(task)\n",
        "\n",
        "def inp2img(inp):\n",
        "    inp = np.array(inp)\n",
        "    img = np.full((10, inp.shape[0], inp.shape[1]), 0, dtype=np.uint8)\n",
        "    for i in range(10):\n",
        "        img[i] = (inp==i)\n",
        "    return img\n",
        "\n",
        "\n",
        "cmap = colors.ListedColormap(\n",
        "  ['#000000', '#0074D9','#FF4136','#2ECC40','#FFDC00',\n",
        "    '#AAAAAA', '#F012BE', '#FF851B', '#7FDBFF', '#870C25'])\n",
        "norm = colors.Normalize(vmin=0, vmax=9)"
      ],
      "execution_count": 0,
      "outputs": []
    },
    {
      "cell_type": "code",
      "metadata": {
        "id": "xMs33Kk33vcK",
        "colab_type": "code",
        "colab": {}
      },
      "source": [
        "class LSTM(nn.Module):\n",
        "  def __init__(self):\n",
        "    super(LSTM, self).__init__()\n",
        "    \n",
        "    self.lstm = nn.LSTM(10, 10, dropout=0, batch_first=True)\n",
        "    self.linear = nn.Linear(10, 10)    \n",
        "\n",
        "  def forward(self, x):  \n",
        "    x, h = self.lstm(x)\n",
        "    x = self.linear(x)\n",
        "    return x"
      ],
      "execution_count": 0,
      "outputs": []
    },
    {
      "cell_type": "code",
      "metadata": {
        "id": "Q47Sfh7Y4Yso",
        "colab_type": "code",
        "colab": {
          "base_uri": "https://localhost:8080/",
          "height": 55
        },
        "outputId": "d6b8289d-687a-4190-abcc-6b6fc47c7c70"
      },
      "source": [
        "# Task with input and output of the same shape\n",
        "same_shape = []\n",
        "for i in range(0, 400):\n",
        "    task = get_task('train', i)\n",
        "    if np.array(task['train'][0]['input']).shape == np.array(task['train'][0]['output']).shape:\n",
        "      same_shape.append(i)\n",
        "print(same_shape)"
      ],
      "execution_count": 7,
      "outputs": [
        {
          "output_type": "stream",
          "text": [
            "[1, 3, 4, 6, 7, 8, 9, 10, 11, 12, 14, 15, 16, 17, 19, 22, 23, 24, 26, 27, 29, 31, 32, 33, 34, 36, 39, 40, 41, 42, 43, 44, 46, 49, 50, 51, 52, 53, 54, 57, 58, 59, 60, 61, 62, 63, 65, 67, 68, 69, 70, 72, 73, 74, 75, 76, 77, 79, 80, 81, 83, 84, 85, 86, 88, 89, 91, 92, 93, 94, 96, 97, 98, 100, 101, 104, 109, 111, 112, 116, 117, 118, 119, 121, 124, 125, 126, 127, 128, 130, 131, 132, 135, 136, 138, 139, 140, 142, 144, 146, 147, 149, 150, 153, 154, 155, 156, 157, 159, 160, 161, 162, 164, 165, 166, 167, 168, 170, 172, 174, 175, 178, 180, 181, 185, 186, 189, 190, 191, 192, 195, 196, 197, 198, 199, 201, 202, 203, 205, 207, 211, 213, 214, 216, 218, 219, 221, 223, 224, 225, 227, 228, 229, 231, 233, 236, 239, 240, 242, 244, 245, 247, 249, 250, 251, 253, 254, 255, 257, 259, 260, 261, 264, 265, 266, 267, 269, 271, 272, 275, 276, 277, 278, 279, 280, 281, 282, 283, 284, 285, 286, 287, 291, 292, 293, 296, 297, 298, 300, 301, 302, 304, 305, 308, 311, 312, 313, 316, 319, 321, 322, 323, 327, 328, 329, 330, 331, 332, 334, 335, 336, 337, 339, 340, 341, 342, 343, 344, 347, 348, 349, 351, 352, 353, 355, 356, 357, 358, 360, 361, 362, 363, 366, 367, 368, 369, 370, 372, 373, 374, 377, 378, 379, 380, 381, 382, 384, 386, 388, 389, 391, 396]\n"
          ],
          "name": "stdout"
        }
      ]
    },
    {
      "cell_type": "code",
      "metadata": {
        "id": "jMhmkOJq5U5u",
        "colab_type": "code",
        "colab": {}
      },
      "source": [
        "class TaskSolver:        \n",
        "    def train(self, task_train, n_epoch=30):\n",
        "        \"\"\"basic pytorch train loop\"\"\"\n",
        "        self.net = LSTM()\n",
        "        \n",
        "        criterion = CrossEntropyLoss()\n",
        "        optimizer = Adam(self.net.parameters(), lr = 0.1)\n",
        "        \n",
        "        for epoch in range(30):\n",
        "            for sample in task_train:\n",
        "                img = FloatTensor(inp2img(sample['input']))\n",
        "                sh1, sh2, sh3 = img.shape[0], img.shape[1], img.shape[2]\n",
        "                img_input = img.view(sh1, -1).transpose(0,1).unsqueeze(0)\n",
        "                labels = LongTensor(sample['output']).unsqueeze(dim=0)\n",
        "\n",
        "                optimizer.zero_grad()\n",
        "\n",
        "                outputs = self.net(img_input)\n",
        "                outputs = outputs.transpose(1,2).view(1, sh1, sh2, sh3)\n",
        "\n",
        "                loss = criterion(outputs, labels)\n",
        "                loss.backward()\n",
        "                optimizer.step()        \n",
        "        return self\n",
        "            \n",
        "    def predict(self, task_test):\n",
        "        predictions = []\n",
        "        with torch.no_grad():\n",
        "            for sample in task_test:\n",
        "                img = FloatTensor(inp2img(sample['input']))\n",
        "                sh1, sh2, sh3 = img.shape[0], img.shape[1], img.shape[2]\n",
        "                img_input = img.view(sh1, -1).transpose(0,1).unsqueeze(0)\n",
        "                outputs = self.net(img_input)\n",
        "                pred = outputs.squeeze(0).transpose(0,1).view(sh1, sh2, sh3).cpu().numpy().argmax(0)\n",
        "                predictions.append(pred)                                     \n",
        "        return predictions\n",
        "\n",
        "def calk_score(task_test, predict):\n",
        "    return [int(np.equal(sample['output'], pred).all()) for sample, pred in zip(task_test, predict)]\n",
        "\n",
        "def evaluate(same_shape):\n",
        "    ts = TaskSolver()\n",
        "    result = []\n",
        "    predictions = []\n",
        "    for i in tqdm(same_shape):\n",
        "        task = get_task('train', i)\n",
        "        ts.train(task['train'])\n",
        "        pred = ts.predict(task['test'])\n",
        "        score = calk_score(task['test'], pred)\n",
        "        predictions.append(pred)\n",
        "        result.append(score)       \n",
        "    return result, predictions"
      ],
      "execution_count": 0,
      "outputs": []
    },
    {
      "cell_type": "code",
      "metadata": {
        "id": "KcSbZ_be6qFM",
        "colab_type": "code",
        "colab": {
          "base_uri": "https://localhost:8080/",
          "height": 279,
          "referenced_widgets": [
            "ef0371ff33be4342bc880ecd8b43dc52",
            "89abd86ebdf549448915dc6165efa679",
            "df929a44785248fe92930905bda0bc66",
            "99586bb13dd84d569ca493b18fbc67f5",
            "22861ad4fffa4cbbb7ef8f8b8a9b74cf",
            "e8ce998817184e11ab680c1dd79f2a5d",
            "7571d278be9145c6a121e438e8306315",
            "31f666d4f4874934bc513c375088488f"
          ]
        },
        "outputId": "710c9dd3-0881-4258-cd63-33379cc98930"
      },
      "source": [
        "# Training on a single task \n",
        "task = get_task('train', 4) # just change the integer (i.e. index) tp check other tasks\n",
        "train_result, train_predictions = evaluate([4])\n",
        "\n",
        "fig, axs = plt.subplots(1, 3, figsize=(10,10))\n",
        "plt.subplots_adjust(wspace=0.2, hspace=0)\n",
        "axs[0].imshow(task['test'][0]['input'], cmap=cmap, norm=norm) # test input\n",
        "axs[1].imshow(task['test'][0]['output'], cmap=cmap, norm=norm) # test output\n",
        "axs[2].imshow(train_predictions[0][0], cmap=cmap, norm=norm) # test prediction"
      ],
      "execution_count": 26,
      "outputs": [
        {
          "output_type": "display_data",
          "data": {
            "application/vnd.jupyter.widget-view+json": {
              "model_id": "ef0371ff33be4342bc880ecd8b43dc52",
              "version_minor": 0,
              "version_major": 2
            },
            "text/plain": [
              "HBox(children=(FloatProgress(value=0.0, max=1.0), HTML(value='')))"
            ]
          },
          "metadata": {
            "tags": []
          }
        },
        {
          "output_type": "stream",
          "text": [
            "\n"
          ],
          "name": "stdout"
        },
        {
          "output_type": "execute_result",
          "data": {
            "text/plain": [
              "<matplotlib.image.AxesImage at 0x7f1f97578ef0>"
            ]
          },
          "metadata": {
            "tags": []
          },
          "execution_count": 26
        },
        {
          "output_type": "display_data",
          "data": {
            "image/png": "[encoded data removed]",
            "text/plain": [
              "<Figure size 720x720 with 3 Axes>"
            ]
          },
          "metadata": {
            "tags": [],
            "needs_background": "light"
          }
        }
      ]
    },
    {
      "cell_type": "code",
      "metadata": {
        "id": "FpNSJKq99Y1q",
        "colab_type": "code",
        "colab": {
          "base_uri": "https://localhost:8080/",
          "height": 84,
          "referenced_widgets": [
            "ce279008c5d14f02b5e79bb692ed390c",
            "122f556cec31419ebbf2f3bd7a3b1a1c",
            "4cc73b003d774c70a008829b05813345",
            "3462e085f3fd4fbc8518c23a484f637c",
            "9f522a390da548e99686b6ba3740981e",
            "0bc9db9496584ebcaaeab88db376cd06",
            "c761636f591f4a39ab27eb34f6c69063",
            "6083e525c0314f86976da1c96dcfa336"
          ]
        },
        "outputId": "5f2de562-edad-481a-de0c-4acc7dac2a8e"
      },
      "source": [
        "# Training on all the task in which input and output have the same shape\n",
        "\n",
        "train_result, train_predictions = evaluate(same_shape)\n",
        "train_solved = [any(score) for score in train_result]\n",
        "\n",
        "total = sum([len(score) for score in train_result])\n",
        "print(f\"solved : {sum(train_solved)} from {total} ({sum(train_solved)/total})\")"
      ],
      "execution_count": 27,
      "outputs": [
        {
          "output_type": "display_data",
          "data": {
            "application/vnd.jupyter.widget-view+json": {
              "model_id": "ce279008c5d14f02b5e79bb692ed390c",
              "version_minor": 0,
              "version_major": 2
            },
            "text/plain": [
              "HBox(children=(FloatProgress(value=0.0, max=262.0), HTML(value='')))"
            ]
          },
          "metadata": {
            "tags": []
          }
        },
        {
          "output_type": "stream",
          "text": [
            "\n",
            "solved : 3 from 268 (0.011194029850746268)\n"
          ],
          "name": "stdout"
        }
      ]
    }
  ]
}