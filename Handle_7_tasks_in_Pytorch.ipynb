{
  "nbformat": 4,
  "nbformat_minor": 0,
  "metadata": {
    "colab": {
      "name": "Handle 7 tasks in Pytorch.ipynb",
      "provenance": [],
      "collapsed_sections": [
        "fm36SUYadahG",
        "dlq9pdC1VtKS",
        "wZ7Lx1Sr_pwa",
        "NW8_D-hn4vOc",
        "tm1q-uMC5E9B",
        "EHGk631V7Mrw",
        "tsHmyu3y-Ucu",
        "2lTCXqWXA3nW",
        "dqE8xb-vBHps",
        "5ehF8Qp_CzEZ",
        "4TY0FCywFu-T"
      ]
    },
    "kernelspec": {
      "name": "python3",
      "display_name": "Python 3"
    },
    "widgets": {
      "application/vnd.jupyter.widget-state+json": {
        "e55c779ba9ad43ca88849e0dfaa5d4fe": {
          "model_module": "@jupyter-widgets/controls",
          "model_name": "HBoxModel",
          "state": {
            "_view_name": "HBoxView",
            "_dom_classes": [],
            "_model_name": "HBoxModel",
            "_view_module": "@jupyter-widgets/controls",
            "_model_module_version": "1.5.0",
            "_view_count": null,
            "_view_module_version": "1.5.0",
            "box_style": "",
            "layout": "IPY_MODEL_7582d73506d44873b7902db111e43bb3",
            "_model_module": "@jupyter-widgets/controls",
            "children": [
              "IPY_MODEL_63fae688ffc142e0803c670e5f80f943",
              "IPY_MODEL_d21213fec5844b1d98d43fc5e890e3ec"
            ]
          }
        },
        "7582d73506d44873b7902db111e43bb3": {
          "model_module": "@jupyter-widgets/base",
          "model_name": "LayoutModel",
          "state": {
            "_view_name": "LayoutView",
            "grid_template_rows": null,
            "right": null,
            "justify_content": null,
            "_view_module": "@jupyter-widgets/base",
            "overflow": null,
            "_model_module_version": "1.2.0",
            "_view_count": null,
            "flex_flow": null,
            "width": null,
            "min_width": null,
            "border": null,
            "align_items": null,
            "bottom": null,
            "_model_module": "@jupyter-widgets/base",
            "top": null,
            "grid_column": null,
            "overflow_y": null,
            "overflow_x": null,
            "grid_auto_flow": null,
            "grid_area": null,
            "grid_template_columns": null,
            "flex": null,
            "_model_name": "LayoutModel",
            "justify_items": null,
            "grid_row": null,
            "max_height": null,
            "align_content": null,
            "visibility": null,
            "align_self": null,
            "height": null,
            "min_height": null,
            "padding": null,
            "grid_auto_rows": null,
            "grid_gap": null,
            "max_width": null,
            "order": null,
            "_view_module_version": "1.2.0",
            "grid_template_areas": null,
            "object_position": null,
            "object_fit": null,
            "grid_auto_columns": null,
            "margin": null,
            "display": null,
            "left": null
          }
        },
        "63fae688ffc142e0803c670e5f80f943": {
          "model_module": "@jupyter-widgets/controls",
          "model_name": "FloatProgressModel",
          "state": {
            "_view_name": "ProgressView",
            "style": "IPY_MODEL_68b37b220cbd4a249710cbeb2f54ef8a",
            "_dom_classes": [],
            "description": "100%",
            "_model_name": "FloatProgressModel",
            "bar_style": "success",
            "max": 10,
            "_view_module": "@jupyter-widgets/controls",
            "_model_module_version": "1.5.0",
            "value": 10,
            "_view_count": null,
            "_view_module_version": "1.5.0",
            "orientation": "horizontal",
            "min": 0,
            "description_tooltip": null,
            "_model_module": "@jupyter-widgets/controls",
            "layout": "IPY_MODEL_5e5755c1bce14d8eb63db265ea28346c"
          }
        },
        "d21213fec5844b1d98d43fc5e890e3ec": {
          "model_module": "@jupyter-widgets/controls",
          "model_name": "HTMLModel",
          "state": {
            "_view_name": "HTMLView",
            "style": "IPY_MODEL_2ffbf083fdfa43ff92695e45f61ea499",
            "_dom_classes": [],
            "description": "",
            "_model_name": "HTMLModel",
            "placeholder": "​",
            "_view_module": "@jupyter-widgets/controls",
            "_model_module_version": "1.5.0",
            "value": " 10/10 [07:28&lt;00:00, 44.84s/it]",
            "_view_count": null,
            "_view_module_version": "1.5.0",
            "description_tooltip": null,
            "_model_module": "@jupyter-widgets/controls",
            "layout": "IPY_MODEL_54cd6627a830440aa2be93ca78898770"
          }
        },
        "68b37b220cbd4a249710cbeb2f54ef8a": {
          "model_module": "@jupyter-widgets/controls",
          "model_name": "ProgressStyleModel",
          "state": {
            "_view_name": "StyleView",
            "_model_name": "ProgressStyleModel",
            "description_width": "initial",
            "_view_module": "@jupyter-widgets/base",
            "_model_module_version": "1.5.0",
            "_view_count": null,
            "_view_module_version": "1.2.0",
            "bar_color": null,
            "_model_module": "@jupyter-widgets/controls"
          }
        },
        "5e5755c1bce14d8eb63db265ea28346c": {
          "model_module": "@jupyter-widgets/base",
          "model_name": "LayoutModel",
          "state": {
            "_view_name": "LayoutView",
            "grid_template_rows": null,
            "right": null,
            "justify_content": null,
            "_view_module": "@jupyter-widgets/base",
            "overflow": null,
            "_model_module_version": "1.2.0",
            "_view_count": null,
            "flex_flow": null,
            "width": null,
            "min_width": null,
            "border": null,
            "align_items": null,
            "bottom": null,
            "_model_module": "@jupyter-widgets/base",
            "top": null,
            "grid_column": null,
            "overflow_y": null,
            "overflow_x": null,
            "grid_auto_flow": null,
            "grid_area": null,
            "grid_template_columns": null,
            "flex": null,
            "_model_name": "LayoutModel",
            "justify_items": null,
            "grid_row": null,
            "max_height": null,
            "align_content": null,
            "visibility": null,
            "align_self": null,
            "height": null,
            "min_height": null,
            "padding": null,
            "grid_auto_rows": null,
            "grid_gap": null,
            "max_width": null,
            "order": null,
            "_view_module_version": "1.2.0",
            "grid_template_areas": null,
            "object_position": null,
            "object_fit": null,
            "grid_auto_columns": null,
            "margin": null,
            "display": null,
            "left": null
          }
        },
        "2ffbf083fdfa43ff92695e45f61ea499": {
          "model_module": "@jupyter-widgets/controls",
          "model_name": "DescriptionStyleModel",
          "state": {
            "_view_name": "StyleView",
            "_model_name": "DescriptionStyleModel",
            "description_width": "",
            "_view_module": "@jupyter-widgets/base",
            "_model_module_version": "1.5.0",
            "_view_count": null,
            "_view_module_version": "1.2.0",
            "_model_module": "@jupyter-widgets/controls"
          }
        },
        "54cd6627a830440aa2be93ca78898770": {
          "model_module": "@jupyter-widgets/base",
          "model_name": "LayoutModel",
          "state": {
            "_view_name": "LayoutView",
            "grid_template_rows": null,
            "right": null,
            "justify_content": null,
            "_view_module": "@jupyter-widgets/base",
            "overflow": null,
            "_model_module_version": "1.2.0",
            "_view_count": null,
            "flex_flow": null,
            "width": null,
            "min_width": null,
            "border": null,
            "align_items": null,
            "bottom": null,
            "_model_module": "@jupyter-widgets/base",
            "top": null,
            "grid_column": null,
            "overflow_y": null,
            "overflow_x": null,
            "grid_auto_flow": null,
            "grid_area": null,
            "grid_template_columns": null,
            "flex": null,
            "_model_name": "LayoutModel",
            "justify_items": null,
            "grid_row": null,
            "max_height": null,
            "align_content": null,
            "visibility": null,
            "align_self": null,
            "height": null,
            "min_height": null,
            "padding": null,
            "grid_auto_rows": null,
            "grid_gap": null,
            "max_width": null,
            "order": null,
            "_view_module_version": "1.2.0",
            "grid_template_areas": null,
            "object_position": null,
            "object_fit": null,
            "grid_auto_columns": null,
            "margin": null,
            "display": null,
            "left": null
          }
        },
        "b3533b2733e549f89c0c857e47d7525d": {
          "model_module": "@jupyter-widgets/controls",
          "model_name": "HBoxModel",
          "state": {
            "_view_name": "HBoxView",
            "_dom_classes": [],
            "_model_name": "HBoxModel",
            "_view_module": "@jupyter-widgets/controls",
            "_model_module_version": "1.5.0",
            "_view_count": null,
            "_view_module_version": "1.5.0",
            "box_style": "",
            "layout": "IPY_MODEL_521bfc11931648639d2a57e2199c9ff0",
            "_model_module": "@jupyter-widgets/controls",
            "children": [
              "IPY_MODEL_40b6456bb88a47b0865f794dec90436f",
              "IPY_MODEL_3de6aa3b58f54fcba161dfe21b2b3c90"
            ]
          }
        },
        "521bfc11931648639d2a57e2199c9ff0": {
          "model_module": "@jupyter-widgets/base",
          "model_name": "LayoutModel",
          "state": {
            "_view_name": "LayoutView",
            "grid_template_rows": null,
            "right": null,
            "justify_content": null,
            "_view_module": "@jupyter-widgets/base",
            "overflow": null,
            "_model_module_version": "1.2.0",
            "_view_count": null,
            "flex_flow": null,
            "width": null,
            "min_width": null,
            "border": null,
            "align_items": null,
            "bottom": null,
            "_model_module": "@jupyter-widgets/base",
            "top": null,
            "grid_column": null,
            "overflow_y": null,
            "overflow_x": null,
            "grid_auto_flow": null,
            "grid_area": null,
            "grid_template_columns": null,
            "flex": null,
            "_model_name": "LayoutModel",
            "justify_items": null,
            "grid_row": null,
            "max_height": null,
            "align_content": null,
            "visibility": null,
            "align_self": null,
            "height": null,
            "min_height": null,
            "padding": null,
            "grid_auto_rows": null,
            "grid_gap": null,
            "max_width": null,
            "order": null,
            "_view_module_version": "1.2.0",
            "grid_template_areas": null,
            "object_position": null,
            "object_fit": null,
            "grid_auto_columns": null,
            "margin": null,
            "display": null,
            "left": null
          }
        },
        "40b6456bb88a47b0865f794dec90436f": {
          "model_module": "@jupyter-widgets/controls",
          "model_name": "FloatProgressModel",
          "state": {
            "_view_name": "ProgressView",
            "style": "IPY_MODEL_bd04598e5f2646f5814467e7a9d1e30b",
            "_dom_classes": [],
            "description": "100%",
            "_model_name": "FloatProgressModel",
            "bar_style": "success",
            "max": 10,
            "_view_module": "@jupyter-widgets/controls",
            "_model_module_version": "1.5.0",
            "value": 10,
            "_view_count": null,
            "_view_module_version": "1.5.0",
            "orientation": "horizontal",
            "min": 0,
            "description_tooltip": null,
            "_model_module": "@jupyter-widgets/controls",
            "layout": "IPY_MODEL_43c922f1f7ff4aa789a3c90c1e876a6e"
          }
        },
        "3de6aa3b58f54fcba161dfe21b2b3c90": {
          "model_module": "@jupyter-widgets/controls",
          "model_name": "HTMLModel",
          "state": {
            "_view_name": "HTMLView",
            "style": "IPY_MODEL_e9711850273a4ad4afced0a363028304",
            "_dom_classes": [],
            "description": "",
            "_model_name": "HTMLModel",
            "placeholder": "​",
            "_view_module": "@jupyter-widgets/controls",
            "_model_module_version": "1.5.0",
            "value": " 10/10 [08:32&lt;00:00, 51.30s/it]",
            "_view_count": null,
            "_view_module_version": "1.5.0",
            "description_tooltip": null,
            "_model_module": "@jupyter-widgets/controls",
            "layout": "IPY_MODEL_c17cfe18ce13487d9af7e9b3d41e3790"
          }
        },
        "bd04598e5f2646f5814467e7a9d1e30b": {
          "model_module": "@jupyter-widgets/controls",
          "model_name": "ProgressStyleModel",
          "state": {
            "_view_name": "StyleView",
            "_model_name": "ProgressStyleModel",
            "description_width": "initial",
            "_view_module": "@jupyter-widgets/base",
            "_model_module_version": "1.5.0",
            "_view_count": null,
            "_view_module_version": "1.2.0",
            "bar_color": null,
            "_model_module": "@jupyter-widgets/controls"
          }
        },
        "43c922f1f7ff4aa789a3c90c1e876a6e": {
          "model_module": "@jupyter-widgets/base",
          "model_name": "LayoutModel",
          "state": {
            "_view_name": "LayoutView",
            "grid_template_rows": null,
            "right": null,
            "justify_content": null,
            "_view_module": "@jupyter-widgets/base",
            "overflow": null,
            "_model_module_version": "1.2.0",
            "_view_count": null,
            "flex_flow": null,
            "width": null,
            "min_width": null,
            "border": null,
            "align_items": null,
            "bottom": null,
            "_model_module": "@jupyter-widgets/base",
            "top": null,
            "grid_column": null,
            "overflow_y": null,
            "overflow_x": null,
            "grid_auto_flow": null,
            "grid_area": null,
            "grid_template_columns": null,
            "flex": null,
            "_model_name": "LayoutModel",
            "justify_items": null,
            "grid_row": null,
            "max_height": null,
            "align_content": null,
            "visibility": null,
            "align_self": null,
            "height": null,
            "min_height": null,
            "padding": null,
            "grid_auto_rows": null,
            "grid_gap": null,
            "max_width": null,
            "order": null,
            "_view_module_version": "1.2.0",
            "grid_template_areas": null,
            "object_position": null,
            "object_fit": null,
            "grid_auto_columns": null,
            "margin": null,
            "display": null,
            "left": null
          }
        },
        "e9711850273a4ad4afced0a363028304": {
          "model_module": "@jupyter-widgets/controls",
          "model_name": "DescriptionStyleModel",
          "state": {
            "_view_name": "StyleView",
            "_model_name": "DescriptionStyleModel",
            "description_width": "",
            "_view_module": "@jupyter-widgets/base",
            "_model_module_version": "1.5.0",
            "_view_count": null,
            "_view_module_version": "1.2.0",
            "_model_module": "@jupyter-widgets/controls"
          }
        },
        "c17cfe18ce13487d9af7e9b3d41e3790": {
          "model_module": "@jupyter-widgets/base",
          "model_name": "LayoutModel",
          "state": {
            "_view_name": "LayoutView",
            "grid_template_rows": null,
            "right": null,
            "justify_content": null,
            "_view_module": "@jupyter-widgets/base",
            "overflow": null,
            "_model_module_version": "1.2.0",
            "_view_count": null,
            "flex_flow": null,
            "width": null,
            "min_width": null,
            "border": null,
            "align_items": null,
            "bottom": null,
            "_model_module": "@jupyter-widgets/base",
            "top": null,
            "grid_column": null,
            "overflow_y": null,
            "overflow_x": null,
            "grid_auto_flow": null,
            "grid_area": null,
            "grid_template_columns": null,
            "flex": null,
            "_model_name": "LayoutModel",
            "justify_items": null,
            "grid_row": null,
            "max_height": null,
            "align_content": null,
            "visibility": null,
            "align_self": null,
            "height": null,
            "min_height": null,
            "padding": null,
            "grid_auto_rows": null,
            "grid_gap": null,
            "max_width": null,
            "order": null,
            "_view_module_version": "1.2.0",
            "grid_template_areas": null,
            "object_position": null,
            "object_fit": null,
            "grid_auto_columns": null,
            "margin": null,
            "display": null,
            "left": null
          }
        },
        "e3278286b87c4c599a3507b588ce1a58": {
          "model_module": "@jupyter-widgets/controls",
          "model_name": "HBoxModel",
          "state": {
            "_view_name": "HBoxView",
            "_dom_classes": [],
            "_model_name": "HBoxModel",
            "_view_module": "@jupyter-widgets/controls",
            "_model_module_version": "1.5.0",
            "_view_count": null,
            "_view_module_version": "1.5.0",
            "box_style": "",
            "layout": "IPY_MODEL_eea880b748904ef989672051d6e4f2f3",
            "_model_module": "@jupyter-widgets/controls",
            "children": [
              "IPY_MODEL_7848bf3c15294fe3b3073cee0d6b8a03",
              "IPY_MODEL_ac8b82530cb54a3a96b3665de6797a90"
            ]
          }
        },
        "eea880b748904ef989672051d6e4f2f3": {
          "model_module": "@jupyter-widgets/base",
          "model_name": "LayoutModel",
          "state": {
            "_view_name": "LayoutView",
            "grid_template_rows": null,
            "right": null,
            "justify_content": null,
            "_view_module": "@jupyter-widgets/base",
            "overflow": null,
            "_model_module_version": "1.2.0",
            "_view_count": null,
            "flex_flow": null,
            "width": null,
            "min_width": null,
            "border": null,
            "align_items": null,
            "bottom": null,
            "_model_module": "@jupyter-widgets/base",
            "top": null,
            "grid_column": null,
            "overflow_y": null,
            "overflow_x": null,
            "grid_auto_flow": null,
            "grid_area": null,
            "grid_template_columns": null,
            "flex": null,
            "_model_name": "LayoutModel",
            "justify_items": null,
            "grid_row": null,
            "max_height": null,
            "align_content": null,
            "visibility": null,
            "align_self": null,
            "height": null,
            "min_height": null,
            "padding": null,
            "grid_auto_rows": null,
            "grid_gap": null,
            "max_width": null,
            "order": null,
            "_view_module_version": "1.2.0",
            "grid_template_areas": null,
            "object_position": null,
            "object_fit": null,
            "grid_auto_columns": null,
            "margin": null,
            "display": null,
            "left": null
          }
        },
        "7848bf3c15294fe3b3073cee0d6b8a03": {
          "model_module": "@jupyter-widgets/controls",
          "model_name": "FloatProgressModel",
          "state": {
            "_view_name": "ProgressView",
            "style": "IPY_MODEL_633ca33a8e05478f95fffa18106c2361",
            "_dom_classes": [],
            "description": "100%",
            "_model_name": "FloatProgressModel",
            "bar_style": "success",
            "max": 10,
            "_view_module": "@jupyter-widgets/controls",
            "_model_module_version": "1.5.0",
            "value": 10,
            "_view_count": null,
            "_view_module_version": "1.5.0",
            "orientation": "horizontal",
            "min": 0,
            "description_tooltip": null,
            "_model_module": "@jupyter-widgets/controls",
            "layout": "IPY_MODEL_59350b5a4c844cc095ef1be439f36f4c"
          }
        },
        "ac8b82530cb54a3a96b3665de6797a90": {
          "model_module": "@jupyter-widgets/controls",
          "model_name": "HTMLModel",
          "state": {
            "_view_name": "HTMLView",
            "style": "IPY_MODEL_95caabf36ac54ea7b528faa4aef4f498",
            "_dom_classes": [],
            "description": "",
            "_model_name": "HTMLModel",
            "placeholder": "​",
            "_view_module": "@jupyter-widgets/controls",
            "_model_module_version": "1.5.0",
            "value": " 10/10 [13:58&lt;00:00, 83.88s/it]",
            "_view_count": null,
            "_view_module_version": "1.5.0",
            "description_tooltip": null,
            "_model_module": "@jupyter-widgets/controls",
            "layout": "IPY_MODEL_307832b010b14d89abe45ee045ac709f"
          }
        },
        "633ca33a8e05478f95fffa18106c2361": {
          "model_module": "@jupyter-widgets/controls",
          "model_name": "ProgressStyleModel",
          "state": {
            "_view_name": "StyleView",
            "_model_name": "ProgressStyleModel",
            "description_width": "initial",
            "_view_module": "@jupyter-widgets/base",
            "_model_module_version": "1.5.0",
            "_view_count": null,
            "_view_module_version": "1.2.0",
            "bar_color": null,
            "_model_module": "@jupyter-widgets/controls"
          }
        },
        "59350b5a4c844cc095ef1be439f36f4c": {
          "model_module": "@jupyter-widgets/base",
          "model_name": "LayoutModel",
          "state": {
            "_view_name": "LayoutView",
            "grid_template_rows": null,
            "right": null,
            "justify_content": null,
            "_view_module": "@jupyter-widgets/base",
            "overflow": null,
            "_model_module_version": "1.2.0",
            "_view_count": null,
            "flex_flow": null,
            "width": null,
            "min_width": null,
            "border": null,
            "align_items": null,
            "bottom": null,
            "_model_module": "@jupyter-widgets/base",
            "top": null,
            "grid_column": null,
            "overflow_y": null,
            "overflow_x": null,
            "grid_auto_flow": null,
            "grid_area": null,
            "grid_template_columns": null,
            "flex": null,
            "_model_name": "LayoutModel",
            "justify_items": null,
            "grid_row": null,
            "max_height": null,
            "align_content": null,
            "visibility": null,
            "align_self": null,
            "height": null,
            "min_height": null,
            "padding": null,
            "grid_auto_rows": null,
            "grid_gap": null,
            "max_width": null,
            "order": null,
            "_view_module_version": "1.2.0",
            "grid_template_areas": null,
            "object_position": null,
            "object_fit": null,
            "grid_auto_columns": null,
            "margin": null,
            "display": null,
            "left": null
          }
        },
        "95caabf36ac54ea7b528faa4aef4f498": {
          "model_module": "@jupyter-widgets/controls",
          "model_name": "DescriptionStyleModel",
          "state": {
            "_view_name": "StyleView",
            "_model_name": "DescriptionStyleModel",
            "description_width": "",
            "_view_module": "@jupyter-widgets/base",
            "_model_module_version": "1.5.0",
            "_view_count": null,
            "_view_module_version": "1.2.0",
            "_model_module": "@jupyter-widgets/controls"
          }
        },
        "307832b010b14d89abe45ee045ac709f": {
          "model_module": "@jupyter-widgets/base",
          "model_name": "LayoutModel",
          "state": {
            "_view_name": "LayoutView",
            "grid_template_rows": null,
            "right": null,
            "justify_content": null,
            "_view_module": "@jupyter-widgets/base",
            "overflow": null,
            "_model_module_version": "1.2.0",
            "_view_count": null,
            "flex_flow": null,
            "width": null,
            "min_width": null,
            "border": null,
            "align_items": null,
            "bottom": null,
            "_model_module": "@jupyter-widgets/base",
            "top": null,
            "grid_column": null,
            "overflow_y": null,
            "overflow_x": null,
            "grid_auto_flow": null,
            "grid_area": null,
            "grid_template_columns": null,
            "flex": null,
            "_model_name": "LayoutModel",
            "justify_items": null,
            "grid_row": null,
            "max_height": null,
            "align_content": null,
            "visibility": null,
            "align_self": null,
            "height": null,
            "min_height": null,
            "padding": null,
            "grid_auto_rows": null,
            "grid_gap": null,
            "max_width": null,
            "order": null,
            "_view_module_version": "1.2.0",
            "grid_template_areas": null,
            "object_position": null,
            "object_fit": null,
            "grid_auto_columns": null,
            "margin": null,
            "display": null,
            "left": null
          }
        },
        "ecc531475e8443cfb43569a1d616b1cf": {
          "model_module": "@jupyter-widgets/controls",
          "model_name": "HBoxModel",
          "state": {
            "_view_name": "HBoxView",
            "_dom_classes": [],
            "_model_name": "HBoxModel",
            "_view_module": "@jupyter-widgets/controls",
            "_model_module_version": "1.5.0",
            "_view_count": null,
            "_view_module_version": "1.5.0",
            "box_style": "",
            "layout": "IPY_MODEL_58813fcf8c1145e19192566b6f688edc",
            "_model_module": "@jupyter-widgets/controls",
            "children": [
              "IPY_MODEL_66ffac0a4ec047fba8718e7684aefa6f",
              "IPY_MODEL_e617c8aecfa2486fbf2db6493e7ee201"
            ]
          }
        },
        "58813fcf8c1145e19192566b6f688edc": {
          "model_module": "@jupyter-widgets/base",
          "model_name": "LayoutModel",
          "state": {
            "_view_name": "LayoutView",
            "grid_template_rows": null,
            "right": null,
            "justify_content": null,
            "_view_module": "@jupyter-widgets/base",
            "overflow": null,
            "_model_module_version": "1.2.0",
            "_view_count": null,
            "flex_flow": null,
            "width": null,
            "min_width": null,
            "border": null,
            "align_items": null,
            "bottom": null,
            "_model_module": "@jupyter-widgets/base",
            "top": null,
            "grid_column": null,
            "overflow_y": null,
            "overflow_x": null,
            "grid_auto_flow": null,
            "grid_area": null,
            "grid_template_columns": null,
            "flex": null,
            "_model_name": "LayoutModel",
            "justify_items": null,
            "grid_row": null,
            "max_height": null,
            "align_content": null,
            "visibility": null,
            "align_self": null,
            "height": null,
            "min_height": null,
            "padding": null,
            "grid_auto_rows": null,
            "grid_gap": null,
            "max_width": null,
            "order": null,
            "_view_module_version": "1.2.0",
            "grid_template_areas": null,
            "object_position": null,
            "object_fit": null,
            "grid_auto_columns": null,
            "margin": null,
            "display": null,
            "left": null
          }
        },
        "66ffac0a4ec047fba8718e7684aefa6f": {
          "model_module": "@jupyter-widgets/controls",
          "model_name": "FloatProgressModel",
          "state": {
            "_view_name": "ProgressView",
            "style": "IPY_MODEL_d6af97bdf6fe46a283e78787c7d5aae9",
            "_dom_classes": [],
            "description": "100%",
            "_model_name": "FloatProgressModel",
            "bar_style": "success",
            "max": 10,
            "_view_module": "@jupyter-widgets/controls",
            "_model_module_version": "1.5.0",
            "value": 10,
            "_view_count": null,
            "_view_module_version": "1.5.0",
            "orientation": "horizontal",
            "min": 0,
            "description_tooltip": null,
            "_model_module": "@jupyter-widgets/controls",
            "layout": "IPY_MODEL_89f852718d29472980e4f6baf85ccdd4"
          }
        },
        "e617c8aecfa2486fbf2db6493e7ee201": {
          "model_module": "@jupyter-widgets/controls",
          "model_name": "HTMLModel",
          "state": {
            "_view_name": "HTMLView",
            "style": "IPY_MODEL_5c5977ce93db4099a80a5c90d8c6bbdb",
            "_dom_classes": [],
            "description": "",
            "_model_name": "HTMLModel",
            "placeholder": "​",
            "_view_module": "@jupyter-widgets/controls",
            "_model_module_version": "1.5.0",
            "value": " 10/10 [05:37&lt;00:00, 33.79s/it]",
            "_view_count": null,
            "_view_module_version": "1.5.0",
            "description_tooltip": null,
            "_model_module": "@jupyter-widgets/controls",
            "layout": "IPY_MODEL_1f11925b2370491b975e71cfc2f1e44f"
          }
        },
        "d6af97bdf6fe46a283e78787c7d5aae9": {
          "model_module": "@jupyter-widgets/controls",
          "model_name": "ProgressStyleModel",
          "state": {
            "_view_name": "StyleView",
            "_model_name": "ProgressStyleModel",
            "description_width": "initial",
            "_view_module": "@jupyter-widgets/base",
            "_model_module_version": "1.5.0",
            "_view_count": null,
            "_view_module_version": "1.2.0",
            "bar_color": null,
            "_model_module": "@jupyter-widgets/controls"
          }
        },
        "89f852718d29472980e4f6baf85ccdd4": {
          "model_module": "@jupyter-widgets/base",
          "model_name": "LayoutModel",
          "state": {
            "_view_name": "LayoutView",
            "grid_template_rows": null,
            "right": null,
            "justify_content": null,
            "_view_module": "@jupyter-widgets/base",
            "overflow": null,
            "_model_module_version": "1.2.0",
            "_view_count": null,
            "flex_flow": null,
            "width": null,
            "min_width": null,
            "border": null,
            "align_items": null,
            "bottom": null,
            "_model_module": "@jupyter-widgets/base",
            "top": null,
            "grid_column": null,
            "overflow_y": null,
            "overflow_x": null,
            "grid_auto_flow": null,
            "grid_area": null,
            "grid_template_columns": null,
            "flex": null,
            "_model_name": "LayoutModel",
            "justify_items": null,
            "grid_row": null,
            "max_height": null,
            "align_content": null,
            "visibility": null,
            "align_self": null,
            "height": null,
            "min_height": null,
            "padding": null,
            "grid_auto_rows": null,
            "grid_gap": null,
            "max_width": null,
            "order": null,
            "_view_module_version": "1.2.0",
            "grid_template_areas": null,
            "object_position": null,
            "object_fit": null,
            "grid_auto_columns": null,
            "margin": null,
            "display": null,
            "left": null
          }
        },
        "5c5977ce93db4099a80a5c90d8c6bbdb": {
          "model_module": "@jupyter-widgets/controls",
          "model_name": "DescriptionStyleModel",
          "state": {
            "_view_name": "StyleView",
            "_model_name": "DescriptionStyleModel",
            "description_width": "",
            "_view_module": "@jupyter-widgets/base",
            "_model_module_version": "1.5.0",
            "_view_count": null,
            "_view_module_version": "1.2.0",
            "_model_module": "@jupyter-widgets/controls"
          }
        },
        "1f11925b2370491b975e71cfc2f1e44f": {
          "model_module": "@jupyter-widgets/base",
          "model_name": "LayoutModel",
          "state": {
            "_view_name": "LayoutView",
            "grid_template_rows": null,
            "right": null,
            "justify_content": null,
            "_view_module": "@jupyter-widgets/base",
            "overflow": null,
            "_model_module_version": "1.2.0",
            "_view_count": null,
            "flex_flow": null,
            "width": null,
            "min_width": null,
            "border": null,
            "align_items": null,
            "bottom": null,
            "_model_module": "@jupyter-widgets/base",
            "top": null,
            "grid_column": null,
            "overflow_y": null,
            "overflow_x": null,
            "grid_auto_flow": null,
            "grid_area": null,
            "grid_template_columns": null,
            "flex": null,
            "_model_name": "LayoutModel",
            "justify_items": null,
            "grid_row": null,
            "max_height": null,
            "align_content": null,
            "visibility": null,
            "align_self": null,
            "height": null,
            "min_height": null,
            "padding": null,
            "grid_auto_rows": null,
            "grid_gap": null,
            "max_width": null,
            "order": null,
            "_view_module_version": "1.2.0",
            "grid_template_areas": null,
            "object_position": null,
            "object_fit": null,
            "grid_auto_columns": null,
            "margin": null,
            "display": null,
            "left": null
          }
        },
        "bb9815b85cf04405a4a6e290ee06b11e": {
          "model_module": "@jupyter-widgets/controls",
          "model_name": "HBoxModel",
          "state": {
            "_view_name": "HBoxView",
            "_dom_classes": [],
            "_model_name": "HBoxModel",
            "_view_module": "@jupyter-widgets/controls",
            "_model_module_version": "1.5.0",
            "_view_count": null,
            "_view_module_version": "1.5.0",
            "box_style": "",
            "layout": "IPY_MODEL_d8b942350816445285dc088e19722181",
            "_model_module": "@jupyter-widgets/controls",
            "children": [
              "IPY_MODEL_e071946a716b4d70b76ec23be1316370",
              "IPY_MODEL_1ec9c1be373b4a40a77e089b1713f3ee"
            ]
          }
        },
        "d8b942350816445285dc088e19722181": {
          "model_module": "@jupyter-widgets/base",
          "model_name": "LayoutModel",
          "state": {
            "_view_name": "LayoutView",
            "grid_template_rows": null,
            "right": null,
            "justify_content": null,
            "_view_module": "@jupyter-widgets/base",
            "overflow": null,
            "_model_module_version": "1.2.0",
            "_view_count": null,
            "flex_flow": null,
            "width": null,
            "min_width": null,
            "border": null,
            "align_items": null,
            "bottom": null,
            "_model_module": "@jupyter-widgets/base",
            "top": null,
            "grid_column": null,
            "overflow_y": null,
            "overflow_x": null,
            "grid_auto_flow": null,
            "grid_area": null,
            "grid_template_columns": null,
            "flex": null,
            "_model_name": "LayoutModel",
            "justify_items": null,
            "grid_row": null,
            "max_height": null,
            "align_content": null,
            "visibility": null,
            "align_self": null,
            "height": null,
            "min_height": null,
            "padding": null,
            "grid_auto_rows": null,
            "grid_gap": null,
            "max_width": null,
            "order": null,
            "_view_module_version": "1.2.0",
            "grid_template_areas": null,
            "object_position": null,
            "object_fit": null,
            "grid_auto_columns": null,
            "margin": null,
            "display": null,
            "left": null
          }
        },
        "e071946a716b4d70b76ec23be1316370": {
          "model_module": "@jupyter-widgets/controls",
          "model_name": "FloatProgressModel",
          "state": {
            "_view_name": "ProgressView",
            "style": "IPY_MODEL_e6efa10b6942486cbdd0660441971ae8",
            "_dom_classes": [],
            "description": "100%",
            "_model_name": "FloatProgressModel",
            "bar_style": "success",
            "max": 10,
            "_view_module": "@jupyter-widgets/controls",
            "_model_module_version": "1.5.0",
            "value": 10,
            "_view_count": null,
            "_view_module_version": "1.5.0",
            "orientation": "horizontal",
            "min": 0,
            "description_tooltip": null,
            "_model_module": "@jupyter-widgets/controls",
            "layout": "IPY_MODEL_eabf3b8038374c07a33ffc4d51091247"
          }
        },
        "1ec9c1be373b4a40a77e089b1713f3ee": {
          "model_module": "@jupyter-widgets/controls",
          "model_name": "HTMLModel",
          "state": {
            "_view_name": "HTMLView",
            "style": "IPY_MODEL_1951504d2b614b36a6d4bec5e353a738",
            "_dom_classes": [],
            "description": "",
            "_model_name": "HTMLModel",
            "placeholder": "​",
            "_view_module": "@jupyter-widgets/controls",
            "_model_module_version": "1.5.0",
            "value": " 10/10 [27:40&lt;00:00, 166.02s/it]",
            "_view_count": null,
            "_view_module_version": "1.5.0",
            "description_tooltip": null,
            "_model_module": "@jupyter-widgets/controls",
            "layout": "IPY_MODEL_a18551f0561c469cbf4db8f053f83759"
          }
        },
        "e6efa10b6942486cbdd0660441971ae8": {
          "model_module": "@jupyter-widgets/controls",
          "model_name": "ProgressStyleModel",
          "state": {
            "_view_name": "StyleView",
            "_model_name": "ProgressStyleModel",
            "description_width": "initial",
            "_view_module": "@jupyter-widgets/base",
            "_model_module_version": "1.5.0",
            "_view_count": null,
            "_view_module_version": "1.2.0",
            "bar_color": null,
            "_model_module": "@jupyter-widgets/controls"
          }
        },
        "eabf3b8038374c07a33ffc4d51091247": {
          "model_module": "@jupyter-widgets/base",
          "model_name": "LayoutModel",
          "state": {
            "_view_name": "LayoutView",
            "grid_template_rows": null,
            "right": null,
            "justify_content": null,
            "_view_module": "@jupyter-widgets/base",
            "overflow": null,
            "_model_module_version": "1.2.0",
            "_view_count": null,
            "flex_flow": null,
            "width": null,
            "min_width": null,
            "border": null,
            "align_items": null,
            "bottom": null,
            "_model_module": "@jupyter-widgets/base",
            "top": null,
            "grid_column": null,
            "overflow_y": null,
            "overflow_x": null,
            "grid_auto_flow": null,
            "grid_area": null,
            "grid_template_columns": null,
            "flex": null,
            "_model_name": "LayoutModel",
            "justify_items": null,
            "grid_row": null,
            "max_height": null,
            "align_content": null,
            "visibility": null,
            "align_self": null,
            "height": null,
            "min_height": null,
            "padding": null,
            "grid_auto_rows": null,
            "grid_gap": null,
            "max_width": null,
            "order": null,
            "_view_module_version": "1.2.0",
            "grid_template_areas": null,
            "object_position": null,
            "object_fit": null,
            "grid_auto_columns": null,
            "margin": null,
            "display": null,
            "left": null
          }
        },
        "1951504d2b614b36a6d4bec5e353a738": {
          "model_module": "@jupyter-widgets/controls",
          "model_name": "DescriptionStyleModel",
          "state": {
            "_view_name": "StyleView",
            "_model_name": "DescriptionStyleModel",
            "description_width": "",
            "_view_module": "@jupyter-widgets/base",
            "_model_module_version": "1.5.0",
            "_view_count": null,
            "_view_module_version": "1.2.0",
            "_model_module": "@jupyter-widgets/controls"
          }
        },
        "a18551f0561c469cbf4db8f053f83759": {
          "model_module": "@jupyter-widgets/base",
          "model_name": "LayoutModel",
          "state": {
            "_view_name": "LayoutView",
            "grid_template_rows": null,
            "right": null,
            "justify_content": null,
            "_view_module": "@jupyter-widgets/base",
            "overflow": null,
            "_model_module_version": "1.2.0",
            "_view_count": null,
            "flex_flow": null,
            "width": null,
            "min_width": null,
            "border": null,
            "align_items": null,
            "bottom": null,
            "_model_module": "@jupyter-widgets/base",
            "top": null,
            "grid_column": null,
            "overflow_y": null,
            "overflow_x": null,
            "grid_auto_flow": null,
            "grid_area": null,
            "grid_template_columns": null,
            "flex": null,
            "_model_name": "LayoutModel",
            "justify_items": null,
            "grid_row": null,
            "max_height": null,
            "align_content": null,
            "visibility": null,
            "align_self": null,
            "height": null,
            "min_height": null,
            "padding": null,
            "grid_auto_rows": null,
            "grid_gap": null,
            "max_width": null,
            "order": null,
            "_view_module_version": "1.2.0",
            "grid_template_areas": null,
            "object_position": null,
            "object_fit": null,
            "grid_auto_columns": null,
            "margin": null,
            "display": null,
            "left": null
          }
        },
        "d32b91f811444663a4042909a76a482a": {
          "model_module": "@jupyter-widgets/controls",
          "model_name": "HBoxModel",
          "state": {
            "_view_name": "HBoxView",
            "_dom_classes": [],
            "_model_name": "HBoxModel",
            "_view_module": "@jupyter-widgets/controls",
            "_model_module_version": "1.5.0",
            "_view_count": null,
            "_view_module_version": "1.5.0",
            "box_style": "",
            "layout": "IPY_MODEL_d5fa241491a5411c85bd4c91651e13cb",
            "_model_module": "@jupyter-widgets/controls",
            "children": [
              "IPY_MODEL_9d5647a0f0454413aff446781435fb86",
              "IPY_MODEL_1a877cce62754930827c8b351ae906b9"
            ]
          }
        },
        "d5fa241491a5411c85bd4c91651e13cb": {
          "model_module": "@jupyter-widgets/base",
          "model_name": "LayoutModel",
          "state": {
            "_view_name": "LayoutView",
            "grid_template_rows": null,
            "right": null,
            "justify_content": null,
            "_view_module": "@jupyter-widgets/base",
            "overflow": null,
            "_model_module_version": "1.2.0",
            "_view_count": null,
            "flex_flow": null,
            "width": null,
            "min_width": null,
            "border": null,
            "align_items": null,
            "bottom": null,
            "_model_module": "@jupyter-widgets/base",
            "top": null,
            "grid_column": null,
            "overflow_y": null,
            "overflow_x": null,
            "grid_auto_flow": null,
            "grid_area": null,
            "grid_template_columns": null,
            "flex": null,
            "_model_name": "LayoutModel",
            "justify_items": null,
            "grid_row": null,
            "max_height": null,
            "align_content": null,
            "visibility": null,
            "align_self": null,
            "height": null,
            "min_height": null,
            "padding": null,
            "grid_auto_rows": null,
            "grid_gap": null,
            "max_width": null,
            "order": null,
            "_view_module_version": "1.2.0",
            "grid_template_areas": null,
            "object_position": null,
            "object_fit": null,
            "grid_auto_columns": null,
            "margin": null,
            "display": null,
            "left": null
          }
        },
        "9d5647a0f0454413aff446781435fb86": {
          "model_module": "@jupyter-widgets/controls",
          "model_name": "FloatProgressModel",
          "state": {
            "_view_name": "ProgressView",
            "style": "IPY_MODEL_722cb765719c4d78a3a5c259953d8b21",
            "_dom_classes": [],
            "description": "100%",
            "_model_name": "FloatProgressModel",
            "bar_style": "success",
            "max": 10,
            "_view_module": "@jupyter-widgets/controls",
            "_model_module_version": "1.5.0",
            "value": 10,
            "_view_count": null,
            "_view_module_version": "1.5.0",
            "orientation": "horizontal",
            "min": 0,
            "description_tooltip": null,
            "_model_module": "@jupyter-widgets/controls",
            "layout": "IPY_MODEL_70ba6d7419ee4f49bbb42eac1c3f1dc5"
          }
        },
        "1a877cce62754930827c8b351ae906b9": {
          "model_module": "@jupyter-widgets/controls",
          "model_name": "HTMLModel",
          "state": {
            "_view_name": "HTMLView",
            "style": "IPY_MODEL_4b273160fb7b4d2183d95d966aaf89d3",
            "_dom_classes": [],
            "description": "",
            "_model_name": "HTMLModel",
            "placeholder": "​",
            "_view_module": "@jupyter-widgets/controls",
            "_model_module_version": "1.5.0",
            "value": " 10/10 [1:43:00&lt;00:00, 618.06s/it]",
            "_view_count": null,
            "_view_module_version": "1.5.0",
            "description_tooltip": null,
            "_model_module": "@jupyter-widgets/controls",
            "layout": "IPY_MODEL_78d1e262b9804c748b8fabfcf61ddf99"
          }
        },
        "722cb765719c4d78a3a5c259953d8b21": {
          "model_module": "@jupyter-widgets/controls",
          "model_name": "ProgressStyleModel",
          "state": {
            "_view_name": "StyleView",
            "_model_name": "ProgressStyleModel",
            "description_width": "initial",
            "_view_module": "@jupyter-widgets/base",
            "_model_module_version": "1.5.0",
            "_view_count": null,
            "_view_module_version": "1.2.0",
            "bar_color": null,
            "_model_module": "@jupyter-widgets/controls"
          }
        },
        "70ba6d7419ee4f49bbb42eac1c3f1dc5": {
          "model_module": "@jupyter-widgets/base",
          "model_name": "LayoutModel",
          "state": {
            "_view_name": "LayoutView",
            "grid_template_rows": null,
            "right": null,
            "justify_content": null,
            "_view_module": "@jupyter-widgets/base",
            "overflow": null,
            "_model_module_version": "1.2.0",
            "_view_count": null,
            "flex_flow": null,
            "width": null,
            "min_width": null,
            "border": null,
            "align_items": null,
            "bottom": null,
            "_model_module": "@jupyter-widgets/base",
            "top": null,
            "grid_column": null,
            "overflow_y": null,
            "overflow_x": null,
            "grid_auto_flow": null,
            "grid_area": null,
            "grid_template_columns": null,
            "flex": null,
            "_model_name": "LayoutModel",
            "justify_items": null,
            "grid_row": null,
            "max_height": null,
            "align_content": null,
            "visibility": null,
            "align_self": null,
            "height": null,
            "min_height": null,
            "padding": null,
            "grid_auto_rows": null,
            "grid_gap": null,
            "max_width": null,
            "order": null,
            "_view_module_version": "1.2.0",
            "grid_template_areas": null,
            "object_position": null,
            "object_fit": null,
            "grid_auto_columns": null,
            "margin": null,
            "display": null,
            "left": null
          }
        },
        "4b273160fb7b4d2183d95d966aaf89d3": {
          "model_module": "@jupyter-widgets/controls",
          "model_name": "DescriptionStyleModel",
          "state": {
            "_view_name": "StyleView",
            "_model_name": "DescriptionStyleModel",
            "description_width": "",
            "_view_module": "@jupyter-widgets/base",
            "_model_module_version": "1.5.0",
            "_view_count": null,
            "_view_module_version": "1.2.0",
            "_model_module": "@jupyter-widgets/controls"
          }
        },
        "78d1e262b9804c748b8fabfcf61ddf99": {
          "model_module": "@jupyter-widgets/base",
          "model_name": "LayoutModel",
          "state": {
            "_view_name": "LayoutView",
            "grid_template_rows": null,
            "right": null,
            "justify_content": null,
            "_view_module": "@jupyter-widgets/base",
            "overflow": null,
            "_model_module_version": "1.2.0",
            "_view_count": null,
            "flex_flow": null,
            "width": null,
            "min_width": null,
            "border": null,
            "align_items": null,
            "bottom": null,
            "_model_module": "@jupyter-widgets/base",
            "top": null,
            "grid_column": null,
            "overflow_y": null,
            "overflow_x": null,
            "grid_auto_flow": null,
            "grid_area": null,
            "grid_template_columns": null,
            "flex": null,
            "_model_name": "LayoutModel",
            "justify_items": null,
            "grid_row": null,
            "max_height": null,
            "align_content": null,
            "visibility": null,
            "align_self": null,
            "height": null,
            "min_height": null,
            "padding": null,
            "grid_auto_rows": null,
            "grid_gap": null,
            "max_width": null,
            "order": null,
            "_view_module_version": "1.2.0",
            "grid_template_areas": null,
            "object_position": null,
            "object_fit": null,
            "grid_auto_columns": null,
            "margin": null,
            "display": null,
            "left": null
          }
        },
        "572b731973bd46aca7bd016301c99c9f": {
          "model_module": "@jupyter-widgets/controls",
          "model_name": "HBoxModel",
          "state": {
            "_view_name": "HBoxView",
            "_dom_classes": [],
            "_model_name": "HBoxModel",
            "_view_module": "@jupyter-widgets/controls",
            "_model_module_version": "1.5.0",
            "_view_count": null,
            "_view_module_version": "1.5.0",
            "box_style": "",
            "layout": "IPY_MODEL_14ad5fa83e8f46a4972aecd4bc9055a7",
            "_model_module": "@jupyter-widgets/controls",
            "children": [
              "IPY_MODEL_6619756b355b4ffa808fd96e4dc90abe",
              "IPY_MODEL_896551ddd284489f8c358d3e7e9e546a"
            ]
          }
        },
        "14ad5fa83e8f46a4972aecd4bc9055a7": {
          "model_module": "@jupyter-widgets/base",
          "model_name": "LayoutModel",
          "state": {
            "_view_name": "LayoutView",
            "grid_template_rows": null,
            "right": null,
            "justify_content": null,
            "_view_module": "@jupyter-widgets/base",
            "overflow": null,
            "_model_module_version": "1.2.0",
            "_view_count": null,
            "flex_flow": null,
            "width": null,
            "min_width": null,
            "border": null,
            "align_items": null,
            "bottom": null,
            "_model_module": "@jupyter-widgets/base",
            "top": null,
            "grid_column": null,
            "overflow_y": null,
            "overflow_x": null,
            "grid_auto_flow": null,
            "grid_area": null,
            "grid_template_columns": null,
            "flex": null,
            "_model_name": "LayoutModel",
            "justify_items": null,
            "grid_row": null,
            "max_height": null,
            "align_content": null,
            "visibility": null,
            "align_self": null,
            "height": null,
            "min_height": null,
            "padding": null,
            "grid_auto_rows": null,
            "grid_gap": null,
            "max_width": null,
            "order": null,
            "_view_module_version": "1.2.0",
            "grid_template_areas": null,
            "object_position": null,
            "object_fit": null,
            "grid_auto_columns": null,
            "margin": null,
            "display": null,
            "left": null
          }
        },
        "6619756b355b4ffa808fd96e4dc90abe": {
          "model_module": "@jupyter-widgets/controls",
          "model_name": "FloatProgressModel",
          "state": {
            "_view_name": "ProgressView",
            "style": "IPY_MODEL_b4d5a3c2ddeb426fa22f3ecfa98a3f6a",
            "_dom_classes": [],
            "description": "100%",
            "_model_name": "FloatProgressModel",
            "bar_style": "success",
            "max": 10,
            "_view_module": "@jupyter-widgets/controls",
            "_model_module_version": "1.5.0",
            "value": 10,
            "_view_count": null,
            "_view_module_version": "1.5.0",
            "orientation": "horizontal",
            "min": 0,
            "description_tooltip": null,
            "_model_module": "@jupyter-widgets/controls",
            "layout": "IPY_MODEL_fcb106b41c8f4234a075ff20898c6e7c"
          }
        },
        "896551ddd284489f8c358d3e7e9e546a": {
          "model_module": "@jupyter-widgets/controls",
          "model_name": "HTMLModel",
          "state": {
            "_view_name": "HTMLView",
            "style": "IPY_MODEL_24ffdfd7c4b0484fa7d2d535c4f0281c",
            "_dom_classes": [],
            "description": "",
            "_model_name": "HTMLModel",
            "placeholder": "​",
            "_view_module": "@jupyter-widgets/controls",
            "_model_module_version": "1.5.0",
            "value": " 10/10 [3:28:40&lt;00:00, 1252.09s/it]",
            "_view_count": null,
            "_view_module_version": "1.5.0",
            "description_tooltip": null,
            "_model_module": "@jupyter-widgets/controls",
            "layout": "IPY_MODEL_7cde756031a44ca4bbe4e8c5a1e3dac3"
          }
        },
        "b4d5a3c2ddeb426fa22f3ecfa98a3f6a": {
          "model_module": "@jupyter-widgets/controls",
          "model_name": "ProgressStyleModel",
          "state": {
            "_view_name": "StyleView",
            "_model_name": "ProgressStyleModel",
            "description_width": "initial",
            "_view_module": "@jupyter-widgets/base",
            "_model_module_version": "1.5.0",
            "_view_count": null,
            "_view_module_version": "1.2.0",
            "bar_color": null,
            "_model_module": "@jupyter-widgets/controls"
          }
        },
        "fcb106b41c8f4234a075ff20898c6e7c": {
          "model_module": "@jupyter-widgets/base",
          "model_name": "LayoutModel",
          "state": {
            "_view_name": "LayoutView",
            "grid_template_rows": null,
            "right": null,
            "justify_content": null,
            "_view_module": "@jupyter-widgets/base",
            "overflow": null,
            "_model_module_version": "1.2.0",
            "_view_count": null,
            "flex_flow": null,
            "width": null,
            "min_width": null,
            "border": null,
            "align_items": null,
            "bottom": null,
            "_model_module": "@jupyter-widgets/base",
            "top": null,
            "grid_column": null,
            "overflow_y": null,
            "overflow_x": null,
            "grid_auto_flow": null,
            "grid_area": null,
            "grid_template_columns": null,
            "flex": null,
            "_model_name": "LayoutModel",
            "justify_items": null,
            "grid_row": null,
            "max_height": null,
            "align_content": null,
            "visibility": null,
            "align_self": null,
            "height": null,
            "min_height": null,
            "padding": null,
            "grid_auto_rows": null,
            "grid_gap": null,
            "max_width": null,
            "order": null,
            "_view_module_version": "1.2.0",
            "grid_template_areas": null,
            "object_position": null,
            "object_fit": null,
            "grid_auto_columns": null,
            "margin": null,
            "display": null,
            "left": null
          }
        },
        "24ffdfd7c4b0484fa7d2d535c4f0281c": {
          "model_module": "@jupyter-widgets/controls",
          "model_name": "DescriptionStyleModel",
          "state": {
            "_view_name": "StyleView",
            "_model_name": "DescriptionStyleModel",
            "description_width": "",
            "_view_module": "@jupyter-widgets/base",
            "_model_module_version": "1.5.0",
            "_view_count": null,
            "_view_module_version": "1.2.0",
            "_model_module": "@jupyter-widgets/controls"
          }
        },
        "7cde756031a44ca4bbe4e8c5a1e3dac3": {
          "model_module": "@jupyter-widgets/base",
          "model_name": "LayoutModel",
          "state": {
            "_view_name": "LayoutView",
            "grid_template_rows": null,
            "right": null,
            "justify_content": null,
            "_view_module": "@jupyter-widgets/base",
            "overflow": null,
            "_model_module_version": "1.2.0",
            "_view_count": null,
            "flex_flow": null,
            "width": null,
            "min_width": null,
            "border": null,
            "align_items": null,
            "bottom": null,
            "_model_module": "@jupyter-widgets/base",
            "top": null,
            "grid_column": null,
            "overflow_y": null,
            "overflow_x": null,
            "grid_auto_flow": null,
            "grid_area": null,
            "grid_template_columns": null,
            "flex": null,
            "_model_name": "LayoutModel",
            "justify_items": null,
            "grid_row": null,
            "max_height": null,
            "align_content": null,
            "visibility": null,
            "align_self": null,
            "height": null,
            "min_height": null,
            "padding": null,
            "grid_auto_rows": null,
            "grid_gap": null,
            "max_width": null,
            "order": null,
            "_view_module_version": "1.2.0",
            "grid_template_areas": null,
            "object_position": null,
            "object_fit": null,
            "grid_auto_columns": null,
            "margin": null,
            "display": null,
            "left": null
          }
        }
      }
    }
  },
  "cells": [
    {
      "cell_type": "markdown",
      "metadata": {
        "id": "fm36SUYadahG",
        "colab_type": "text"
      },
      "source": [
        "# Load files"
      ]
    },
    {
      "cell_type": "code",
      "metadata": {
        "id": "fSnQVZYVT5Jy",
        "colab_type": "code",
        "outputId": "2f744a4b-b00d-43bf-c315-a91b2dbfba2f",
        "colab": {
          "base_uri": "https://localhost:8080/",
          "height": 34
        }
      },
      "source": [
        "!pip install -q -U PyDrive # to get access to files\n",
        "\n",
        "# Import PyDrive and associated libraries.\n",
        "# This only needs to be done once per notebook.\n",
        "from pydrive.auth import GoogleAuth\n",
        "from pydrive.drive import GoogleDrive\n",
        "from google.colab import auth\n",
        "from oauth2client.client import GoogleCredentials\n",
        "\n",
        "# Authenticate and create the PyDrive client.\n",
        "# This only needs to be done once per notebook.\n",
        "auth.authenticate_user()\n",
        "gauth = GoogleAuth()\n",
        "gauth.credentials = GoogleCredentials.get_application_default()\n",
        "drive = GoogleDrive(gauth)\n",
        "\n",
        "file_id = '1joDmxc9dbVHB0XuJrLtY5nlOX339dd5R'\n",
        "downloaded = drive.CreateFile({'id': file_id})\n",
        "downloaded.GetContentFile('Final_data.zip')\n",
        "!unzip -q Final_data.zip\n",
        "!ls Final_data"
      ],
      "execution_count": 0,
      "outputs": [
        {
          "output_type": "stream",
          "text": [
            "Final_data\n"
          ],
          "name": "stdout"
        }
      ]
    },
    {
      "cell_type": "code",
      "metadata": {
        "id": "1HXFMHDCUOfi",
        "colab_type": "code",
        "colab": {}
      },
      "source": [
        "import numpy as np              #numpy library is used to work with multidimensional array.\n",
        "import pandas as pd             #panda used for data manipulation and analysis.                \n",
        "import os                       #os library is used for loading file to use in the program\n",
        "import json                     #json library parses json into a string or dict, and convert string or dict to json file.\n",
        "from pathlib import Path        #support path\n",
        "import matplotlib.pyplot as plt #support ploting a figure\n",
        "from matplotlib import colors   #colors support converting number or argument into colors\n",
        "from tqdm.notebook import tqdm\n",
        "from torch import FloatTensor, LongTensor\n",
        "import torch\n",
        "from torch.nn import CrossEntropyLoss\n",
        "from torch.autograd import Variable\n",
        "from torch.optim import Adam\n",
        "import torch.nn as nn\n",
        "import torch.nn.functional as F\n",
        "from import_plot import *\n",
        "\n",
        "is_cuda = torch.cuda.is_available()\n",
        "if is_cuda:\n",
        "    device = torch.device(\"cuda\")\n",
        "else:\n",
        "    device = torch.device(\"cpu\")\n",
        "\n",
        "def inp2img(inp):\n",
        "    inp = np.array(inp)\n",
        "    img = np.full((10, inp.shape[0], inp.shape[1]), 0, dtype=np.uint8)\n",
        "    for i in range(10):\n",
        "        img[i] = (inp==i)\n",
        "    return img\n"
      ],
      "execution_count": 0,
      "outputs": []
    },
    {
      "cell_type": "code",
      "metadata": {
        "id": "6mPDzo47Ufzi",
        "colab_type": "code",
        "outputId": "4dbf63df-1a2f-41c8-9a89-457632b15c26",
        "colab": {
          "base_uri": "https://localhost:8080/",
          "height": 544
        }
      },
      "source": [
        "dimension_explained('train')\n",
        "dimension_explained('eval')\n",
        "dimension_explained('test')"
      ],
      "execution_count": 0,
      "outputs": [
        {
          "output_type": "stream",
          "text": [
            "------------ train  shapes ------------\n",
            "t1 all inputs are equal:  210 of which: \n",
            "t1_1 also output equal:  134\n",
            "t1_2 output smaller but fixed:  43\n",
            "t1_3 output bigger but fixed:  19\n",
            "t1_4 output size depends on input 14\n",
            "t2 input different:  190 of which: \n",
            "t2_1 output equal to input:  128\n",
            "t2_2 output smaller :  50\n",
            "t2_3 output bigger :  12\n",
            "------------ eval  shapes ------------\n",
            "t1 all inputs are equal:  157 of which: \n",
            "t1_1 also output equal:  92\n",
            "t1_2 output smaller but fixed:  32\n",
            "t1_3 output bigger but fixed:  20\n",
            "t1_4 output size depends on input 13\n",
            "t2 input different:  243 of which: \n",
            "t2_1 output equal to input:  178\n",
            "t2_2 output smaller :  51\n",
            "t2_3 output bigger :  14\n",
            "------------ test  shapes ------------\n",
            "t1 all inputs are equal:  41 of which: \n",
            "t1_1 also output equal:  23\n",
            "t1_2 output smaller but fixed:  8\n",
            "t1_3 output bigger but fixed:  7\n",
            "t1_4 output size depends on input 3\n",
            "t2 input different:  59 of which: \n",
            "t2_1 output equal to input:  42\n",
            "t2_2 output smaller :  15\n",
            "t2_3 output bigger :  2\n"
          ],
          "name": "stdout"
        }
      ]
    },
    {
      "cell_type": "markdown",
      "metadata": {
        "id": "dlq9pdC1VtKS",
        "colab_type": "text"
      },
      "source": [
        "# All 7 task"
      ]
    },
    {
      "cell_type": "code",
      "metadata": {
        "id": "P-x3-cXYUf4z",
        "colab_type": "code",
        "colab": {}
      },
      "source": [
        "# TASK 1 - Same dimension: Mirror right and down\n",
        "def gener_one():\n",
        "    skeleton=np.random.randint(2,size=(3,4))\n",
        "    color=np.random.randint(1, 10)\n",
        "    inp=np.where(skeleton==0, 0, color)\n",
        "    flip_right=np.concatenate((inp,np.flip(inp, axis=1)), axis=1)\n",
        "    out=np.concatenate((flip_right,np.flip(flip_right, axis=0)), axis=0)\n",
        "    return(inp, out)"
      ],
      "execution_count": 0,
      "outputs": []
    },
    {
      "cell_type": "code",
      "metadata": {
        "id": "tkIMvsTRWj4X",
        "colab_type": "code",
        "colab": {}
      },
      "source": [
        "# TASK 2 - Same dimension: Concatenate and flip central row\n",
        "def gener_two():\n",
        "    inp=np.random.randint(1,10,size=(2,2))\n",
        "    flip=np.flip(inp, axis=1)\n",
        "    conc1=np.concatenate((inp, inp, inp), axis=1)\n",
        "    conc2=np.concatenate((flip, flip, flip), axis=1)\n",
        "    out=np.concatenate((conc1, conc2, conc1), axis=0)\n",
        "    return(inp, out)"
      ],
      "execution_count": 0,
      "outputs": []
    },
    {
      "cell_type": "code",
      "metadata": {
        "id": "xgYvC_jwYpOT",
        "colab_type": "code",
        "colab": {}
      },
      "source": [
        "# TASK 3 - Same dimension: Pattern filler\n",
        "def gener_three():\n",
        "    a = np.random.randint(2, 10, (8, 8))\n",
        "    a = np.where(a==4, 1, a)\n",
        "    m = np.tril(a) + np.tril(a, -1).T\n",
        "    m = np.concatenate((m, np.flip(m, axis=0)), axis=0)\n",
        "    out= np.concatenate((m, np.flip(m)), axis=1)\n",
        "    inp = out.copy()\n",
        "\n",
        "    p1=np.random.randint(1, 13)\n",
        "    p2=np.random.randint(p1+2, p1+5)\n",
        "    p3=np.random.randint(1, 13)\n",
        "    p4=np.random.randint(p3+2, p3+5)\n",
        "\n",
        "    inp[p1:p2, p3:p4]=4\n",
        "\n",
        "    p1=np.random.randint(1, 13)\n",
        "    p2=np.random.randint(p1+2, p1+5)\n",
        "    p3=np.random.randint(1, 13)\n",
        "    p4=np.random.randint(p3+2, p3+5)\n",
        "\n",
        "    inp[p1:p2, p3:p4]=4 \n",
        "    \n",
        "    return(inp, out)"
      ],
      "execution_count": 0,
      "outputs": []
    },
    {
      "cell_type": "code",
      "metadata": {
        "id": "3ggEPvfSZCKE",
        "colab_type": "code",
        "colab": {}
      },
      "source": [
        "# TASK 4 - Different dimension: Denoise\n",
        "def gener_four():\n",
        "    dim1=np.random.randint(10,15)\n",
        "    dim2=np.random.randint(13,18)\n",
        "    out=np.zeros((dim1,dim2))\n",
        "    col=np.random.choice([2,3,5])\n",
        "    colno=np.random.choice([1,4,8])\n",
        "    nsquare=np.random.randint(3,5)\n",
        "    nnoise=np.random.randint(10,20)\n",
        "    for sq in range(0,nsquare):\n",
        "        p1=np.random.randint(0, dim1-1)\n",
        "        p2=np.random.randint(p1+2, p1+8)\n",
        "        p3=np.random.randint(0, dim2-1)\n",
        "        p4=np.random.randint(p3+2, p3+8)\n",
        "\n",
        "        out[p1:p2, p3:p4]=col\n",
        "\n",
        "    inp=out.copy()\n",
        "\n",
        "    for noise in range(0,nnoise):\n",
        "        p1=np.random.randint(0, dim1)\n",
        "        p2=np.random.randint(0, dim2)\n",
        "\n",
        "        inp[p1,p2]=colno\n",
        "    return(inp, out)"
      ],
      "execution_count": 0,
      "outputs": []
    },
    {
      "cell_type": "code",
      "metadata": {
        "id": "H5TaMiuebwc1",
        "colab_type": "code",
        "colab": {}
      },
      "source": [
        "# TASK 5 - Different dimension: 2 squares\n",
        "def gener_five():\n",
        "    dim1=np.random.randint(5,11)\n",
        "    dim2=np.random.randint(5,11)\n",
        "    out=np.zeros((dim1,dim2))\n",
        "    inp=out.copy()\n",
        "    col=np.random.randint(1,10)\n",
        "    col2=np.random.randint(1,10)\n",
        "    nsquare=np.random.randint(1,3)\n",
        "    \n",
        "    flippoints=np.random.randint(1,3)\n",
        "    \n",
        "    while col2==col:\n",
        "        col2=np.random.randint(1,10)\n",
        "\n",
        "    if nsquare==1:\n",
        "        p1=np.random.randint(0, dim1-2)\n",
        "        p2=np.random.randint(p1+2,dim1)\n",
        "        p3=np.random.randint(0, dim2-2)\n",
        "        p4=np.random.randint(p3+2,dim2)\n",
        "\n",
        "        out[p1:p2+1, p3:p4+1]=col\n",
        "        inp[p1, p3]=col\n",
        "        inp[p2, p4]=col\n",
        "    if nsquare==2:\n",
        "        if dim1>dim2:\n",
        "            p1= np.random.randint(0, dim1-3)\n",
        "            p2= np.random.randint(p1+1, dim1-2)\n",
        "            p11= np.random.randint(p2+1, dim1-1)\n",
        "            p22= np.random.randint(p11+1, dim1)\n",
        "            p3= np.random.randint(0, dim2-3)\n",
        "            p4= np.random.randint(p3+1, dim2)\n",
        "            p33= np.random.randint(0, dim2-3)\n",
        "            p44= np.random.randint(p33+1, dim2)\n",
        "\n",
        "            out[p1:p2+1, p3:p4+1]=col            \n",
        "            out[p11:p22+1, p33:p44+1]=col2\n",
        "            \n",
        "            if flippoints==1:\n",
        "                inp[p1, p3]=col\n",
        "                inp[p2, p4]=col            \n",
        "                inp[p22, p33]=col2\n",
        "                inp[p11, p44]=col2\n",
        "            else:\n",
        "                inp[p2, p3]=col\n",
        "                inp[p1, p4]=col            \n",
        "                inp[p11, p33]=col2\n",
        "                inp[p22, p44]=col2\n",
        "                \n",
        "        else:\n",
        "            p1= np.random.randint(0, dim1-3)\n",
        "            p2= np.random.randint(p1+1, dim1)\n",
        "            p11= np.random.randint(0, dim1-3)\n",
        "            p22= np.random.randint(p11+1, dim1)\n",
        "            p3= np.random.randint(0, dim2-3)\n",
        "            p4= np.random.randint(p3+1, dim2-2)\n",
        "            p33= np.random.randint(p4+1, dim2-1)\n",
        "            p44= np.random.randint(p33+1, dim2)\n",
        "\n",
        "            out[p1:p2+1, p3:p4+1]=col            \n",
        "            out[p11:p22+1, p33:p44+1]=col2\n",
        "            \n",
        "            if flippoints==1:\n",
        "                inp[p1, p3]=col\n",
        "                inp[p2, p4]=col            \n",
        "                inp[p22, p33]=col2\n",
        "                inp[p11, p44]=col2\n",
        "            else:\n",
        "                inp[p2, p3]=col\n",
        "                inp[p1, p4]=col            \n",
        "                inp[p11, p33]=col2\n",
        "                inp[p22, p44]=col2\n",
        "    return(inp, out)"
      ],
      "execution_count": 0,
      "outputs": []
    },
    {
      "cell_type": "code",
      "metadata": {
        "id": "tVLDpORDcdx6",
        "colab_type": "code",
        "colab": {}
      },
      "source": [
        "# TASK 6 - Different dimension: smallest squares\n",
        "def gener_six():\n",
        "    dim1=np.random.randint(8,21)\n",
        "    dim2=np.random.randint(8,21)\n",
        "    inp=np.zeros((dim1,dim2))\n",
        "    nsquare=np.random.randint(2,6)\n",
        "    colors=np.random.choice(range(1,10),5, replace=False)\n",
        "    sqs=[]\n",
        "    for i in range(0, nsquare):\n",
        "        p1=np.random.randint(1, dim1-3)\n",
        "        p2=np.random.randint(p1+1,dim1-1)\n",
        "        p3=np.random.randint(1, dim2-3)\n",
        "        p4=np.random.randint(p3+1,dim2-1)\n",
        "        sqs.append([((p2-p1)*(p4-p3)), p1,p2,p3,p4, colors[i]])\n",
        "        \n",
        "    sortt=sorted(sqs, reverse=True)\n",
        "    for sq in sortt:\n",
        "        _,p1,p2,p3,p4,col=sq\n",
        "        inp[p1:p2+1, p3:p4+1]=col\n",
        "    _,p1,p2,p3,p4,col=sortt[-1]\n",
        "    \n",
        "    out=np.ones((p2-p1,p4-p3))*col\n",
        "    \n",
        "    \n",
        "    return(inp, out)"
      ],
      "execution_count": 0,
      "outputs": []
    },
    {
      "cell_type": "code",
      "metadata": {
        "id": "vD5Xl3-bc9mb",
        "colab_type": "code",
        "colab": {}
      },
      "source": [
        "# TASK 7 - Different dimension: inverter\n",
        "def gener_seven():\n",
        "    dim1=np.random.randint(18,26)\n",
        "    dim2=np.random.randint(18,26)\n",
        "    colors=np.random.choice(range(1,10),2, replace=False)\n",
        "    inp=np.zeros((dim1,dim2))\n",
        "    \n",
        "    nnoise=np.random.randint(15,50)\n",
        "    for noise in range(0,nnoise):\n",
        "        p1=np.random.randint(0, dim1)\n",
        "        p2=np.random.randint(0, dim2)\n",
        "\n",
        "        inp[p1,p2]=colors[0]\n",
        "        \n",
        "    \n",
        "    \n",
        "    skel=np.random.randint(2,size=(3,3))\n",
        "    out=skel*colors[0]\n",
        "    topaste=np.kron(skel, np.ones((4,4)))*colors[1]\n",
        "    \n",
        "    p1=np.random.randint(0, dim1-12)\n",
        "    p2=np.random.randint(0,dim2-12)\n",
        "    \n",
        "    inp[p1:p1+12, p2:p2+12]=topaste\n",
        "    \n",
        "    return(inp, out)"
      ],
      "execution_count": 0,
      "outputs": []
    },
    {
      "cell_type": "markdown",
      "metadata": {
        "id": "wZ7Lx1Sr_pwa",
        "colab_type": "text"
      },
      "source": [
        "# Useful functions:\n",
        "\n",
        "1.   evaluate (to train model)\n",
        "2.   plot_metrics (to plot resulting metrics)\n",
        "3.   pad_crop (to pad and then crop the model)\n",
        "\n",
        "\n"
      ]
    },
    {
      "cell_type": "code",
      "metadata": {
        "id": "QHwuRluxtCPI",
        "colab_type": "code",
        "colab": {}
      },
      "source": [
        "class TaskSolver:        \n",
        "\n",
        "    def train(self, task, model_name, n_epoch=30, verbose=True):\n",
        "        \"\"\"basic pytorch train loop\"\"\"\n",
        "        loss_train = []\n",
        "        loss_val = []\n",
        "        accuracy_val = []\n",
        "        accuracy_train = []\n",
        "        accuracy_val_pix = []\n",
        "        accuracy_train_pix = []\n",
        "\n",
        "        sh1_big = 0\n",
        "        sh2_big = 0\n",
        "        for i in range(len(task['train'])):\n",
        "          sh1 = task['train'][i]['input'].shape[0]\n",
        "          sh2 = task['train'][i]['input'].shape[1]\n",
        "          if sh1 > sh1_big:\n",
        "            sh1_big = sh1\n",
        "          if sh2 > sh2_big:\n",
        "            sh2_big = sh2     \n",
        "        for i in range(len(task['test'])):\n",
        "          sh1 = task['test'][i]['input'].shape[0]\n",
        "          sh2 = task['test'][i]['input'].shape[1]\n",
        "          if sh1 > sh1_big:\n",
        "            sh1_big = sh1\n",
        "          if sh2 > sh2_big:\n",
        "            sh2_big = sh2  \n",
        "\n",
        "        self.net = model_name(task['train'], sh1_big, sh2_big) # MODEL\n",
        "        criterion = CrossEntropyLoss()\n",
        "        optimizer = Adam(self.net.parameters(), lr = 0.1)\n",
        "        \n",
        "        for epoch in tqdm(range(n_epoch)):\n",
        "        \n",
        "          self.net.train()\n",
        "          loss_iter = 0\n",
        "          for sample in task['train']:\n",
        "              img = FloatTensor(inp2img(sample['input'])).to(device)\n",
        "              labels = LongTensor(sample['output']).unsqueeze(dim=0).to(device)\n",
        "              optimizer.zero_grad()                \n",
        "              outputs = self.net(img)\n",
        "              outputs = outputs\n",
        "              loss = criterion(outputs, labels)\n",
        "              loss.backward()\n",
        "              optimizer.step()  \n",
        "                  \n",
        "          self.net.eval()\n",
        "          with torch.no_grad():\n",
        "\n",
        "            correct_val = 0\n",
        "            correct_val_pix = 0\n",
        "            total_val = 0\n",
        "            loss_iter_val = 0\n",
        "            predictions = []\n",
        "            wrong_pred = []\n",
        "            n_pixels_val = 0\n",
        "            for sample in task['test']:\n",
        "\n",
        "              img = FloatTensor(inp2img(sample['input'])).to(device)\n",
        "              labels = LongTensor(sample['output']).unsqueeze(dim=0).to(device)\n",
        "              outputs = self.net(img)\n",
        "              _, pred = torch.max(outputs.data, 1)\n",
        "              predictions.append((img, pred))  \n",
        "              n_pixels_val += pred.shape[1]*pred.shape[2]\n",
        "\n",
        "              total_val += labels.size(0)\n",
        "              flag =  (torch.all(torch.eq(pred, labels))).sum().item() \n",
        "              correct_val += flag\n",
        "              if flag == 0:\n",
        "                wrong_pred.append((img, pred))\n",
        "              correct_val_pix += (torch.eq(pred, labels)).sum().item()            \n",
        "              loss = criterion(outputs, labels)\n",
        "              loss_iter_val += loss.item()\n",
        "\n",
        "            correct_train = 0\n",
        "            correct_train_pix = 0 \n",
        "            total_train = 0\n",
        "            loss_iter_train = 0\n",
        "            n_pixels_train = 0\n",
        "            for sample in task['train']:\n",
        "\n",
        "              img = FloatTensor(inp2img(sample['input'])).to(device)\n",
        "              labels = LongTensor(sample['output']).unsqueeze(dim=0).to(device)\n",
        "              outputs = self.net(img)\n",
        "              _, pred = torch.max(outputs.data, 1)\n",
        "              n_pixels_train += pred.shape[1]*pred.shape[2]\n",
        "\n",
        "              total_train += labels.size(0)\n",
        "              correct_train += (torch.all(torch.eq(pred, labels))).sum().item()\n",
        "              correct_train_pix += (torch.eq(pred, labels)).sum().item()\n",
        "              loss = criterion(outputs, labels)\n",
        "              loss_iter_train += loss.item()\n",
        "              \n",
        "          loss_train.append(loss_iter_train/len(task['train']))\n",
        "          loss_val.append(loss_iter_val/len(task['test']))\n",
        "\n",
        "          val_accuracy = 100 * correct_val / total_val\n",
        "          val_accuracy_pix = 100 * correct_val_pix/(n_pixels_val)\n",
        "          accuracy_val.append(val_accuracy)\n",
        "          accuracy_val_pix.append(val_accuracy_pix)\n",
        "\n",
        "          train_accuracy = 100 * correct_train / total_train\n",
        "          train_accuracy_pix = 100 * correct_train_pix/(n_pixels_train)\n",
        "          accuracy_train.append(train_accuracy)\n",
        "          accuracy_train_pix.append(train_accuracy_pix)\n",
        "\n",
        "          if verbose:\n",
        "            print('\\nEpoch: ['+str(epoch+1)+'/'+str(n_epoch)+']')\n",
        "            print('Train loss is: {}'.format(loss_train[-1]))\n",
        "            print('Validation loss is: {}'.format(loss_val[-1]))\n",
        "            print('Train accuracy is: {} %'.format(accuracy_train[-1]))\n",
        "            print('Train accuracy for pixels is: {} %'.format(accuracy_train_pix[-1]))\n",
        "            print('Validation accuracy is: {} %'.format(accuracy_val[-1]))\n",
        "            print('Validation accuracy for pixels is: {} %'.format(accuracy_val_pix[-1]))\n",
        "\n",
        "        metrics = {'loss_train': loss_train, 'loss_val': loss_val, 'accuracy_train':accuracy_train, \n",
        "                   'accuracy_train_pix': accuracy_train_pix, 'accuracy_val':accuracy_val, \n",
        "                   'accuracy_val_pix': accuracy_val_pix}\n",
        "        final_pred = predictions\n",
        "        return metrics, final_pred, wrong_pred\n",
        "\n",
        "def evaluate_metrics(task, model_name, n_epoch, verbose):\n",
        "  ts = TaskSolver()\n",
        "  return ts.train(task, model_name, n_epoch=n_epoch, verbose=verbose)\n",
        "\n",
        "def plot_metrics(train_result):\n",
        "  fig, (ax1, ax2, ax3) = plt.subplots(1, 3, figsize=(35,7), dpi=50)\n",
        "\n",
        "  ax1.plot(train_result['loss_train'], c='r', label = 'Train loss')\n",
        "  ax1.plot(train_result['loss_val'], c='g', label = 'Val. loss')\n",
        "  ax1.legend(prop={'size': 18}, loc='upper right')\n",
        "  ax1.set_xlabel('Loss', fontsize=22)\n",
        "  ax1.tick_params(labelsize=18)\n",
        "\n",
        "  ax2.plot(train_result['accuracy_train'], c='r', label = 'Train accuracy')\n",
        "  ax2.plot(train_result['accuracy_val'], c='g', label = 'Val. accuracy')\n",
        "  ax2.legend(prop={'size': 18}, loc='lower right')\n",
        "  ax2.set_xlabel('Accuracy', fontsize=22)\n",
        "  ax2.tick_params(labelsize=18)\n",
        "\n",
        "  ax3.plot(train_result['accuracy_train_pix'], c='r', label = 'Train accuracy on pixels')\n",
        "  ax3.plot(train_result['accuracy_val_pix'], c='g', label = 'Val. accuracy on pixels')\n",
        "  ax3.legend(prop={'size': 18}, loc='lower right')\n",
        "  ax3.set_xlabel('Accuracy for pixels', fontsize=22)\n",
        "  ax3.tick_params(labelsize=18)\n",
        "\n",
        "  plt.show()\n",
        "\n",
        "  def inverse_10_channels(res):\n",
        "    a = np.array(res)\n",
        "    img = np.full((a.shape[1], a.shape[2]), 0, dtype=np.uint8)\n",
        "    for i in range(10):\n",
        "      img = np.add(img, np.where(a[i]>0, i, a[i]))\n",
        "    return img\n"
      ],
      "execution_count": 0,
      "outputs": []
    },
    {
      "cell_type": "code",
      "metadata": {
        "id": "N0c3dPpo4lh7",
        "colab_type": "code",
        "colab": {}
      },
      "source": [
        "def pad_crop(x, desired_w, desired_h, current_w, current_h, goal):\n",
        "        \n",
        "    diff_w = np.abs(desired_w-current_w)\n",
        "    if diff_w % 2 == 0:\n",
        "      if goal == 'pad':\n",
        "        x = F.pad(x, (0, 0, int(diff_w/2), int(diff_w/2)), mode='constant', value=0)\n",
        "      elif goal == 'crop':\n",
        "        if -int(diff_w/2) == 0:\n",
        "          x = x[:, :, int(diff_w/2):, :]\n",
        "        else:\n",
        "          x = x[:, :, int(diff_w/2):-int(diff_w/2), :]\n",
        "      else:\n",
        "        pass\n",
        "    else:\n",
        "      if goal == 'pad':\n",
        "        x = F.pad(x, (0, 0, int(diff_w/2)+1, int(diff_w/2)), mode='constant', value=0)\n",
        "      elif goal == 'crop':\n",
        "        if -int(diff_w/2) == 0:\n",
        "          x = x[:, :, int(diff_w/2)+1:, :]\n",
        "        else:\n",
        "          x = x[:, :, int(diff_w/2)+1:-int(diff_w/2), :]\n",
        "      else:\n",
        "        pass\n",
        "\n",
        "    diff_h = np.abs(desired_h-current_h)\n",
        "    if diff_h % 2 == 0:\n",
        "      if goal == 'pad':\n",
        "        x = F.pad(x, (int(diff_h/2), int(diff_h/2), 0, 0), mode='constant', value=0)\n",
        "      elif goal == 'crop':\n",
        "        if (-int(diff_h/2)) == 0:\n",
        "          x = x[:, :, :, int(diff_h/2):]\n",
        "        else:\n",
        "          x = x[:, :, :, int(diff_h/2):-int(diff_h/2)]\n",
        "      else:\n",
        "        pass\n",
        "    else:\n",
        "      if goal == 'pad':\n",
        "        x = F.pad(x, (int(diff_h/2)+1, int(diff_h/2), 0, 0), mode='constant', value=0)\n",
        "      elif goal == 'crop':\n",
        "        if (-int(diff_h/2)) == 0:\n",
        "          x = x[:, :, :, int(diff_h/2)+1:] \n",
        "        else:\n",
        "          x = x[:, :, :, int(diff_h/2)+1:-int(diff_h/2)]  \n",
        "      else:\n",
        "        pass\n",
        "\n",
        "    return x"
      ],
      "execution_count": 0,
      "outputs": []
    },
    {
      "cell_type": "markdown",
      "metadata": {
        "id": "aV5dprC24oME",
        "colab_type": "text"
      },
      "source": [
        "# Try tasks one by one"
      ]
    },
    {
      "cell_type": "markdown",
      "metadata": {
        "id": "NW8_D-hn4vOc",
        "colab_type": "text"
      },
      "source": [
        "## Task 1:\n"
      ]
    },
    {
      "cell_type": "code",
      "metadata": {
        "id": "qimcpCQb4tH2",
        "colab_type": "code",
        "outputId": "9168cecb-7e2b-4c47-ceaf-70d18f2fc87c",
        "colab": {
          "base_uri": "https://localhost:8080/",
          "height": 277
        }
      },
      "source": [
        "def task_builder(n_train=1000, n_test=250):\n",
        "    task={'train':[], 'test':[]}\n",
        "    for i in range(0,n_train):\n",
        "        inp, out = gener_one()\n",
        "        task['train'].append({'input':inp, 'output':out})\n",
        "    for i in range(0,n_test):\n",
        "        inp, out = gener_one()\n",
        "        task['test'].append({'input':inp, 'output':out})\n",
        "    return task\n",
        "\n",
        "task=task_builder(5, 2)\n",
        "plot_task(task)"
      ],
      "execution_count": 0,
      "outputs": [
        {
          "output_type": "display_data",
          "data": {
            "image/png": "[encoded data removed]",
            "text/plain": [
              "<Figure size 1400x400 with 14 Axes>"
            ]
          },
          "metadata": {
            "tags": [],
            "needs_background": "light"
          }
        }
      ]
    },
    {
      "cell_type": "markdown",
      "metadata": {
        "id": "tm1q-uMC5E9B",
        "colab_type": "text"
      },
      "source": [
        "### Fully connected NN"
      ]
    },
    {
      "cell_type": "code",
      "metadata": {
        "id": "dhZ9QnGM5CnS",
        "colab_type": "code",
        "colab": {}
      },
      "source": [
        "class FullyConNN(nn.Module):\n",
        "  \n",
        "  def __init__(self, task_train, w, h):\n",
        "    super(FullyConNN, self).__init__()\n",
        "\n",
        "    self.inp_dim = np.array(np.array(task_train[0]['input']).shape)\n",
        "    self.out_dim = np.array(np.array(task_train[0]['output']).shape)\n",
        "    self.linear = nn.Linear(self.inp_dim[0]*self.inp_dim[1]*10, self.out_dim[0]*self.out_dim[1]*10)\n",
        "\n",
        "  def forward(self, x):\n",
        "    x = x.view(-1) # Flatten\n",
        "    x = self.linear(x) # Dense\n",
        "    x = torch.reshape(x, (1, 10, self.out_dim[0], self.out_dim[1])) # Reshape\n",
        "    return x"
      ],
      "execution_count": 0,
      "outputs": []
    },
    {
      "cell_type": "code",
      "metadata": {
        "id": "0QfnY6Ky6Mtm",
        "colab_type": "code",
        "outputId": "c81a65e3-ac15-4721-cfa2-3b4b5cd3a9c4",
        "colab": {
          "base_uri": "https://localhost:8080/",
          "height": 1000,
          "referenced_widgets": [
            "e55c779ba9ad43ca88849e0dfaa5d4fe",
            "7582d73506d44873b7902db111e43bb3",
            "63fae688ffc142e0803c670e5f80f943",
            "d21213fec5844b1d98d43fc5e890e3ec",
            "68b37b220cbd4a249710cbeb2f54ef8a",
            "5e5755c1bce14d8eb63db265ea28346c",
            "2ffbf083fdfa43ff92695e45f61ea499",
            "54cd6627a830440aa2be93ca78898770"
          ]
        }
      },
      "source": [
        "# Training\n",
        "fcNN_result_T1, fcNN__predictions_T1, fcNN_wrong_pred_T1 = evaluate_metrics(task_builder(10000, 100), FullyConNN, \n",
        "                                                                            n_epoch=10, verbose=True)"
      ],
      "execution_count": 0,
      "outputs": [
        {
          "output_type": "display_data",
          "data": {
            "application/vnd.jupyter.widget-view+json": {
              "model_id": "e55c779ba9ad43ca88849e0dfaa5d4fe",
              "version_minor": 0,
              "version_major": 2
            },
            "text/plain": [
              "HBox(children=(FloatProgress(value=0.0, max=10.0), HTML(value='')))"
            ]
          },
          "metadata": {
            "tags": []
          }
        },
        {
          "output_type": "stream",
          "text": [
            "\n",
            "Epoch: [1/10]\n",
            "Train loss is: 0.049443772744036815\n",
            "Validation loss is: 0.03980485550226945\n",
            "Train accuracy is: 76.67 %\n",
            "Train accuracy for pixels is: 99.375625 %\n",
            "Validation accuracy is: 72.0 %\n",
            "Validation accuracy for pixels is: 99.39583333333333 %\n",
            "\n",
            "Epoch: [2/10]\n",
            "Train loss is: 0.003408031092873665\n",
            "Validation loss is: 0.00025848372301165765\n",
            "Train accuracy is: 97.52 %\n",
            "Train accuracy for pixels is: 99.93895833333333 %\n",
            "Validation accuracy is: 100.0 %\n",
            "Validation accuracy for pixels is: 100.0 %\n",
            "\n",
            "Epoch: [3/10]\n",
            "Train loss is: 0.0003223033730214319\n",
            "Validation loss is: 0.0014931399628154872\n",
            "Train accuracy is: 99.52 %\n",
            "Train accuracy for pixels is: 99.99 %\n",
            "Validation accuracy is: 99.0 %\n",
            "Validation accuracy for pixels is: 99.97916666666667 %\n",
            "\n",
            "Epoch: [4/10]\n",
            "Train loss is: 2.9817719992761023e-07\n",
            "Validation loss is: 5.262007762551167e-07\n",
            "Train accuracy is: 100.0 %\n",
            "Train accuracy for pixels is: 100.0 %\n",
            "Validation accuracy is: 100.0 %\n",
            "Validation accuracy for pixels is: 100.0 %\n",
            "\n",
            "Epoch: [5/10]\n",
            "Train loss is: 3.5172187437741525e-10\n",
            "Validation loss is: 3.155732184413271e-09\n",
            "Train accuracy is: 100.0 %\n",
            "Train accuracy for pixels is: 100.0 %\n",
            "Validation accuracy is: 100.0 %\n",
            "Validation accuracy for pixels is: 100.0 %\n",
            "\n",
            "Epoch: [6/10]\n",
            "Train loss is: 2.2882757426700463e-10\n",
            "Validation loss is: 2.4957167627740612e-09\n",
            "Train accuracy is: 100.0 %\n",
            "Train accuracy for pixels is: 100.0 %\n",
            "Validation accuracy is: 100.0 %\n",
            "Validation accuracy for pixels is: 100.0 %\n",
            "\n",
            "Epoch: [7/10]\n",
            "Train loss is: 1.8938397002550653e-10\n",
            "Validation loss is: 2.2358862662502298e-09\n",
            "Train accuracy is: 100.0 %\n",
            "Train accuracy for pixels is: 100.0 %\n",
            "Validation accuracy is: 100.0 %\n",
            "Validation accuracy for pixels is: 100.0 %\n",
            "\n",
            "Epoch: [8/10]\n",
            "Train loss is: 1.651067117650496e-10\n",
            "Validation loss is: 2.0749967757829196e-09\n",
            "Train accuracy is: 100.0 %\n",
            "Train accuracy for pixels is: 100.0 %\n",
            "Validation accuracy is: 100.0 %\n",
            "Validation accuracy for pixels is: 100.0 %\n",
            "\n",
            "Epoch: [9/10]\n",
            "Train loss is: 1.494660495873594e-10\n",
            "Validation loss is: 1.9293901383152232e-09\n",
            "Train accuracy is: 100.0 %\n",
            "Train accuracy for pixels is: 100.0 %\n",
            "Validation accuracy is: 100.0 %\n",
            "Validation accuracy for pixels is: 100.0 %\n",
            "\n",
            "Epoch: [10/10]\n",
            "Train loss is: 1.375585677642092e-10\n",
            "Validation loss is: 1.6622840289318153e-09\n",
            "Train accuracy is: 100.0 %\n",
            "Train accuracy for pixels is: 100.0 %\n",
            "Validation accuracy is: 100.0 %\n",
            "Validation accuracy for pixels is: 100.0 %\n",
            "\n"
          ],
          "name": "stdout"
        }
      ]
    },
    {
      "cell_type": "code",
      "metadata": {
        "id": "eFI5QY0U6sOQ",
        "colab_type": "code",
        "outputId": "de33edd9-e60b-489b-dfd7-aa769bb3506e",
        "colab": {
          "base_uri": "https://localhost:8080/",
          "height": 247
        }
      },
      "source": [
        "plot_metrics(fcNN_result_T1)"
      ],
      "execution_count": 0,
      "outputs": [
        {
          "output_type": "display_data",
          "data": {
            "image/png": "[encoded data removed]",
            "text/plain": [
              "<Figure size 1750x350 with 3 Axes>"
            ]
          },
          "metadata": {
            "tags": [],
            "needs_background": "light"
          }
        }
      ]
    },
    {
      "cell_type": "code",
      "metadata": {
        "id": "n3jr4QYH7LKl",
        "colab_type": "code",
        "colab": {}
      },
      "source": [
        ""
      ],
      "execution_count": 0,
      "outputs": []
    },
    {
      "cell_type": "markdown",
      "metadata": {
        "id": "EHGk631V7Mrw",
        "colab_type": "text"
      },
      "source": [
        "### LSTM "
      ]
    },
    {
      "cell_type": "code",
      "metadata": {
        "id": "V6pbaAMa7TFg",
        "colab_type": "code",
        "colab": {}
      },
      "source": [
        "class LSTM(nn.Module):\n",
        "  def __init__(self, task_train, w, h):\n",
        "    super(LSTM, self).__init__()\n",
        "\n",
        "    self.inp_dim = np.array(np.array(task_train[0]['input']).shape)\n",
        "    self.out_dim = np.array(np.array(task_train[0]['output']).shape)\n",
        "    self.lstm = nn.LSTM(self.inp_dim[0]*self.inp_dim[1], self.out_dim[0]*self.out_dim[1], dropout=0, batch_first=True)\n",
        "    #self.linear = nn.Linear(self.out_dim[0]*self.out_dim[1], self.out_dim[0]*self.out_dim[1])    \n",
        "\n",
        "  def forward(self, x): \n",
        "    sh1, sh2, sh3 = x.shape[0], x.shape[1], x.shape[2]\n",
        "    x = x.view(sh1, -1).unsqueeze(0)\n",
        "    x, _ = self.lstm(x)\n",
        "    #x = self.linear(x)\n",
        "    x = torch.reshape(x, (1, 10, self.out_dim[0], self.out_dim[1])) # Reshape\n",
        "    return x"
      ],
      "execution_count": 0,
      "outputs": []
    },
    {
      "cell_type": "code",
      "metadata": {
        "id": "-FdTSZbe7nrT",
        "colab_type": "code",
        "outputId": "5df6d4f1-4637-401b-e79d-198d981fc783",
        "colab": {
          "base_uri": "https://localhost:8080/",
          "height": 1000,
          "referenced_widgets": [
            "b3533b2733e549f89c0c857e47d7525d",
            "521bfc11931648639d2a57e2199c9ff0",
            "40b6456bb88a47b0865f794dec90436f",
            "3de6aa3b58f54fcba161dfe21b2b3c90",
            "bd04598e5f2646f5814467e7a9d1e30b",
            "43c922f1f7ff4aa789a3c90c1e876a6e",
            "e9711850273a4ad4afced0a363028304",
            "c17cfe18ce13487d9af7e9b3d41e3790"
          ]
        }
      },
      "source": [
        "# Training of LSTM+fcl\n",
        "LSTM_result_T1, LSTM__predictions_T1, LSTM_wrong_pred_T1 = evaluate_metrics(task_builder(10000, 100), LSTM, \n",
        "                                                                            n_epoch = 10, verbose = True)"
      ],
      "execution_count": 0,
      "outputs": [
        {
          "output_type": "display_data",
          "data": {
            "application/vnd.jupyter.widget-view+json": {
              "model_id": "b3533b2733e549f89c0c857e47d7525d",
              "version_minor": 0,
              "version_major": 2
            },
            "text/plain": [
              "HBox(children=(FloatProgress(value=0.0, max=10.0), HTML(value='')))"
            ]
          },
          "metadata": {
            "tags": []
          }
        },
        {
          "output_type": "stream",
          "text": [
            "\n",
            "Epoch: [1/10]\n",
            "Train loss is: 0.009606958991584006\n",
            "Validation loss is: 0.014013873556016434\n",
            "Train accuracy is: 96.74 %\n",
            "Train accuracy for pixels is: 99.7275 %\n",
            "Validation accuracy is: 94.0 %\n",
            "Validation accuracy for pixels is: 99.5 %\n",
            "\n",
            "Epoch: [2/10]\n",
            "Train loss is: 0.008589557647351084\n",
            "Validation loss is: 0.002481752500671779\n",
            "Train accuracy is: 96.73 %\n",
            "Train accuracy for pixels is: 99.83333333333333 %\n",
            "Validation accuracy is: 96.0 %\n",
            "Validation accuracy for pixels is: 99.89583333333333 %\n",
            "\n",
            "Epoch: [3/10]\n",
            "Train loss is: 0.00041382579321869894\n",
            "Validation loss is: 4.033889646387013e-06\n",
            "Train accuracy is: 99.48 %\n",
            "Train accuracy for pixels is: 99.98625 %\n",
            "Validation accuracy is: 100.0 %\n",
            "Validation accuracy for pixels is: 100.0 %\n",
            "\n",
            "Epoch: [4/10]\n",
            "Train loss is: 0.0020848243423406787\n",
            "Validation loss is: 0.0005012414980086866\n",
            "Train accuracy is: 99.17 %\n",
            "Train accuracy for pixels is: 99.97083333333333 %\n",
            "Validation accuracy is: 99.0 %\n",
            "Validation accuracy for pixels is: 99.95833333333333 %\n",
            "\n",
            "Epoch: [5/10]\n",
            "Train loss is: 0.0003567236832156317\n",
            "Validation loss is: 0.005168433893317417\n",
            "Train accuracy is: 99.85 %\n",
            "Train accuracy for pixels is: 99.99375 %\n",
            "Validation accuracy is: 99.0 %\n",
            "Validation accuracy for pixels is: 99.91666666666667 %\n",
            "\n",
            "Epoch: [6/10]\n",
            "Train loss is: 0.0010797305918236687\n",
            "Validation loss is: 0.0007286103207256746\n",
            "Train accuracy is: 99.19 %\n",
            "Train accuracy for pixels is: 99.978125 %\n",
            "Validation accuracy is: 99.0 %\n",
            "Validation accuracy for pixels is: 99.97916666666667 %\n",
            "\n",
            "Epoch: [7/10]\n",
            "Train loss is: 0.001465365329694881\n",
            "Validation loss is: 0.005694798828812596\n",
            "Train accuracy is: 99.65 %\n",
            "Train accuracy for pixels is: 99.98604166666667 %\n",
            "Validation accuracy is: 99.0 %\n",
            "Validation accuracy for pixels is: 99.91666666666667 %\n",
            "\n",
            "Epoch: [8/10]\n",
            "Train loss is: 0.0004642835829401313\n",
            "Validation loss is: 0.0002065535498114782\n",
            "Train accuracy is: 99.64 %\n",
            "Train accuracy for pixels is: 99.99 %\n",
            "Validation accuracy is: 99.0 %\n",
            "Validation accuracy for pixels is: 99.97916666666667 %\n",
            "\n",
            "Epoch: [9/10]\n",
            "Train loss is: 0.00012317628200356366\n",
            "Validation loss is: 3.062422367277819e-09\n",
            "Train accuracy is: 99.98 %\n",
            "Train accuracy for pixels is: 99.99833333333333 %\n",
            "Validation accuracy is: 100.0 %\n",
            "Validation accuracy for pixels is: 100.0 %\n",
            "\n",
            "Epoch: [10/10]\n",
            "Train loss is: 8.890353868911469e-12\n",
            "Validation loss is: 3.1424245358660075e-10\n",
            "Train accuracy is: 100.0 %\n",
            "Train accuracy for pixels is: 100.0 %\n",
            "Validation accuracy is: 100.0 %\n",
            "Validation accuracy for pixels is: 100.0 %\n",
            "\n"
          ],
          "name": "stdout"
        }
      ]
    },
    {
      "cell_type": "code",
      "metadata": {
        "id": "YFCHJOLR9_aS",
        "colab_type": "code",
        "outputId": "5b7136fe-a38b-461f-ef35-d1d88839f1a4",
        "colab": {
          "base_uri": "https://localhost:8080/",
          "height": 246
        }
      },
      "source": [
        "plot_metrics(LSTM_result_T1) # LSTM+fcl"
      ],
      "execution_count": 0,
      "outputs": [
        {
          "output_type": "display_data",
          "data": {
            "image/png": "[encoded data removed]",
            "text/plain": [
              "<Figure size 1750x350 with 3 Axes>"
            ]
          },
          "metadata": {
            "tags": [],
            "needs_background": "light"
          }
        }
      ]
    },
    {
      "cell_type": "code",
      "metadata": {
        "id": "ZKJnNGqa-Tz3",
        "colab_type": "code",
        "outputId": "7604dd67-1b41-4b0e-e577-19f07b252469",
        "colab": {
          "base_uri": "https://localhost:8080/",
          "height": 1000,
          "referenced_widgets": [
            "e3278286b87c4c599a3507b588ce1a58",
            "eea880b748904ef989672051d6e4f2f3",
            "7848bf3c15294fe3b3073cee0d6b8a03",
            "ac8b82530cb54a3a96b3665de6797a90",
            "633ca33a8e05478f95fffa18106c2361",
            "59350b5a4c844cc095ef1be439f36f4c",
            "95caabf36ac54ea7b528faa4aef4f498",
            "307832b010b14d89abe45ee045ac709f"
          ]
        }
      },
      "source": [
        "# Training of LSTM alone\n",
        "LSTM_result_T1, LSTM__predictions_T1, LSTM_wrong_pred_T1 = evaluate_metrics(task_builder(10000, 100), LSTM, \n",
        "                                                                            n_epoch = 10, verbose = True)"
      ],
      "execution_count": 0,
      "outputs": [
        {
          "output_type": "display_data",
          "data": {
            "application/vnd.jupyter.widget-view+json": {
              "model_id": "e3278286b87c4c599a3507b588ce1a58",
              "version_minor": 0,
              "version_major": 2
            },
            "text/plain": [
              "HBox(children=(FloatProgress(value=0.0, max=10.0), HTML(value='')))"
            ]
          },
          "metadata": {
            "tags": []
          }
        },
        {
          "output_type": "stream",
          "text": [
            "\n",
            "Epoch: [1/10]\n",
            "Train loss is: 1.4163762134671212\n",
            "Validation loss is: 1.4182110285758973\n",
            "Train accuracy is: 3.73 %\n",
            "Train accuracy for pixels is: 89.38895833333333 %\n",
            "Validation accuracy is: 2.0 %\n",
            "Validation accuracy for pixels is: 89.20833333333333 %\n",
            "\n",
            "Epoch: [2/10]\n",
            "Train loss is: 1.3554937895655632\n",
            "Validation loss is: 1.3540194404125214\n",
            "Train accuracy is: 0.7 %\n",
            "Train accuracy for pixels is: 93.35041666666666 %\n",
            "Validation accuracy is: 1.0 %\n",
            "Validation accuracy for pixels is: 93.625 %\n",
            "\n",
            "Epoch: [3/10]\n",
            "Train loss is: 1.366520606327057\n",
            "Validation loss is: 1.3639681804180146\n",
            "Train accuracy is: 0.42 %\n",
            "Train accuracy for pixels is: 93.27416666666667 %\n",
            "Validation accuracy is: 1.0 %\n",
            "Validation accuracy for pixels is: 93.5 %\n",
            "\n",
            "Epoch: [4/10]\n",
            "Train loss is: 1.3707844683408736\n",
            "Validation loss is: 1.370719004869461\n",
            "Train accuracy is: 0.24 %\n",
            "Train accuracy for pixels is: 92.68104166666667 %\n",
            "Validation accuracy is: 0.0 %\n",
            "Validation accuracy for pixels is: 92.39583333333333 %\n",
            "\n",
            "Epoch: [5/10]\n",
            "Train loss is: 1.312921219408512\n",
            "Validation loss is: 1.3115139389038086\n",
            "Train accuracy is: 19.18 %\n",
            "Train accuracy for pixels is: 95.779375 %\n",
            "Validation accuracy is: 19.0 %\n",
            "Validation accuracy for pixels is: 95.875 %\n",
            "\n",
            "Epoch: [6/10]\n",
            "Train loss is: 1.3261600412726402\n",
            "Validation loss is: 1.3240689170360564\n",
            "Train accuracy is: 1.27 %\n",
            "Train accuracy for pixels is: 94.97104166666666 %\n",
            "Validation accuracy is: 1.0 %\n",
            "Validation accuracy for pixels is: 95.20833333333333 %\n",
            "\n",
            "Epoch: [7/10]\n",
            "Train loss is: 1.3041017073154448\n",
            "Validation loss is: 1.3030832350254058\n",
            "Train accuracy is: 9.71 %\n",
            "Train accuracy for pixels is: 96.29583333333333 %\n",
            "Validation accuracy is: 10.0 %\n",
            "Validation accuracy for pixels is: 96.41666666666667 %\n",
            "\n",
            "Epoch: [8/10]\n",
            "Train loss is: 1.2969870215892791\n",
            "Validation loss is: 1.2959861695766448\n",
            "Train accuracy is: 26.55 %\n",
            "Train accuracy for pixels is: 96.73145833333334 %\n",
            "Validation accuracy is: 30.0 %\n",
            "Validation accuracy for pixels is: 96.91666666666667 %\n",
            "\n",
            "Epoch: [9/10]\n",
            "Train loss is: 1.2947806211829185\n",
            "Validation loss is: 1.293810750246048\n",
            "Train accuracy is: 26.1 %\n",
            "Train accuracy for pixels is: 96.72354166666666 %\n",
            "Validation accuracy is: 29.0 %\n",
            "Validation accuracy for pixels is: 96.89583333333333 %\n",
            "\n",
            "Epoch: [10/10]\n",
            "Train loss is: 1.2924183584809303\n",
            "Validation loss is: 1.291412378549576\n",
            "Train accuracy is: 26.76 %\n",
            "Train accuracy for pixels is: 96.73583333333333 %\n",
            "Validation accuracy is: 30.0 %\n",
            "Validation accuracy for pixels is: 96.91666666666667 %\n",
            "\n"
          ],
          "name": "stdout"
        }
      ]
    },
    {
      "cell_type": "code",
      "metadata": {
        "id": "Lgs_zb2mAuWR",
        "colab_type": "code",
        "outputId": "a139266d-9614-4622-c94b-a49349f4c5b7",
        "colab": {
          "base_uri": "https://localhost:8080/",
          "height": 247
        }
      },
      "source": [
        "plot_metrics(LSTM_result_T1) # LSTM alone"
      ],
      "execution_count": 0,
      "outputs": [
        {
          "output_type": "display_data",
          "data": {
            "image/png": "[encoded data removed]",
            "text/plain": [
              "<Figure size 1750x350 with 3 Axes>"
            ]
          },
          "metadata": {
            "tags": [],
            "needs_background": "light"
          }
        }
      ]
    },
    {
      "cell_type": "markdown",
      "metadata": {
        "id": "tsHmyu3y-Ucu",
        "colab_type": "text"
      },
      "source": [
        "### CNN\n"
      ]
    },
    {
      "cell_type": "code",
      "metadata": {
        "id": "RNSeHySW-Xeq",
        "colab_type": "code",
        "colab": {}
      },
      "source": [
        "class CNN(nn.Module):\n",
        "\n",
        "  def __init__(self, task_train, w, h):\n",
        "    super(CNN, self).__init__()\n",
        "\n",
        "    self.out_dim = np.array(np.array(task_train[0]['output']).shape)\n",
        "    self.conv = nn.Conv2d(in_channels=10, out_channels=10, kernel_size=5, padding=2)\n",
        "\n",
        "  def forward(self, x):  \n",
        "    x = x.unsqueeze(0)\n",
        "    x = torch.nn.Upsample(size=(self.out_dim[0], self.out_dim[1]))(x)\n",
        "    x = self.conv(x)\n",
        "    return x"
      ],
      "execution_count": 0,
      "outputs": []
    },
    {
      "cell_type": "code",
      "metadata": {
        "id": "KZfmiClXAEjW",
        "colab_type": "code",
        "outputId": "e34fc86e-1e4a-4f14-c2fd-b747e196f172",
        "colab": {
          "base_uri": "https://localhost:8080/",
          "height": 1000,
          "referenced_widgets": [
            "ecc531475e8443cfb43569a1d616b1cf",
            "58813fcf8c1145e19192566b6f688edc",
            "66ffac0a4ec047fba8718e7684aefa6f",
            "e617c8aecfa2486fbf2db6493e7ee201",
            "d6af97bdf6fe46a283e78787c7d5aae9",
            "89f852718d29472980e4f6baf85ccdd4",
            "5c5977ce93db4099a80a5c90d8c6bbdb",
            "1f11925b2370491b975e71cfc2f1e44f"
          ]
        }
      },
      "source": [
        "# Training\n",
        "CNN_result_T1, CNN_predictions_T1, CNN_wrong_pred_T1 = evaluate_metrics(task_builder(10000, 100), CNN, \n",
        "                                                                            n_epoch = 10, verbose = True)"
      ],
      "execution_count": 0,
      "outputs": [
        {
          "output_type": "display_data",
          "data": {
            "application/vnd.jupyter.widget-view+json": {
              "model_id": "ecc531475e8443cfb43569a1d616b1cf",
              "version_minor": 0,
              "version_major": 2
            },
            "text/plain": [
              "HBox(children=(FloatProgress(value=0.0, max=10.0), HTML(value='')))"
            ]
          },
          "metadata": {
            "tags": []
          }
        },
        {
          "output_type": "stream",
          "text": [
            "\n",
            "Epoch: [1/10]\n",
            "Train loss is: 2.0037751794355922\n",
            "Validation loss is: 2.4220959290862085\n",
            "Train accuracy is: 0.01 %\n",
            "Train accuracy for pixels is: 58.297916666666666 %\n",
            "Validation accuracy is: 0.0 %\n",
            "Validation accuracy for pixels is: 56.8125 %\n",
            "\n",
            "Epoch: [2/10]\n",
            "Train loss is: 2.0418975167553164\n",
            "Validation loss is: 2.400039077401161\n",
            "Train accuracy is: 0.02 %\n",
            "Train accuracy for pixels is: 56.55833333333333 %\n",
            "Validation accuracy is: 0.0 %\n",
            "Validation accuracy for pixels is: 54.8125 %\n",
            "\n",
            "Epoch: [3/10]\n",
            "Train loss is: 1.8684832660250366\n",
            "Validation loss is: 1.9455296143889427\n",
            "Train accuracy is: 0.01 %\n",
            "Train accuracy for pixels is: 54.63645833333333 %\n",
            "Validation accuracy is: 0.0 %\n",
            "Validation accuracy for pixels is: 54.229166666666664 %\n",
            "\n",
            "Epoch: [4/10]\n",
            "Train loss is: 1.8437074086218375\n",
            "Validation loss is: 2.1397226589918135\n",
            "Train accuracy is: 0.01 %\n",
            "Train accuracy for pixels is: 57.045833333333334 %\n",
            "Validation accuracy is: 0.0 %\n",
            "Validation accuracy for pixels is: 56.104166666666664 %\n",
            "\n",
            "Epoch: [5/10]\n",
            "Train loss is: 2.3235616018105536\n",
            "Validation loss is: 2.812223905920982\n",
            "Train accuracy is: 0.03 %\n",
            "Train accuracy for pixels is: 56.34916666666667 %\n",
            "Validation accuracy is: 0.0 %\n",
            "Validation accuracy for pixels is: 54.166666666666664 %\n",
            "\n",
            "Epoch: [6/10]\n",
            "Train loss is: 2.1993568096014955\n",
            "Validation loss is: 2.71731992572546\n",
            "Train accuracy is: 0.03 %\n",
            "Train accuracy for pixels is: 57.11270833333333 %\n",
            "Validation accuracy is: 0.0 %\n",
            "Validation accuracy for pixels is: 55.229166666666664 %\n",
            "\n",
            "Epoch: [7/10]\n",
            "Train loss is: 1.9703354968339204\n",
            "Validation loss is: 2.3535792917013167\n",
            "Train accuracy is: 0.01 %\n",
            "Train accuracy for pixels is: 57.22125 %\n",
            "Validation accuracy is: 0.0 %\n",
            "Validation accuracy for pixels is: 55.25 %\n",
            "\n",
            "Epoch: [8/10]\n",
            "Train loss is: 2.381948713972134\n",
            "Validation loss is: 2.8026241600513457\n",
            "Train accuracy is: 0.02 %\n",
            "Train accuracy for pixels is: 55.77916666666667 %\n",
            "Validation accuracy is: 0.0 %\n",
            "Validation accuracy for pixels is: 53.979166666666664 %\n",
            "\n",
            "Epoch: [9/10]\n",
            "Train loss is: 1.8401243043667541\n",
            "Validation loss is: 2.130803869664669\n",
            "Train accuracy is: 0.03 %\n",
            "Train accuracy for pixels is: 56.396875 %\n",
            "Validation accuracy is: 0.0 %\n",
            "Validation accuracy for pixels is: 55.541666666666664 %\n",
            "\n",
            "Epoch: [10/10]\n",
            "Train loss is: 2.449298168705246\n",
            "Validation loss is: 2.89045688867569\n",
            "Train accuracy is: 0.03 %\n",
            "Train accuracy for pixels is: 55.869166666666665 %\n",
            "Validation accuracy is: 0.0 %\n",
            "Validation accuracy for pixels is: 53.833333333333336 %\n",
            "\n"
          ],
          "name": "stdout"
        }
      ]
    },
    {
      "cell_type": "code",
      "metadata": {
        "id": "aebPb2Y_AO6G",
        "colab_type": "code",
        "outputId": "fb7a3b42-65ef-49d5-b448-524bf87bc2a7",
        "colab": {
          "base_uri": "https://localhost:8080/",
          "height": 248
        }
      },
      "source": [
        "plot_metrics(CNN_result_T1)"
      ],
      "execution_count": 0,
      "outputs": [
        {
          "output_type": "display_data",
          "data": {
            "image/png": "[encoded data removed]",
            "text/plain": [
              "<Figure size 1750x350 with 3 Axes>"
            ]
          },
          "metadata": {
            "tags": [],
            "needs_background": "light"
          }
        }
      ]
    },
    {
      "cell_type": "code",
      "metadata": {
        "id": "LIvxWEXcATnV",
        "colab_type": "code",
        "colab": {}
      },
      "source": [
        ""
      ],
      "execution_count": 0,
      "outputs": []
    },
    {
      "cell_type": "markdown",
      "metadata": {
        "id": "2lTCXqWXA3nW",
        "colab_type": "text"
      },
      "source": [
        "## Task 4"
      ]
    },
    {
      "cell_type": "code",
      "metadata": {
        "id": "07xwePNaA_Dn",
        "colab_type": "code",
        "outputId": "7bde2c67-cadb-4a4b-a8b6-78f9b8f87758",
        "colab": {
          "base_uri": "https://localhost:8080/",
          "height": 309
        }
      },
      "source": [
        "def task_builder(n_train=1000, n_test=250):\n",
        "    task={'train':[], 'test':[]}\n",
        "    for i in range(0,n_train):\n",
        "        inp, out = gener_four()\n",
        "        task['train'].append({'input':inp, 'output':out})\n",
        "    for i in range(0,n_test):\n",
        "        inp, out = gener_four()\n",
        "        task['test'].append({'input':inp, 'output':out})\n",
        "    return task\n",
        "\n",
        "task=task_builder(5, 2)\n",
        "plot_task(task)"
      ],
      "execution_count": 0,
      "outputs": [
        {
          "output_type": "display_data",
          "data": {
            "image/png": "[encoded data removed]",
            "text/plain": [
              "<Figure size 1400x400 with 14 Axes>"
            ]
          },
          "metadata": {
            "tags": [],
            "needs_background": "light"
          }
        }
      ]
    },
    {
      "cell_type": "markdown",
      "metadata": {
        "id": "dqE8xb-vBHps",
        "colab_type": "text"
      },
      "source": [
        "### Fully Connected NN"
      ]
    },
    {
      "cell_type": "code",
      "metadata": {
        "id": "toZYMajgBGsw",
        "colab_type": "code",
        "colab": {}
      },
      "source": [
        "class FullyConNN_T4(nn.Module):\n",
        "  def __init__(self, task_train, sh1_big, sh2_big):\n",
        "    super(FullyConNN_T4, self).__init__()\n",
        "\n",
        "    self.largest_w = sh1_big\n",
        "    self.largest_h = sh2_big\n",
        "    self.linear = nn.Linear(self.largest_w*self.largest_h*10, self.largest_w*self.largest_h*10)\n",
        "\n",
        "  def forward(self, x):  \n",
        "    ch, input_w, input_h = x.shape[0], x.shape[1], x.shape[2]\n",
        "    x = pad_crop(x, self.largest_w, self.largest_h, input_w, input_h, goal='pad') # Padding\n",
        "    x = x.view(-1).unsqueeze(0) # Flatten\n",
        "    x = self.linear(x) # Dense\n",
        "    x = torch.reshape(x, (1, 10, self.largest_w, self.largest_h)) # Reshape\n",
        "    x = pad_crop(x, input_w, input_h, self.largest_w, self.largest_h, goal='crop') # Cropping\n",
        "    return x"
      ],
      "execution_count": 0,
      "outputs": []
    },
    {
      "cell_type": "code",
      "metadata": {
        "id": "tWU0D2ApUPzu",
        "colab_type": "code",
        "outputId": "9abde102-dedd-4c5f-933f-367042758b3d",
        "colab": {
          "base_uri": "https://localhost:8080/",
          "height": 1000,
          "referenced_widgets": [
            "bb9815b85cf04405a4a6e290ee06b11e",
            "d8b942350816445285dc088e19722181",
            "e071946a716b4d70b76ec23be1316370",
            "1ec9c1be373b4a40a77e089b1713f3ee",
            "e6efa10b6942486cbdd0660441971ae8",
            "eabf3b8038374c07a33ffc4d51091247",
            "1951504d2b614b36a6d4bec5e353a738",
            "a18551f0561c469cbf4db8f053f83759"
          ]
        }
      },
      "source": [
        "fcNN_results_T4, fcNN_predictions_T4, fcNN_wrong_pred_T4 = evaluate_metrics(task_builder(1000, 50), FullyConNN_T4, n_epoch = 10, verbose = True)"
      ],
      "execution_count": 212,
      "outputs": [
        {
          "output_type": "display_data",
          "data": {
            "application/vnd.jupyter.widget-view+json": {
              "model_id": "bb9815b85cf04405a4a6e290ee06b11e",
              "version_minor": 0,
              "version_major": 2
            },
            "text/plain": [
              "HBox(children=(FloatProgress(value=0.0, max=10.0), HTML(value='')))"
            ]
          },
          "metadata": {
            "tags": []
          }
        },
        {
          "output_type": "stream",
          "text": [
            "\n",
            "Epoch: [1/10]\n",
            "Train loss is: 1.7143103204905463\n",
            "Validation loss is: 3.278173967599869\n",
            "Train accuracy is: 0.6 %\n",
            "Train accuracy for pixels is: 94.7558659900281 %\n",
            "Validation accuracy is: 0.0 %\n",
            "Validation accuracy for pixels is: 91.56733875459507 %\n",
            "\n",
            "Epoch: [2/10]\n",
            "Train loss is: 1.082933010999714\n",
            "Validation loss is: 3.325766346901655\n",
            "Train accuracy is: 1.8 %\n",
            "Train accuracy for pixels is: 96.86962122305754 %\n",
            "Validation accuracy is: 0.0 %\n",
            "Validation accuracy for pixels is: 92.99320485685641 %\n",
            "\n",
            "Epoch: [3/10]\n",
            "Train loss is: 1.0317317193313007\n",
            "Validation loss is: 3.4653861555457115\n",
            "Train accuracy is: 2.7 %\n",
            "Train accuracy for pixels is: 97.46593672615016 %\n",
            "Validation accuracy is: 0.0 %\n",
            "Validation accuracy for pixels is: 93.78411496045449 %\n",
            "\n",
            "Epoch: [4/10]\n",
            "Train loss is: 0.758667662370167\n",
            "Validation loss is: 3.2765578305721283\n",
            "Train accuracy is: 6.8 %\n",
            "Train accuracy for pixels is: 98.17551886111512 %\n",
            "Validation accuracy is: 0.0 %\n",
            "Validation accuracy for pixels is: 94.67528127436783 %\n",
            "\n",
            "Epoch: [5/10]\n",
            "Train loss is: 0.8012782995675984\n",
            "Validation loss is: 3.4438803857564926\n",
            "Train accuracy is: 6.4 %\n",
            "Train accuracy for pixels is: 98.2565822349061 %\n",
            "Validation accuracy is: 0.0 %\n",
            "Validation accuracy for pixels is: 94.5861646429765 %\n",
            "\n",
            "Epoch: [6/10]\n",
            "Train loss is: 0.5576481919914948\n",
            "Validation loss is: 3.0708917645365\n",
            "Train accuracy is: 16.5 %\n",
            "Train accuracy for pixels is: 98.84290362342176 %\n",
            "Validation accuracy is: 0.0 %\n",
            "Validation accuracy for pixels is: 95.5218892725855 %\n",
            "\n",
            "Epoch: [7/10]\n",
            "Train loss is: 0.43364545218203626\n",
            "Validation loss is: 3.2334997710585593\n",
            "Train accuracy is: 25.1 %\n",
            "Train accuracy for pixels is: 99.10719243112389 %\n",
            "Validation accuracy is: 0.0 %\n",
            "Validation accuracy for pixels is: 95.46619137796591 %\n",
            "\n",
            "Epoch: [8/10]\n",
            "Train loss is: 0.30821534328588535\n",
            "Validation loss is: 2.8644158808887004\n",
            "Train accuracy is: 32.0 %\n",
            "Train accuracy for pixels is: 99.32040020876595 %\n",
            "Validation accuracy is: 0.0 %\n",
            "Validation accuracy for pixels is: 96.22368274479224 %\n",
            "\n",
            "Epoch: [9/10]\n",
            "Train loss is: 0.2139360061566796\n",
            "Validation loss is: 2.7974291709065437\n",
            "Train accuracy is: 46.9 %\n",
            "Train accuracy for pixels is: 99.57136353036545 %\n",
            "Validation accuracy is: 0.0 %\n",
            "Validation accuracy for pixels is: 96.24596190264008 %\n",
            "\n",
            "Epoch: [10/10]\n",
            "Train loss is: 0.13500962765855376\n",
            "Validation loss is: 2.591955605149269\n",
            "Train accuracy is: 59.6 %\n",
            "Train accuracy for pixels is: 99.71239159161827 %\n",
            "Validation accuracy is: 2.0 %\n",
            "Validation accuracy for pixels is: 96.5912888492815 %\n",
            "\n"
          ],
          "name": "stdout"
        }
      ]
    },
    {
      "cell_type": "code",
      "metadata": {
        "id": "24Suyh9n6dtm",
        "colab_type": "code",
        "colab": {
          "base_uri": "https://localhost:8080/",
          "height": 250
        },
        "outputId": "f2a63278-9967-4c93-e953-f223ca99e354"
      },
      "source": [
        "plot_metrics(fcNN_results_T4)"
      ],
      "execution_count": 213,
      "outputs": [
        {
          "output_type": "display_data",
          "data": {
            "image/png": "[encoded data removed]",
            "text/plain": [
              "<Figure size 1750x350 with 3 Axes>"
            ]
          },
          "metadata": {
            "tags": [],
            "needs_background": "light"
          }
        }
      ]
    },
    {
      "cell_type": "markdown",
      "metadata": {
        "id": "5ehF8Qp_CzEZ",
        "colab_type": "text"
      },
      "source": [
        "### LSTM"
      ]
    },
    {
      "cell_type": "code",
      "metadata": {
        "id": "jKz-vO6mC3wv",
        "colab_type": "code",
        "colab": {}
      },
      "source": [
        "class LSTM_T4(nn.Module):\n",
        "  def __init__(self, task_train, sh1_big, sh2_big):\n",
        "    super(LSTM_T4, self).__init__() \n",
        "\n",
        "    self.largest_w = sh1_big\n",
        "    self.largest_h = sh2_big\n",
        "    self.LSTM = nn.LSTM(self.largest_w*self.largest_h, self.largest_w*self.largest_h, dropout=0, batch_first=True)\n",
        "    #self.linear = nn.Linear(self.largest_w*self.largest_h, self.largest_w*self.largest_h)\n",
        "\n",
        "  def forward(self, x):     \n",
        "\n",
        "    ch, input_w, input_h = x.shape[0], x.shape[1], x.shape[2]\n",
        "    x = pad_crop(x, self.largest_w, self.largest_h, input_w, input_h, goal='pad') # Padding\n",
        "    x = x.view(ch, -1).unsqueeze(0)\n",
        "    x, _ = self.LSTM(x)\n",
        "    #x = self.linear(x)    \n",
        "    x = torch.reshape(x, (1, 10, self.largest_w, self.largest_h)) \n",
        "    x = pad_crop(x, input_w, input_h, self.largest_w, self.largest_h, goal='crop') # Cropping\n",
        "    \n",
        "    return x"
      ],
      "execution_count": 0,
      "outputs": []
    },
    {
      "cell_type": "code",
      "metadata": {
        "id": "gd2UdGuiFEtz",
        "colab_type": "code",
        "outputId": "af127570-f322-4318-efdc-0767427d1f3b",
        "colab": {
          "base_uri": "https://localhost:8080/",
          "height": 0,
          "referenced_widgets": [
            "d32b91f811444663a4042909a76a482a",
            "d5fa241491a5411c85bd4c91651e13cb",
            "9d5647a0f0454413aff446781435fb86",
            "1a877cce62754930827c8b351ae906b9",
            "722cb765719c4d78a3a5c259953d8b21",
            "70ba6d7419ee4f49bbb42eac1c3f1dc5",
            "4b273160fb7b4d2183d95d966aaf89d3",
            "78d1e262b9804c748b8fabfcf61ddf99"
          ]
        }
      },
      "source": [
        "# Training\n",
        "LSTM_results_T4, LSTM_predictions_T4, LSTM_wrong_pred_T4 = evaluate_metrics(task_builder(5000, 50), LSTM_T4, n_epoch = 10, verbose = True)"
      ],
      "execution_count": 166,
      "outputs": [
        {
          "output_type": "display_data",
          "data": {
            "application/vnd.jupyter.widget-view+json": {
              "model_id": "d32b91f811444663a4042909a76a482a",
              "version_minor": 0,
              "version_major": 2
            },
            "text/plain": [
              "HBox(children=(FloatProgress(value=0.0, max=10.0), HTML(value='')))"
            ]
          },
          "metadata": {
            "tags": []
          }
        },
        {
          "output_type": "stream",
          "text": [
            "\n",
            "Epoch: [1/10]\n",
            "Train loss is: 1.9323675471544266\n",
            "Validation loss is: 1.9307781267166138\n",
            "Train accuracy is: 0.0 %\n",
            "Train accuracy for pixels is: 60.67013166008571 %\n",
            "Validation accuracy is: 0.0 %\n",
            "Validation accuracy for pixels is: 61.29032258064516 %\n",
            "\n",
            "Epoch: [2/10]\n",
            "Train loss is: 1.9342470394849778\n",
            "Validation loss is: 1.933322787284851\n",
            "Train accuracy is: 0.0 %\n",
            "Train accuracy for pixels is: 61.63670201911508 %\n",
            "Validation accuracy is: 0.0 %\n",
            "Validation accuracy for pixels is: 62.30042359074617 %\n",
            "\n",
            "Epoch: [3/10]\n",
            "Train loss is: 1.9396085836648942\n",
            "Validation loss is: 1.9389747285842895\n",
            "Train accuracy is: 0.0 %\n",
            "Train accuracy for pixels is: 61.239279688752745 %\n",
            "Validation accuracy is: 0.0 %\n",
            "Validation accuracy for pixels is: 61.73563592918432 %\n",
            "\n",
            "Epoch: [4/10]\n",
            "Train loss is: 1.9342460368394851\n",
            "Validation loss is: 1.9337265753746034\n",
            "Train accuracy is: 0.0 %\n",
            "Train accuracy for pixels is: 61.946588847419484 %\n",
            "Validation accuracy is: 0.0 %\n",
            "Validation accuracy for pixels is: 62.40903660258499 %\n",
            "\n",
            "Epoch: [5/10]\n",
            "Train loss is: 1.9237032069921494\n",
            "Validation loss is: 1.9245226979255676\n",
            "Train accuracy is: 0.0 %\n",
            "Train accuracy for pixels is: 62.694264696207206 %\n",
            "Validation accuracy is: 0.0 %\n",
            "Validation accuracy for pixels is: 63.00640816769849 %\n",
            "\n",
            "Epoch: [6/10]\n",
            "Train loss is: 1.9236791078329087\n",
            "Validation loss is: 1.9250379157066346\n",
            "Train accuracy is: 0.0 %\n",
            "Train accuracy for pixels is: 63.028014705964345 %\n",
            "Validation accuracy is: 0.0 %\n",
            "Validation accuracy for pixels is: 63.32138590203106 %\n",
            "\n",
            "Epoch: [7/10]\n",
            "Train loss is: 1.9201568147659303\n",
            "Validation loss is: 1.9207059526443482\n",
            "Train accuracy is: 0.0 %\n",
            "Train accuracy for pixels is: 63.4645771143169 %\n",
            "Validation accuracy is: 0.0 %\n",
            "Validation accuracy for pixels is: 63.78842185293798 %\n",
            "\n",
            "Epoch: [8/10]\n",
            "Train loss is: 1.9058626846551896\n",
            "Validation loss is: 1.90639573097229\n",
            "Train accuracy is: 0.0 %\n",
            "Train accuracy for pixels is: 63.99023616743925 %\n",
            "Validation accuracy is: 0.0 %\n",
            "Validation accuracy for pixels is: 64.34234821331596 %\n",
            "\n",
            "Epoch: [9/10]\n",
            "Train loss is: 1.9025533536195756\n",
            "Validation loss is: 1.9034352111816406\n",
            "Train accuracy is: 0.0 %\n",
            "Train accuracy for pixels is: 65.09585973801795 %\n",
            "Validation accuracy is: 0.0 %\n",
            "Validation accuracy for pixels is: 65.35244922341697 %\n",
            "\n",
            "Epoch: [10/10]\n",
            "Train loss is: 1.9013606434583663\n",
            "Validation loss is: 1.902173616886139\n",
            "Train accuracy is: 0.0 %\n",
            "Train accuracy for pixels is: 65.39704877121342 %\n",
            "Validation accuracy is: 0.0 %\n",
            "Validation accuracy for pixels is: 65.76517866840447 %\n",
            "\n"
          ],
          "name": "stdout"
        }
      ]
    },
    {
      "cell_type": "code",
      "metadata": {
        "id": "2E1n2POwmFIE",
        "colab_type": "code",
        "colab": {
          "base_uri": "https://localhost:8080/",
          "height": 249
        },
        "outputId": "aec2c5f5-37f6-4e99-b763-fb390072265b"
      },
      "source": [
        "plot_metrics(LSTM_results_T4)"
      ],
      "execution_count": 167,
      "outputs": [
        {
          "output_type": "display_data",
          "data": {
            "image/png": "[encoded data removed]",
            "text/plain": [
              "<Figure size 1750x350 with 3 Axes>"
            ]
          },
          "metadata": {
            "tags": [],
            "needs_background": "light"
          }
        }
      ]
    },
    {
      "cell_type": "markdown",
      "metadata": {
        "id": "4TY0FCywFu-T",
        "colab_type": "text"
      },
      "source": [
        "### CNN\n"
      ]
    },
    {
      "cell_type": "code",
      "metadata": {
        "id": "OCOatbO3FyH4",
        "colab_type": "code",
        "colab": {}
      },
      "source": [
        "# Basic CNN\n",
        "class CNN_T4(nn.Module):\n",
        "  def __init__(self, task_train, sh1_big, sh2_big):\n",
        "    super(CNN_T4, self).__init__()\n",
        "\n",
        "    self.largest_w = sh1_big\n",
        "    self.largest_h = sh2_big\n",
        "    self.conv = nn.Conv2d(in_channels=10, out_channels=10, kernel_size=5, padding=2)\n",
        "\n",
        "  def forward(self, x):  \n",
        "    ch, input_w, input_h = x.shape[0], x.shape[1], x.shape[2]\n",
        "    x = pad_crop(x, self.largest_w, self.largest_h, input_w, input_h, goal='pad')\n",
        "    x = x.unsqueeze(0)\n",
        "    x = self.conv(x)\n",
        "    x = x = pad_crop(x, input_w, input_h, self.largest_w, self.largest_h, goal='crop')\n",
        "    return x"
      ],
      "execution_count": 0,
      "outputs": []
    },
    {
      "cell_type": "code",
      "metadata": {
        "id": "9CSXxwk6I7EB",
        "colab_type": "code",
        "outputId": "99e14174-6dec-4eae-82b3-c9f7aa0b5f0b",
        "colab": {
          "base_uri": "https://localhost:8080/",
          "height": 1000,
          "referenced_widgets": [
            "572b731973bd46aca7bd016301c99c9f",
            "14ad5fa83e8f46a4972aecd4bc9055a7",
            "6619756b355b4ffa808fd96e4dc90abe",
            "896551ddd284489f8c358d3e7e9e546a",
            "b4d5a3c2ddeb426fa22f3ecfa98a3f6a",
            "fcb106b41c8f4234a075ff20898c6e7c",
            "24ffdfd7c4b0484fa7d2d535c4f0281c",
            "7cde756031a44ca4bbe4e8c5a1e3dac3"
          ]
        }
      },
      "source": [
        "# Training\n",
        "CNN_result_T4, CNN_predictions_T4, CNN_wrong_pred_T4 = evaluate_metrics(task_builder(10000, 100), CNN_T4, \n",
        "                                                                            n_epoch = 10, verbose = True)"
      ],
      "execution_count": 0,
      "outputs": [
        {
          "output_type": "display_data",
          "data": {
            "application/vnd.jupyter.widget-view+json": {
              "model_id": "572b731973bd46aca7bd016301c99c9f",
              "version_minor": 0,
              "version_major": 2
            },
            "text/plain": [
              "HBox(children=(FloatProgress(value=0.0, max=10.0), HTML(value='')))"
            ]
          },
          "metadata": {
            "tags": []
          }
        },
        {
          "output_type": "stream",
          "text": [
            "\n",
            "Epoch: [1/10]\n",
            "Train loss is: 0.017865435776932243\n",
            "Validation loss is: 0.017901566244940163\n",
            "Train accuracy is: 74.14 %\n",
            "Train accuracy for pixels is: 99.82379782185295 %\n",
            "Validation accuracy is: 75.0 %\n",
            "Validation accuracy for pixels is: 99.83706949828643 %\n",
            "\n",
            "Epoch: [2/10]\n",
            "Train loss is: 0.02412104081998902\n",
            "Validation loss is: 0.022871617252991007\n",
            "Train accuracy is: 72.57 %\n",
            "Train accuracy for pixels is: 99.80484777627865 %\n",
            "Validation accuracy is: 75.0 %\n",
            "Validation accuracy for pixels is: 99.82583291196134 %\n",
            "\n",
            "Epoch: [3/10]\n",
            "Train loss is: 0.027492087609898692\n",
            "Validation loss is: 0.026428124206954437\n",
            "Train accuracy is: 70.18 %\n",
            "Train accuracy for pixels is: 99.78534363580451 %\n",
            "Validation accuracy is: 70.0 %\n",
            "Validation accuracy for pixels is: 99.78650485982358 %\n",
            "\n",
            "Epoch: [4/10]\n",
            "Train loss is: 0.02472965428655294\n",
            "Validation loss is: 0.021983684522164787\n",
            "Train accuracy is: 72.41 %\n",
            "Train accuracy for pixels is: 99.80595596607832 %\n",
            "Validation accuracy is: 76.0 %\n",
            "Validation accuracy for pixels is: 99.83706949828643 %\n",
            "\n",
            "Epoch: [5/10]\n",
            "Train loss is: 0.02708913368137239\n",
            "Validation loss is: 0.0261349487193394\n",
            "Train accuracy is: 70.85 %\n",
            "Train accuracy for pixels is: 99.79581602941136 %\n",
            "Validation accuracy is: 76.0 %\n",
            "Validation accuracy for pixels is: 99.82021461879881 %\n",
            "\n",
            "Epoch: [6/10]\n",
            "Train loss is: 0.024281134108445672\n",
            "Validation loss is: 0.022464348705638133\n",
            "Train accuracy is: 73.06 %\n",
            "Train accuracy for pixels is: 99.8133254282461 %\n",
            "Validation accuracy is: 76.0 %\n",
            "Validation accuracy for pixels is: 99.82583291196134 %\n",
            "\n",
            "Epoch: [7/10]\n",
            "Train loss is: 0.02444314803218549\n",
            "Validation loss is: 0.0247880569539828\n",
            "Train accuracy is: 72.99 %\n",
            "Train accuracy for pixels is: 99.81343624722606 %\n",
            "Validation accuracy is: 76.0 %\n",
            "Validation accuracy for pixels is: 99.83145120512388 %\n",
            "\n",
            "Epoch: [8/10]\n",
            "Train loss is: 0.02530824845641127\n",
            "Validation loss is: 0.026175326937345766\n",
            "Train accuracy is: 72.12 %\n",
            "Train accuracy for pixels is: 99.80634383250819 %\n",
            "Validation accuracy is: 72.0 %\n",
            "Validation accuracy for pixels is: 99.80335973931119 %\n",
            "\n",
            "Epoch: [9/10]\n",
            "Train loss is: 0.02709257312527452\n",
            "Validation loss is: 0.027182945425904798\n",
            "Train accuracy is: 71.63 %\n",
            "Train accuracy for pixels is: 99.79819863748064 %\n",
            "Validation accuracy is: 71.0 %\n",
            "Validation accuracy for pixels is: 99.79212315298612 %\n",
            "\n",
            "Epoch: [10/10]\n",
            "Train loss is: 0.02092757839885263\n",
            "Validation loss is: 0.020019924371524268\n",
            "Train accuracy is: 75.85 %\n",
            "Train accuracy for pixels is: 99.83421480596982 %\n",
            "Validation accuracy is: 75.0 %\n",
            "Validation accuracy for pixels is: 99.82021461879881 %\n",
            "\n"
          ],
          "name": "stdout"
        }
      ]
    },
    {
      "cell_type": "code",
      "metadata": {
        "id": "-JAJXyrVI9Mz",
        "colab_type": "code",
        "outputId": "71ed8cc3-b481-413b-9433-799ed28182ed",
        "colab": {
          "base_uri": "https://localhost:8080/",
          "height": 246
        }
      },
      "source": [
        "plot_metrics(CNN_result_T4)"
      ],
      "execution_count": 0,
      "outputs": [
        {
          "output_type": "display_data",
          "data": {
            "image/png": "[encoded data removed]",
            "text/plain": [
              "<Figure size 1750x350 with 3 Axes>"
            ]
          },
          "metadata": {
            "tags": [],
            "needs_background": "light"
          }
        }
      ]
    },
    {
      "cell_type": "code",
      "metadata": {
        "id": "DnCxS32CKFmI",
        "colab_type": "code",
        "colab": {}
      },
      "source": [
        ""
      ],
      "execution_count": 0,
      "outputs": []
    }
  ]
}