{
 "cells": [
  {
   "cell_type": "markdown",
   "metadata": {},
   "source": [
    "# MODULES IMPORT"
   ]
  },
  {
   "cell_type": "code",
   "execution_count": 2,
   "metadata": {},
   "outputs": [],
   "source": [
    "import numpy as np              #numpy library is used to work with multidimensional array.\n",
    "import pandas as pd             #panda used for data manipulation and analysis.\n",
    "                 \n",
    "import os                       #os library is used for loading file to use in the program\n",
    "import json                     #json library parses json into a string or dict, and convert string or dict to json file.\n",
    "from pathlib import Path        #support path\n",
    "\n",
    "import matplotlib.pyplot as plt #support ploting a figure\n",
    "from matplotlib import colors   #colors support converting number or argument into colors"
   ]
  },
  {
   "cell_type": "code",
   "execution_count": 3,
   "metadata": {},
   "outputs": [],
   "source": [
    "import tensorflow as tf"
   ]
  },
  {
   "cell_type": "markdown",
   "metadata": {},
   "source": [
    "# DATA IMPORT"
   ]
  },
  {
   "cell_type": "code",
   "execution_count": 4,
   "metadata": {},
   "outputs": [
    {
     "name": "stdout",
     "output_type": "stream",
     "text": [
      "Number of examples in training corpus is  400\n",
      "Number of examples in evaluation corpus is  400\n",
      "Number of examples in testing corpus is  100\n"
     ]
    }
   ],
   "source": [
    "# get the path for training_task, evaluation_task, and test_task\n",
    "data_path = Path('./data')\n",
    "training_path = data_path / 'training'\n",
    "evaluation_path = data_path / 'evaluation'\n",
    "test_path = data_path / 'test'\n",
    "\n",
    "#from the path above, we load the tests file's directory into our training_tasks, evaluation_tasks, and test_tasks variables\n",
    "#the sorted() function is just for the list of directory to maintain some order\n",
    "training_tasks = sorted(os.listdir(training_path))\n",
    "evaluation_tasks = sorted(os.listdir(evaluation_path))\n",
    "test_tasks = sorted(os.listdir(test_path))\n",
    "\n",
    "print(\"Number of examples in training corpus is \",len(training_tasks))\n",
    "print(\"Number of examples in evaluation corpus is \",len(evaluation_tasks))\n",
    "print(\"Number of examples in testing corpus is \",len(test_tasks))"
   ]
  },
  {
   "cell_type": "code",
   "execution_count": 5,
   "metadata": {},
   "outputs": [
    {
     "name": "stdout",
     "output_type": "stream",
     "text": [
      "['007bbfb7.json', '00d62c1b.json', '017c7c7b.json']\n",
      "['00576224.json', '009d5c81.json', '00dbd492.json']\n",
      "['00576224.json', '009d5c81.json', '00dbd492.json']\n"
     ]
    }
   ],
   "source": [
    "print(training_tasks[:3])     #printing the first 3 elements of training_tasks\n",
    "print(evaluation_tasks[:3])   #printing the first 3 elements of evaluation_tasks\n",
    "print(test_tasks[:3])         #printing the first 3 elements of test_tasks"
   ]
  },
  {
   "cell_type": "code",
   "execution_count": 6,
   "metadata": {},
   "outputs": [
    {
     "name": "stdout",
     "output_type": "stream",
     "text": [
      "dict_keys(['test', 'train'])\n"
     ]
    }
   ],
   "source": [
    "#Get the first file of the training_tasks\n",
    "training_task_file = str(training_path / training_tasks[0])\n",
    "\n",
    "#Get the first file of the evaluation_tasks\n",
    "evaluation_task_file = str(evaluation_path / evaluation_tasks[0])\n",
    "\n",
    "#Get the first file of the test_tasks\n",
    "test_task_file = str(test_path / test_tasks[0])\n",
    "\n",
    "#open the file and load it\n",
    "with open(training_task_file, 'r') as f:   \n",
    "    #can change training_task_file to evaluation_task_file or test_task_file to have a look at evaluation file or test file\n",
    "    task = json.load(f)\n",
    "\n",
    "#using json to load the file, the task variable now is a dictionary with keys and values, we go on and print out the keys\n",
    "print(task.keys())"
   ]
  },
  {
   "cell_type": "code",
   "execution_count": 7,
   "metadata": {},
   "outputs": [
    {
     "name": "stdout",
     "output_type": "stream",
     "text": [
      "task contains 5 training pairs\n",
      "task contains 1 test pairs\n"
     ]
    }
   ],
   "source": [
    "# The number of \"train\" and \"test\" in one training example.\n",
    "n_train_pairs = len(task['train'])\n",
    "n_test_pairs = len(task['test'])\n",
    "\n",
    "print(f'task contains {n_train_pairs} training pairs')\n",
    "print(f'task contains {n_test_pairs} test pairs')"
   ]
  },
  {
   "cell_type": "code",
   "execution_count": 8,
   "metadata": {},
   "outputs": [
    {
     "data": {
      "text/plain": [
       "[[0, 7, 7], [7, 7, 7], [0, 7, 7]]"
      ]
     },
     "metadata": {},
     "output_type": "display_data"
    },
    {
     "data": {
      "text/plain": [
       "[[0, 0, 0, 0, 7, 7, 0, 7, 7],\n",
       " [0, 0, 0, 7, 7, 7, 7, 7, 7],\n",
       " [0, 0, 0, 0, 7, 7, 0, 7, 7],\n",
       " [0, 7, 7, 0, 7, 7, 0, 7, 7],\n",
       " [7, 7, 7, 7, 7, 7, 7, 7, 7],\n",
       " [0, 7, 7, 0, 7, 7, 0, 7, 7],\n",
       " [0, 0, 0, 0, 7, 7, 0, 7, 7],\n",
       " [0, 0, 0, 7, 7, 7, 7, 7, 7],\n",
       " [0, 0, 0, 0, 7, 7, 0, 7, 7]]"
      ]
     },
     "metadata": {},
     "output_type": "display_data"
    }
   ],
   "source": [
    "#display the data structure of a training's input and output\n",
    "display(task['train'][0]['input'])\n",
    "display(task['train'][0]['output'])"
   ]
  },
  {
   "cell_type": "markdown",
   "metadata": {},
   "source": [
    "# FUNCTION TO PLOT IMAGES"
   ]
  },
  {
   "cell_type": "code",
   "execution_count": 9,
   "metadata": {},
   "outputs": [],
   "source": [
    "cmap = colors.ListedColormap(\n",
    "    ['#000000', '#0074D9','#FF4136','#2ECC40','#FFDC00',\n",
    "     '#AAAAAA', '#F012BE', '#FF851B', '#7FDBFF', '#870C25'])\n",
    "norm = colors.Normalize(vmin=0, vmax=9)\n",
    "\n",
    "#plotting the training task and the test task.\n",
    "def plot_task(task):\n",
    "    n = len(task[\"train\"]) + len(task[\"test\"])\n",
    "    fig, axs = plt.subplots(2, n, figsize=(4*n,8), dpi=50)\n",
    "    plt.subplots_adjust(wspace=0, hspace=0)\n",
    "    fig_num = 0\n",
    "    for i, t in enumerate(task[\"train\"]):\n",
    "        t_in, t_out = np.array(t[\"input\"]), np.array(t[\"output\"])\n",
    "        axs[0][fig_num].imshow(t_in, cmap=cmap, norm=norm)\n",
    "        axs[0][fig_num].set_title(f'Train-{i} in')\n",
    "        #axs[0][fig_num].set_yticks(list(range(t_in.shape[0])))\n",
    "        #axs[0][fig_num].set_xticks(list(range(t_in.shape[1])))\n",
    "        axs[1][fig_num].imshow(t_out, cmap=cmap, norm=norm)\n",
    "        axs[1][fig_num].set_title(f'Train-{i} out')\n",
    "        #axs[1][fig_num].set_yticks(list(range(t_out.shape[0])))\n",
    "        #axs[1][fig_num].set_xticks(list(range(t_out.shape[1])))\n",
    "        fig_num += 1\n",
    "    for i, t in enumerate(task[\"test\"]):\n",
    "        t_in, t_out = np.array(t[\"input\"]), np.array(t[\"output\"])\n",
    "        axs[0][fig_num].imshow(t_in, cmap=cmap, norm=norm)\n",
    "        axs[0][fig_num].set_title(f'Test-{i} in')\n",
    "        #axs[0][fig_num].set_yticks(list(range(t_in.shape[0])))\n",
    "        #axs[0][fig_num].set_xticks(list(range(t_in.shape[1])))\n",
    "        axs[1][fig_num].imshow(t_out, cmap=cmap, norm=norm)\n",
    "        axs[1][fig_num].set_title(f'Test-{i} out')\n",
    "        #axs[1][fig_num].set_yticks(list(range(t_out.shape[0])))\n",
    "        #axs[1][fig_num].set_xticks(list(range(t_out.shape[1])))\n",
    "        fig_num += 1\n",
    "    \n",
    "    plt.tight_layout()\n",
    "    plt.show()"
   ]
  },
  {
   "cell_type": "code",
   "execution_count": 10,
   "metadata": {},
   "outputs": [
    {
     "name": "stdout",
     "output_type": "stream",
     "text": [
      "000 data\\training\\007bbfb7.json\n"
     ]
    },
    {
     "data": {
      "image/png": "[encoded data removed]",
      "text/plain": [
       "<Figure size 1200x400 with 12 Axes>"
      ]
     },
     "metadata": {
      "needs_background": "light"
     },
     "output_type": "display_data"
    },
    {
     "name": "stdout",
     "output_type": "stream",
     "text": [
      "001 data\\training\\00d62c1b.json\n"
     ]
    },
    {
     "data": {
      "image/png": "[encoded data removed]",
      "text/plain": [
       "<Figure size 1200x400 with 12 Axes>"
      ]
     },
     "metadata": {
      "needs_background": "light"
     },
     "output_type": "display_data"
    },
    {
     "name": "stdout",
     "output_type": "stream",
     "text": [
      "002 data\\training\\017c7c7b.json\n"
     ]
    },
    {
     "data": {
      "image/png": "[encoded data removed]",
      "text/plain": [
       "<Figure size 800x400 with 8 Axes>"
      ]
     },
     "metadata": {
      "needs_background": "light"
     },
     "output_type": "display_data"
    }
   ],
   "source": [
    "#plotting the first three training tasks.\n",
    "for i, json_path in enumerate(training_tasks[:3]):   # can change to evaluation_tasks or test_tasks to view the evaluation and test task\n",
    "    \n",
    "    task_file = str(training_path / json_path)       # can change to evaluation_path or test_path to view the evaluation and test task\n",
    "\n",
    "    with open(task_file, 'r') as f:\n",
    "        task = json.load(f)\n",
    "\n",
    "    print(f\"{i:03d}\", task_file)\n",
    "    plot_task(task)"
   ]
  },
  {
   "cell_type": "markdown",
   "metadata": {},
   "source": [
    "# PROVE"
   ]
  },
  {
   "cell_type": "code",
   "execution_count": 11,
   "metadata": {},
   "outputs": [],
   "source": [
    "task_file = str(training_path / training_tasks[0])       # can change to evaluation_path or test_path to view the evaluation and test task\n",
    "\n",
    "with open(task_file, 'r') as f:\n",
    "    task = json.load(f)"
   ]
  },
  {
   "cell_type": "code",
   "execution_count": 12,
   "metadata": {},
   "outputs": [
    {
     "data": {
      "text/plain": [
       "<tf.Tensor: shape=(3, 3, 10), dtype=float32, numpy=\n",
       "array([[[1., 0., 0., 0., 0., 0., 0., 0., 0., 0.],\n",
       "        [0., 0., 0., 0., 0., 0., 0., 1., 0., 0.],\n",
       "        [0., 0., 0., 0., 0., 0., 0., 1., 0., 0.]],\n",
       "\n",
       "       [[0., 0., 0., 0., 0., 0., 0., 1., 0., 0.],\n",
       "        [0., 0., 0., 0., 0., 0., 0., 1., 0., 0.],\n",
       "        [0., 0., 0., 0., 0., 0., 0., 1., 0., 0.]],\n",
       "\n",
       "       [[1., 0., 0., 0., 0., 0., 0., 0., 0., 0.],\n",
       "        [0., 0., 0., 0., 0., 0., 0., 1., 0., 0.],\n",
       "        [0., 0., 0., 0., 0., 0., 0., 1., 0., 0.]]], dtype=float32)>"
      ]
     },
     "execution_count": 12,
     "metadata": {},
     "output_type": "execute_result"
    }
   ],
   "source": [
    "tf.one_hot(task['train'][0]['input'], 10)"
   ]
  },
  {
   "cell_type": "code",
   "execution_count": 13,
   "metadata": {},
   "outputs": [],
   "source": [
    "ten=tf.one_hot(task['train'][0]['input'], 10)"
   ]
  },
  {
   "cell_type": "code",
   "execution_count": 14,
   "metadata": {},
   "outputs": [
    {
     "data": {
      "text/plain": [
       "<tf.Tensor: shape=(3, 3), dtype=int64, numpy=\n",
       "array([[0, 7, 7],\n",
       "       [7, 7, 7],\n",
       "       [0, 7, 7]], dtype=int64)>"
      ]
     },
     "execution_count": 14,
     "metadata": {},
     "output_type": "execute_result"
    }
   ],
   "source": [
    "tf.math.argmax(ten, axis=-1)"
   ]
  },
  {
   "cell_type": "code",
   "execution_count": 15,
   "metadata": {},
   "outputs": [
    {
     "data": {
      "text/plain": [
       "<tf.Tensor: shape=(3, 3), dtype=int32, numpy=\n",
       "array([[0, 1, 1],\n",
       "       [1, 1, 1],\n",
       "       [0, 1, 1]])>"
      ]
     },
     "execution_count": 15,
     "metadata": {},
     "output_type": "execute_result"
    }
   ],
   "source": [
    "pro=tf.constant(task['train'][0]['input'])\n",
    "tf.where(pro==0, 0, 1)"
   ]
  },
  {
   "cell_type": "code",
   "execution_count": 16,
   "metadata": {},
   "outputs": [
    {
     "data": {
      "text/plain": [
       "<matplotlib.image.AxesImage at 0x1936e7a0708>"
      ]
     },
     "execution_count": 16,
     "metadata": {},
     "output_type": "execute_result"
    },
    {
     "data": {
      "image/png": "[encoded data removed]",
      "text/plain": [
       "<Figure size 432x288 with 1 Axes>"
      ]
     },
     "metadata": {
      "needs_background": "light"
     },
     "output_type": "display_data"
    }
   ],
   "source": [
    "plt.imshow(task['train'][0]['input'], cmap=cmap, norm=norm)"
   ]
  },
  {
   "cell_type": "code",
   "execution_count": 17,
   "metadata": {},
   "outputs": [],
   "source": [
    "data=[]\n",
    "label=[]\n",
    "for pair in task['train']:\n",
    "    dat=tf.constant(pair['input'])\n",
    "    lab=tf.constant(pair['output'])\n",
    "    #dat=tf.where(dat==0, 0, 1)\n",
    "    #lab=tf.where(lab==0, 0, 1)\n",
    "    data.append(tf.one_hot(dat, 10))\n",
    "    label.append(tf.one_hot(lab,10))\n",
    "trainset = tf.data.Dataset.from_tensor_slices((data, label))"
   ]
  },
  {
   "cell_type": "code",
   "execution_count": 18,
   "metadata": {},
   "outputs": [],
   "source": [
    "data=[]\n",
    "label=[]\n",
    "\n",
    "for pair in task['test']:\n",
    "    dat=tf.constant(pair['input'])\n",
    "    lab=tf.constant(pair['output'])\n",
    "    #dat=tf.where(dat==0, 0, 1)\n",
    "    #lab=tf.where(lab==0, 0, 1)\n",
    "    data.append(tf.one_hot(dat, 10))\n",
    "    label.append(tf.one_hot(lab,10))\n",
    "valset = tf.data.Dataset.from_tensor_slices((data, label))\n"
   ]
  },
  {
   "cell_type": "code",
   "execution_count": 19,
   "metadata": {},
   "outputs": [
    {
     "name": "stdout",
     "output_type": "stream",
     "text": [
      "tf.Tensor(\n",
      "[[[0. 0. 0. 0. 0. 0. 0. 1. 0. 0.]\n",
      "  [1. 0. 0. 0. 0. 0. 0. 0. 0. 0.]\n",
      "  [0. 0. 0. 0. 0. 0. 0. 1. 0. 0.]]\n",
      "\n",
      " [[0. 0. 0. 0. 0. 0. 0. 1. 0. 0.]\n",
      "  [1. 0. 0. 0. 0. 0. 0. 0. 0. 0.]\n",
      "  [0. 0. 0. 0. 0. 0. 0. 1. 0. 0.]]\n",
      "\n",
      " [[0. 0. 0. 0. 0. 0. 0. 1. 0. 0.]\n",
      "  [0. 0. 0. 0. 0. 0. 0. 1. 0. 0.]\n",
      "  [1. 0. 0. 0. 0. 0. 0. 0. 0. 0.]]], shape=(3, 3, 10), dtype=float32)\n",
      "tf.Tensor(\n",
      "[[[0. 0. 0. 0. 0. 0. 0. 1. 0. 0.]\n",
      "  [1. 0. 0. 0. 0. 0. 0. 0. 0. 0.]\n",
      "  [0. 0. 0. 0. 0. 0. 0. 1. 0. 0.]\n",
      "  [1. 0. 0. 0. 0. 0. 0. 0. 0. 0.]\n",
      "  [1. 0. 0. 0. 0. 0. 0. 0. 0. 0.]\n",
      "  [1. 0. 0. 0. 0. 0. 0. 0. 0. 0.]\n",
      "  [0. 0. 0. 0. 0. 0. 0. 1. 0. 0.]\n",
      "  [1. 0. 0. 0. 0. 0. 0. 0. 0. 0.]\n",
      "  [0. 0. 0. 0. 0. 0. 0. 1. 0. 0.]]\n",
      "\n",
      " [[0. 0. 0. 0. 0. 0. 0. 1. 0. 0.]\n",
      "  [1. 0. 0. 0. 0. 0. 0. 0. 0. 0.]\n",
      "  [0. 0. 0. 0. 0. 0. 0. 1. 0. 0.]\n",
      "  [1. 0. 0. 0. 0. 0. 0. 0. 0. 0.]\n",
      "  [1. 0. 0. 0. 0. 0. 0. 0. 0. 0.]\n",
      "  [1. 0. 0. 0. 0. 0. 0. 0. 0. 0.]\n",
      "  [0. 0. 0. 0. 0. 0. 0. 1. 0. 0.]\n",
      "  [1. 0. 0. 0. 0. 0. 0. 0. 0. 0.]\n",
      "  [0. 0. 0. 0. 0. 0. 0. 1. 0. 0.]]\n",
      "\n",
      " [[0. 0. 0. 0. 0. 0. 0. 1. 0. 0.]\n",
      "  [0. 0. 0. 0. 0. 0. 0. 1. 0. 0.]\n",
      "  [1. 0. 0. 0. 0. 0. 0. 0. 0. 0.]\n",
      "  [1. 0. 0. 0. 0. 0. 0. 0. 0. 0.]\n",
      "  [1. 0. 0. 0. 0. 0. 0. 0. 0. 0.]\n",
      "  [1. 0. 0. 0. 0. 0. 0. 0. 0. 0.]\n",
      "  [0. 0. 0. 0. 0. 0. 0. 1. 0. 0.]\n",
      "  [0. 0. 0. 0. 0. 0. 0. 1. 0. 0.]\n",
      "  [1. 0. 0. 0. 0. 0. 0. 0. 0. 0.]]\n",
      "\n",
      " [[0. 0. 0. 0. 0. 0. 0. 1. 0. 0.]\n",
      "  [1. 0. 0. 0. 0. 0. 0. 0. 0. 0.]\n",
      "  [0. 0. 0. 0. 0. 0. 0. 1. 0. 0.]\n",
      "  [1. 0. 0. 0. 0. 0. 0. 0. 0. 0.]\n",
      "  [1. 0. 0. 0. 0. 0. 0. 0. 0. 0.]\n",
      "  [1. 0. 0. 0. 0. 0. 0. 0. 0. 0.]\n",
      "  [0. 0. 0. 0. 0. 0. 0. 1. 0. 0.]\n",
      "  [1. 0. 0. 0. 0. 0. 0. 0. 0. 0.]\n",
      "  [0. 0. 0. 0. 0. 0. 0. 1. 0. 0.]]\n",
      "\n",
      " [[0. 0. 0. 0. 0. 0. 0. 1. 0. 0.]\n",
      "  [1. 0. 0. 0. 0. 0. 0. 0. 0. 0.]\n",
      "  [0. 0. 0. 0. 0. 0. 0. 1. 0. 0.]\n",
      "  [1. 0. 0. 0. 0. 0. 0. 0. 0. 0.]\n",
      "  [1. 0. 0. 0. 0. 0. 0. 0. 0. 0.]\n",
      "  [1. 0. 0. 0. 0. 0. 0. 0. 0. 0.]\n",
      "  [0. 0. 0. 0. 0. 0. 0. 1. 0. 0.]\n",
      "  [1. 0. 0. 0. 0. 0. 0. 0. 0. 0.]\n",
      "  [0. 0. 0. 0. 0. 0. 0. 1. 0. 0.]]\n",
      "\n",
      " [[0. 0. 0. 0. 0. 0. 0. 1. 0. 0.]\n",
      "  [0. 0. 0. 0. 0. 0. 0. 1. 0. 0.]\n",
      "  [1. 0. 0. 0. 0. 0. 0. 0. 0. 0.]\n",
      "  [1. 0. 0. 0. 0. 0. 0. 0. 0. 0.]\n",
      "  [1. 0. 0. 0. 0. 0. 0. 0. 0. 0.]\n",
      "  [1. 0. 0. 0. 0. 0. 0. 0. 0. 0.]\n",
      "  [0. 0. 0. 0. 0. 0. 0. 1. 0. 0.]\n",
      "  [0. 0. 0. 0. 0. 0. 0. 1. 0. 0.]\n",
      "  [1. 0. 0. 0. 0. 0. 0. 0. 0. 0.]]\n",
      "\n",
      " [[0. 0. 0. 0. 0. 0. 0. 1. 0. 0.]\n",
      "  [1. 0. 0. 0. 0. 0. 0. 0. 0. 0.]\n",
      "  [0. 0. 0. 0. 0. 0. 0. 1. 0. 0.]\n",
      "  [0. 0. 0. 0. 0. 0. 0. 1. 0. 0.]\n",
      "  [1. 0. 0. 0. 0. 0. 0. 0. 0. 0.]\n",
      "  [0. 0. 0. 0. 0. 0. 0. 1. 0. 0.]\n",
      "  [1. 0. 0. 0. 0. 0. 0. 0. 0. 0.]\n",
      "  [1. 0. 0. 0. 0. 0. 0. 0. 0. 0.]\n",
      "  [1. 0. 0. 0. 0. 0. 0. 0. 0. 0.]]\n",
      "\n",
      " [[0. 0. 0. 0. 0. 0. 0. 1. 0. 0.]\n",
      "  [1. 0. 0. 0. 0. 0. 0. 0. 0. 0.]\n",
      "  [0. 0. 0. 0. 0. 0. 0. 1. 0. 0.]\n",
      "  [0. 0. 0. 0. 0. 0. 0. 1. 0. 0.]\n",
      "  [1. 0. 0. 0. 0. 0. 0. 0. 0. 0.]\n",
      "  [0. 0. 0. 0. 0. 0. 0. 1. 0. 0.]\n",
      "  [1. 0. 0. 0. 0. 0. 0. 0. 0. 0.]\n",
      "  [1. 0. 0. 0. 0. 0. 0. 0. 0. 0.]\n",
      "  [1. 0. 0. 0. 0. 0. 0. 0. 0. 0.]]\n",
      "\n",
      " [[0. 0. 0. 0. 0. 0. 0. 1. 0. 0.]\n",
      "  [0. 0. 0. 0. 0. 0. 0. 1. 0. 0.]\n",
      "  [1. 0. 0. 0. 0. 0. 0. 0. 0. 0.]\n",
      "  [0. 0. 0. 0. 0. 0. 0. 1. 0. 0.]\n",
      "  [0. 0. 0. 0. 0. 0. 0. 1. 0. 0.]\n",
      "  [1. 0. 0. 0. 0. 0. 0. 0. 0. 0.]\n",
      "  [1. 0. 0. 0. 0. 0. 0. 0. 0. 0.]\n",
      "  [1. 0. 0. 0. 0. 0. 0. 0. 0. 0.]\n",
      "  [1. 0. 0. 0. 0. 0. 0. 0. 0. 0.]]], shape=(9, 9, 10), dtype=float32)\n"
     ]
    }
   ],
   "source": [
    "for xb, yb in valset.batch(5):\n",
    "    print(xb[0])\n",
    "    print(yb[0])\n",
    "    break"
   ]
  },
  {
   "cell_type": "code",
   "execution_count": 20,
   "metadata": {},
   "outputs": [],
   "source": [
    "def build_model():\n",
    "  model = tf.keras.Sequential([\n",
    "    tf.keras.layers.Dense(10, activation='relu', input_shape=(3,3,10)),\n",
    "    tf.keras.layers.BatchNormalization(),\n",
    "    tf.keras.layers.Dense(27, activation='relu'),\n",
    "    tf.keras.layers.BatchNormalization(),\n",
    "    tf.keras.layers.Dense(81, activation='relu'),\n",
    "    tf.keras.layers.BatchNormalization(),\n",
    "    tf.keras.layers.Dense(400, activation='relu'),\n",
    "    tf.keras.layers.BatchNormalization(),\n",
    "    tf.keras.layers.Reshape((6,6,100)),\n",
    "    tf.keras.layers.Dense(810, activation='relu'),\n",
    "    tf.keras.layers.BatchNormalization(),\n",
    "    tf.keras.layers.Dense(810, activation='relu'),\n",
    "    tf.keras.layers.BatchNormalization(),\n",
    "    tf.keras.layers.Dense(810, activation='relu'),\n",
    "    tf.keras.layers.BatchNormalization(),\n",
    "    tf.keras.layers.Dense(810, activation='relu'),\n",
    "    tf.keras.layers.Reshape((9,9,360)),\n",
    "    tf.keras.layers.Dense(900, activation='relu'),\n",
    "    tf.keras.layers.Dense(243, activation='relu'),\n",
    "    tf.keras.layers.Dense(243, activation='relu'),\n",
    "    tf.keras.layers.Dense(243),\n",
    "    tf.keras.layers.Dense(90),\n",
    "    tf.keras.layers.Dense(10),\n",
    "    tf.keras.layers.Softmax()\n",
    "  ])\n",
    "\n",
    "  optimizer = tf.keras.optimizers.Adam(0.01)\n",
    "\n",
    "  model.compile(loss=tf.keras.losses.categorical_crossentropy,\n",
    "                optimizer=optimizer,\n",
    "                metrics=['mae', 'mse'])\n",
    "  return model"
   ]
  },
  {
   "cell_type": "code",
   "execution_count": 295,
   "metadata": {},
   "outputs": [],
   "source": [
    "def build_model():\n",
    "  model = tf.keras.Sequential([\n",
    "    tf.keras.layers.Conv2D(10, input_shape=(3,3,10), kernel_size=3, padding='same'),\n",
    "    tf.keras.layers.BatchNormalization(),\n",
    "    tf.keras.layers.ReLU(),\n",
    "    tf.keras.layers.Conv2D(10, kernel_size=3, padding='same'),\n",
    "    tf.keras.layers.BatchNormalization(),\n",
    "    tf.keras.layers.ReLU(),\n",
    "    tf.keras.layers.Conv2D(10, kernel_size=3, padding='same'),\n",
    "    tf.keras.layers.BatchNormalization(),\n",
    "    tf.keras.layers.ReLU(),\n",
    "    tf.keras.layers.UpSampling2D((3,3)),\n",
    "    tf.keras.layers.Conv2D(10, kernel_size=3, padding='same'),\n",
    "    tf.keras.layers.BatchNormalization(),\n",
    "    tf.keras.layers.ReLU(),\n",
    "    tf.keras.layers.Dense(10),\n",
    "    tf.keras.layers.Dense(10),\n",
    "    tf.keras.layers.Softmax()\n",
    "  ])\n",
    "\n",
    "  optimizer = tf.keras.optimizers.Adam(0.001)\n",
    "\n",
    "  model.compile(loss=tf.keras.losses.BinaryCrossentropy(),\n",
    "                optimizer=optimizer,\n",
    "                metrics=['mae', 'mse'])\n",
    "  return model"
   ]
  },
  {
   "cell_type": "code",
   "execution_count": 326,
   "metadata": {},
   "outputs": [],
   "source": [
    "def build_model():\n",
    "    images = tf.keras.layers.Input(shape=(3,3,10))\n",
    "    conv=tf.keras.layers.Conv2D(filters=10, kernel_size=(1,1),\n",
    "                          padding='same', activation='elu')(images)\n",
    "    #conv=tf.keras.layers.BatchNormalization()(conv)\n",
    "    #conv=tf.keras.layers.ReLU()(conv)\n",
    "    upsamp=tf.keras.layers.UpSampling2D((3,3))(conv)\n",
    "    conv=tf.keras.layers.concatenate([conv, conv, conv], axis=1)\n",
    "    conv=tf.keras.layers.concatenate([conv, conv, conv], axis=2)\n",
    "    conv=tf.keras.layers.concatenate([conv, upsamp])\n",
    "    conv=tf.keras.layers.Conv2D(10, kernel_size=(1,1), padding='same', activation='elu')(conv)\n",
    "    conv=tf.keras.layers.Dropout(rate=0.3)(conv)\n",
    "    conv=tf.keras.layers.Dense(10)(conv)\n",
    "    conv=tf.keras.layers.Softmax()(conv)\n",
    "\n",
    "    model = tf.keras.models.Model(inputs=[images], outputs=[conv])\n",
    "\n",
    "    optimizer = tf.keras.optimizers.Adam(0.01)\n",
    "\n",
    "    model.compile(loss=tf.keras.losses.CategoricalCrossentropy(),\n",
    "                    optimizer=optimizer,\n",
    "                    metrics=['mae', 'mse'])\n",
    "    return model"
   ]
  },
  {
   "cell_type": "code",
   "execution_count": 327,
   "metadata": {},
   "outputs": [
    {
     "name": "stdout",
     "output_type": "stream",
     "text": [
      "Model: \"model_50\"\n",
      "__________________________________________________________________________________________________\n",
      "Layer (type)                    Output Shape         Param #     Connected to                     \n",
      "==================================================================================================\n",
      "input_60 (InputLayer)           [(None, 3, 3, 10)]   0                                            \n",
      "__________________________________________________________________________________________________\n",
      "conv2d_114 (Conv2D)             (None, 3, 3, 10)     110         input_60[0][0]                   \n",
      "__________________________________________________________________________________________________\n",
      "concatenate_144 (Concatenate)   (None, 9, 3, 10)     0           conv2d_114[0][0]                 \n",
      "                                                                 conv2d_114[0][0]                 \n",
      "                                                                 conv2d_114[0][0]                 \n",
      "__________________________________________________________________________________________________\n",
      "concatenate_145 (Concatenate)   (None, 9, 9, 10)     0           concatenate_144[0][0]            \n",
      "                                                                 concatenate_144[0][0]            \n",
      "                                                                 concatenate_144[0][0]            \n",
      "__________________________________________________________________________________________________\n",
      "up_sampling2d_51 (UpSampling2D) (None, 9, 9, 10)     0           conv2d_114[0][0]                 \n",
      "__________________________________________________________________________________________________\n",
      "concatenate_146 (Concatenate)   (None, 9, 9, 20)     0           concatenate_145[0][0]            \n",
      "                                                                 up_sampling2d_51[0][0]           \n",
      "__________________________________________________________________________________________________\n",
      "conv2d_115 (Conv2D)             (None, 9, 9, 10)     210         concatenate_146[0][0]            \n",
      "__________________________________________________________________________________________________\n",
      "dropout_61 (Dropout)            (None, 9, 9, 10)     0           conv2d_115[0][0]                 \n",
      "__________________________________________________________________________________________________\n",
      "dense_141 (Dense)               (None, 9, 9, 10)     110         dropout_61[0][0]                 \n",
      "__________________________________________________________________________________________________\n",
      "softmax_52 (Softmax)            (None, 9, 9, 10)     0           dense_141[0][0]                  \n",
      "==================================================================================================\n",
      "Total params: 430\n",
      "Trainable params: 430\n",
      "Non-trainable params: 0\n",
      "__________________________________________________________________________________________________\n"
     ]
    }
   ],
   "source": [
    "model=build_model()\n",
    "model.summary()"
   ]
  },
  {
   "cell_type": "code",
   "execution_count": 328,
   "metadata": {},
   "outputs": [
    {
     "data": {
      "image/png": "[encoded data removed]",
      "text/plain": [
       "<IPython.core.display.Image object>"
      ]
     },
     "execution_count": 328,
     "metadata": {},
     "output_type": "execute_result"
    }
   ],
   "source": [
    "tf.keras.utils.plot_model(model, 'model.png', show_shapes=True, show_layer_names=True)"
   ]
  },
  {
   "cell_type": "code",
   "execution_count": 329,
   "metadata": {},
   "outputs": [
    {
     "name": "stdout",
     "output_type": "stream",
     "text": [
      "Train for 1 steps, validate for 1 steps\n",
      "Epoch 1/50\n",
      "1/1 [==============================] - 1s 591ms/step - loss: 2.3622 - mae: 0.1801 - mse: 0.0911 - val_loss: 2.1224 - val_mae: 0.1755 - val_mse: 0.0863\n",
      "Epoch 2/50\n",
      "1/1 [==============================] - 0s 26ms/step - loss: 2.2652 - mae: 0.1782 - mse: 0.0892 - val_loss: 2.0082 - val_mae: 0.1726 - val_mse: 0.0836\n",
      "Epoch 3/50\n",
      "1/1 [==============================] - 0s 25ms/step - loss: 2.1127 - mae: 0.1747 - mse: 0.0859 - val_loss: 1.8951 - val_mae: 0.1694 - val_mse: 0.0807\n",
      "Epoch 4/50\n",
      "1/1 [==============================] - 0s 26ms/step - loss: 2.0018 - mae: 0.1719 - mse: 0.0832 - val_loss: 1.7808 - val_mae: 0.1658 - val_mse: 0.0774\n",
      "Epoch 5/50\n",
      "1/1 [==============================] - 0s 24ms/step - loss: 1.8931 - mae: 0.1685 - mse: 0.0803 - val_loss: 1.6653 - val_mae: 0.1617 - val_mse: 0.0738\n",
      "Epoch 6/50\n",
      "1/1 [==============================] - 0s 22ms/step - loss: 1.7176 - mae: 0.1624 - mse: 0.0751 - val_loss: 1.5475 - val_mae: 0.1570 - val_mse: 0.0698\n",
      "Epoch 7/50\n",
      "1/1 [==============================] - 0s 25ms/step - loss: 1.6042 - mae: 0.1572 - mse: 0.0708 - val_loss: 1.4263 - val_mae: 0.1515 - val_mse: 0.0653\n",
      "Epoch 8/50\n",
      "1/1 [==============================] - 0s 24ms/step - loss: 1.4773 - mae: 0.1509 - mse: 0.0661 - val_loss: 1.3038 - val_mae: 0.1451 - val_mse: 0.0603\n",
      "Epoch 9/50\n",
      "1/1 [==============================] - 0s 23ms/step - loss: 1.3459 - mae: 0.1424 - mse: 0.0602 - val_loss: 1.1810 - val_mae: 0.1377 - val_mse: 0.0549\n",
      "Epoch 10/50\n",
      "1/1 [==============================] - 0s 25ms/step - loss: 1.2457 - mae: 0.1348 - mse: 0.0556 - val_loss: 1.0602 - val_mae: 0.1294 - val_mse: 0.0492\n",
      "Epoch 11/50\n",
      "1/1 [==============================] - 0s 23ms/step - loss: 1.1573 - mae: 0.1262 - mse: 0.0513 - val_loss: 0.9441 - val_mae: 0.1202 - val_mse: 0.0434\n",
      "Epoch 12/50\n",
      "1/1 [==============================] - 0s 23ms/step - loss: 0.9989 - mae: 0.1117 - mse: 0.0439 - val_loss: 0.8361 - val_mae: 0.1104 - val_mse: 0.0380\n",
      "Epoch 13/50\n",
      "1/1 [==============================] - 0s 25ms/step - loss: 0.9479 - mae: 0.1042 - mse: 0.0420 - val_loss: 0.7391 - val_mae: 0.1007 - val_mse: 0.0332\n",
      "Epoch 14/50\n",
      "1/1 [==============================] - 0s 23ms/step - loss: 0.8616 - mae: 0.0947 - mse: 0.0381 - val_loss: 0.6540 - val_mae: 0.0914 - val_mse: 0.0291\n",
      "Epoch 15/50\n",
      "1/1 [==============================] - 0s 25ms/step - loss: 0.7837 - mae: 0.0849 - mse: 0.0354 - val_loss: 0.5789 - val_mae: 0.0829 - val_mse: 0.0256\n",
      "Epoch 16/50\n",
      "1/1 [==============================] - 0s 23ms/step - loss: 0.7783 - mae: 0.0796 - mse: 0.0354 - val_loss: 0.5118 - val_mae: 0.0750 - val_mse: 0.0224\n",
      "Epoch 17/50\n",
      "1/1 [==============================] - 0s 22ms/step - loss: 0.7328 - mae: 0.0718 - mse: 0.0344 - val_loss: 0.4510 - val_mae: 0.0679 - val_mse: 0.0194\n",
      "Epoch 18/50\n",
      "1/1 [==============================] - 0s 25ms/step - loss: 0.7014 - mae: 0.0666 - mse: 0.0328 - val_loss: 0.3941 - val_mae: 0.0612 - val_mse: 0.0162\n",
      "Epoch 19/50\n",
      "1/1 [==============================] - 0s 24ms/step - loss: 0.7032 - mae: 0.0658 - mse: 0.0332 - val_loss: 0.3414 - val_mae: 0.0549 - val_mse: 0.0131\n",
      "Epoch 20/50\n",
      "1/1 [==============================] - 0s 25ms/step - loss: 0.6771 - mae: 0.0605 - mse: 0.0318 - val_loss: 0.2937 - val_mae: 0.0488 - val_mse: 0.0102\n",
      "Epoch 21/50\n",
      "1/1 [==============================] - 0s 25ms/step - loss: 0.6113 - mae: 0.0578 - mse: 0.0294 - val_loss: 0.2525 - val_mae: 0.0433 - val_mse: 0.0077\n",
      "Epoch 22/50\n",
      "1/1 [==============================] - 0s 24ms/step - loss: 0.6055 - mae: 0.0572 - mse: 0.0298 - val_loss: 0.2190 - val_mae: 0.0386 - val_mse: 0.0058\n",
      "Epoch 23/50\n",
      "1/1 [==============================] - 0s 25ms/step - loss: 0.6003 - mae: 0.0562 - mse: 0.0295 - val_loss: 0.1935 - val_mae: 0.0347 - val_mse: 0.0046\n",
      "Epoch 24/50\n",
      "1/1 [==============================] - 0s 23ms/step - loss: 0.5670 - mae: 0.0535 - mse: 0.0283 - val_loss: 0.1755 - val_mae: 0.0318 - val_mse: 0.0038\n",
      "Epoch 25/50\n",
      "1/1 [==============================] - 0s 27ms/step - loss: 0.4960 - mae: 0.0500 - mse: 0.0251 - val_loss: 0.1641 - val_mae: 0.0299 - val_mse: 0.0035\n",
      "Epoch 26/50\n",
      "1/1 [==============================] - 0s 24ms/step - loss: 0.4675 - mae: 0.0499 - mse: 0.0238 - val_loss: 0.1577 - val_mae: 0.0286 - val_mse: 0.0034\n",
      "Epoch 27/50\n",
      "1/1 [==============================] - 0s 27ms/step - loss: 0.4264 - mae: 0.0499 - mse: 0.0216 - val_loss: 0.1546 - val_mae: 0.0279 - val_mse: 0.0035\n",
      "Epoch 28/50\n",
      "1/1 [==============================] - 0s 24ms/step - loss: 0.4499 - mae: 0.0523 - mse: 0.0225 - val_loss: 0.1535 - val_mae: 0.0275 - val_mse: 0.0037\n",
      "Epoch 29/50\n",
      "1/1 [==============================] - 0s 23ms/step - loss: 0.4074 - mae: 0.0511 - mse: 0.0200 - val_loss: 0.1526 - val_mae: 0.0272 - val_mse: 0.0038\n",
      "Epoch 30/50\n",
      "1/1 [==============================] - 0s 25ms/step - loss: 0.3976 - mae: 0.0508 - mse: 0.0195 - val_loss: 0.1509 - val_mae: 0.0268 - val_mse: 0.0039\n",
      "Epoch 31/50\n",
      "1/1 [==============================] - 0s 27ms/step - loss: 0.3918 - mae: 0.0511 - mse: 0.0191 - val_loss: 0.1474 - val_mae: 0.0261 - val_mse: 0.0039\n",
      "Epoch 32/50\n",
      "1/1 [==============================] - 0s 26ms/step - loss: 0.3615 - mae: 0.0487 - mse: 0.0171 - val_loss: 0.1416 - val_mae: 0.0251 - val_mse: 0.0037\n",
      "Epoch 33/50\n",
      "1/1 [==============================] - 0s 24ms/step - loss: 0.3369 - mae: 0.0469 - mse: 0.0156 - val_loss: 0.1334 - val_mae: 0.0238 - val_mse: 0.0034\n",
      "Epoch 34/50\n",
      "1/1 [==============================] - 0s 25ms/step - loss: 0.3568 - mae: 0.0484 - mse: 0.0169 - val_loss: 0.1225 - val_mae: 0.0221 - val_mse: 0.0029\n",
      "Epoch 35/50\n",
      "1/1 [==============================] - 0s 26ms/step - loss: 0.3440 - mae: 0.0467 - mse: 0.0163 - val_loss: 0.1102 - val_mae: 0.0201 - val_mse: 0.0024\n",
      "Epoch 36/50\n",
      "1/1 [==============================] - 0s 25ms/step - loss: 0.3018 - mae: 0.0428 - mse: 0.0135 - val_loss: 0.0974 - val_mae: 0.0180 - val_mse: 0.0019\n",
      "Epoch 37/50\n",
      "1/1 [==============================] - 0s 26ms/step - loss: 0.2994 - mae: 0.0418 - mse: 0.0135 - val_loss: 0.0846 - val_mae: 0.0158 - val_mse: 0.0014\n",
      "Epoch 38/50\n",
      "1/1 [==============================] - 0s 27ms/step - loss: 0.2573 - mae: 0.0380 - mse: 0.0112 - val_loss: 0.0727 - val_mae: 0.0137 - val_mse: 0.0011\n",
      "Epoch 39/50\n",
      "1/1 [==============================] - 0s 25ms/step - loss: 0.2663 - mae: 0.0374 - mse: 0.0120 - val_loss: 0.0622 - val_mae: 0.0119 - val_mse: 7.5936e-04\n",
      "Epoch 40/50\n",
      "1/1 [==============================] - 0s 27ms/step - loss: 0.2154 - mae: 0.0319 - mse: 0.0093 - val_loss: 0.0531 - val_mae: 0.0102 - val_mse: 5.3618e-04\n",
      "Epoch 41/50\n",
      "1/1 [==============================] - 0s 25ms/step - loss: 0.2242 - mae: 0.0320 - mse: 0.0100 - val_loss: 0.0456 - val_mae: 0.0088 - val_mse: 3.7900e-04\n",
      "Epoch 42/50\n",
      "1/1 [==============================] - 0s 25ms/step - loss: 0.2192 - mae: 0.0318 - mse: 0.0098 - val_loss: 0.0394 - val_mae: 0.0077 - val_mse: 2.7090e-04\n",
      "Epoch 43/50\n",
      "1/1 [==============================] - 0s 25ms/step - loss: 0.1995 - mae: 0.0291 - mse: 0.0089 - val_loss: 0.0345 - val_mae: 0.0067 - val_mse: 1.9977e-04\n",
      "Epoch 44/50\n",
      "1/1 [==============================] - 0s 24ms/step - loss: 0.1914 - mae: 0.0278 - mse: 0.0088 - val_loss: 0.0305 - val_mae: 0.0060 - val_mse: 1.5216e-04\n",
      "Epoch 45/50\n",
      "1/1 [==============================] - 0s 27ms/step - loss: 0.1746 - mae: 0.0255 - mse: 0.0074 - val_loss: 0.0273 - val_mae: 0.0054 - val_mse: 1.1989e-04\n",
      "Epoch 46/50\n",
      "1/1 [==============================] - 0s 23ms/step - loss: 0.1917 - mae: 0.0271 - mse: 0.0090 - val_loss: 0.0247 - val_mae: 0.0049 - val_mse: 9.7385e-05\n",
      "Epoch 47/50\n",
      "1/1 [==============================] - 0s 27ms/step - loss: 0.1639 - mae: 0.0234 - mse: 0.0072 - val_loss: 0.0225 - val_mae: 0.0044 - val_mse: 8.1265e-05\n",
      "Epoch 48/50\n",
      "1/1 [==============================] - 0s 24ms/step - loss: 0.1524 - mae: 0.0216 - mse: 0.0068 - val_loss: 0.0207 - val_mae: 0.0041 - val_mse: 6.9381e-05\n",
      "Epoch 49/50\n",
      "1/1 [==============================] - 0s 27ms/step - loss: 0.1346 - mae: 0.0203 - mse: 0.0055 - val_loss: 0.0191 - val_mae: 0.0038 - val_mse: 6.0064e-05\n",
      "Epoch 50/50\n",
      "1/1 [==============================] - 0s 24ms/step - loss: 0.1535 - mae: 0.0216 - mse: 0.0070 - val_loss: 0.0177 - val_mae: 0.0035 - val_mse: 5.2288e-05\n"
     ]
    }
   ],
   "source": [
    "EPOCHS = 50\n",
    "\n",
    "history = model.fit(trainset.batch(5),validation_data=valset.batch(1),  epochs=EPOCHS)"
   ]
  },
  {
   "cell_type": "code",
   "execution_count": 330,
   "metadata": {},
   "outputs": [
    {
     "data": {
      "text/plain": [
       "[<matplotlib.lines.Line2D at 0x193bc1cde88>]"
      ]
     },
     "execution_count": 330,
     "metadata": {},
     "output_type": "execute_result"
    },
    {
     "data": {
      "image/png": "[encoded data removed]",
      "text/plain": [
       "<Figure size 432x288 with 1 Axes>"
      ]
     },
     "metadata": {
      "needs_background": "light"
     },
     "output_type": "display_data"
    }
   ],
   "source": [
    "plt.plot(history.history['loss'])\n",
    "plt.plot(history.history['val_loss'])"
   ]
  },
  {
   "cell_type": "code",
   "execution_count": 331,
   "metadata": {
    "scrolled": false
   },
   "outputs": [
    {
     "data": {
      "image/png": "[encoded data removed]",
      "text/plain": [
       "<Figure size 432x288 with 2 Axes>"
      ]
     },
     "metadata": {
      "needs_background": "light"
     },
     "output_type": "display_data"
    },
    {
     "data": {
      "image/png": "[encoded data removed]",
      "text/plain": [
       "<Figure size 432x288 with 2 Axes>"
      ]
     },
     "metadata": {
      "needs_background": "light"
     },
     "output_type": "display_data"
    },
    {
     "data": {
      "image/png": "[encoded data removed]",
      "text/plain": [
       "<Figure size 432x288 with 2 Axes>"
      ]
     },
     "metadata": {
      "needs_background": "light"
     },
     "output_type": "display_data"
    },
    {
     "data": {
      "image/png": "[encoded data removed]",
      "text/plain": [
       "<Figure size 432x288 with 2 Axes>"
      ]
     },
     "metadata": {
      "needs_background": "light"
     },
     "output_type": "display_data"
    },
    {
     "data": {
      "image/png": "[encoded data removed]",
      "text/plain": [
       "<Figure size 432x288 with 2 Axes>"
      ]
     },
     "metadata": {
      "needs_background": "light"
     },
     "output_type": "display_data"
    }
   ],
   "source": [
    "for xb, yb in trainset.batch(5).take(1):\n",
    "    for i in range(0,5):\n",
    "        true=tf.math.argmax(yb[i], axis=-1)\n",
    "        pred=tf.math.argmax(model.predict(xb)[i], axis=-1)\n",
    "        plt.subplot(1,2,1)\n",
    "        plt.imshow(true, cmap=cmap, norm=norm)\n",
    "        plt.subplot(1,2,2)\n",
    "        plt.imshow(pred, cmap=cmap, norm=norm)\n",
    "        plt.show()"
   ]
  },
  {
   "cell_type": "code",
   "execution_count": 332,
   "metadata": {},
   "outputs": [
    {
     "data": {
      "image/png": "[encoded data removed]",
      "text/plain": [
       "<Figure size 432x288 with 2 Axes>"
      ]
     },
     "metadata": {
      "needs_background": "light"
     },
     "output_type": "display_data"
    }
   ],
   "source": [
    "for xb, yb in valset.batch(1):\n",
    "    for i in range(0,1):\n",
    "        true=tf.math.argmax(yb[i], axis=-1)\n",
    "        pred=tf.math.argmax(model.predict(xb)[i], axis=-1)\n",
    "        plt.subplot(1,2,1)\n",
    "        plt.imshow(true, cmap=cmap, norm=norm)\n",
    "        plt.subplot(1,2,2)\n",
    "        plt.imshow(pred, cmap=cmap, norm=norm)\n",
    "        plt.show()"
   ]
  }
 ],
 "metadata": {
  "kernelspec": {
   "display_name": "Python 3",
   "language": "python",
   "name": "python3"
  },
  "language_info": {
   "codemirror_mode": {
    "name": "ipython",
    "version": 3
   },
   "file_extension": ".py",
   "mimetype": "text/x-python",
   "name": "python",
   "nbconvert_exporter": "python",
   "pygments_lexer": "ipython3",
   "version": "3.7.4"
  }
 },
 "nbformat": 4,
 "nbformat_minor": 2
}
