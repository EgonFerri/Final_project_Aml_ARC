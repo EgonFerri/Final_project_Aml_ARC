{
 "cells": [
  {
   "cell_type": "markdown",
   "metadata": {},
   "source": [
    "# MODULES IMPORT"
   ]
  },
  {
   "cell_type": "code",
   "execution_count": 7,
   "metadata": {},
   "outputs": [],
   "source": [
    "import numpy as np              #numpy library is used to work with multidimensional array.\n",
    "import pandas as pd             #pandas used for data manipulation and analysis.\n",
    "                 \n",
    "import os                       #os library is used for loading file to use in the program\n",
    "import json                     #json library parses json into a string or dict, and convert string or dict to json file.\n",
    "from pathlib import Path        #support path\n",
    "\n",
    "import matplotlib.pyplot as plt #support ploting a figure\n",
    "from matplotlib import colors   #colors support converting number or argument into colors"
   ]
  },
  {
   "cell_type": "markdown",
   "metadata": {},
   "source": [
    "----------------\n",
    "## Proto"
   ]
  },
  {
   "cell_type": "code",
   "execution_count": 8,
   "metadata": {},
   "outputs": [],
   "source": [
    "import torch\n",
    "from torch import nn\n",
    "from torch.utils.data import Dataset, DataLoader\n",
    "from torch.nn import CrossEntropyLoss\n",
    "from torch.optim import Adam\n",
    "from pathlib import Path\n",
    "from os.path import join "
   ]
  },
  {
   "cell_type": "code",
   "execution_count": 9,
   "metadata": {},
   "outputs": [],
   "source": [
    "def load_data(path):\n",
    "    tasks = []\n",
    "    for file_path in os.listdir(path):\n",
    "        task_file = join(path, file_path)\n",
    "\n",
    "        with open(task_file, 'r') as f:\n",
    "            task = json.load(f)\n",
    "            tasks.append(task)\n",
    "    return tasks"
   ]
  },
  {
   "cell_type": "code",
   "execution_count": 10,
   "metadata": {},
   "outputs": [],
   "source": [
    "path = Path(\"./data\")\n",
    "train_tasks = load_data(path / 'training')\n",
    "evaluation_tasks = load_data(path /'evaluation')\n",
    "test_tasks = load_data(path / 'test')"
   ]
  },
  {
   "cell_type": "code",
   "execution_count": 11,
   "metadata": {},
   "outputs": [],
   "source": [
    "def max_padding(x):\n",
    "    x = torch.Tensor(x)\n",
    "    return nn.ConstantPad2d((floor((30 - x.shape[1])/2), floor((30 - x.shape[2])/2),\n",
    "                                       ceil((30 - x.shape[2])/2), ceil((30 - x.shape[1])/2)), 0)(x)\n",
    "    "
   ]
  },
  {
   "cell_type": "code",
   "execution_count": 18,
   "metadata": {},
   "outputs": [],
   "source": [
    "class ArcData(Dataset):\n",
    "\n",
    "    def __init__(self, Xy, type_ = \"train\"):\n",
    "        \n",
    "        self.Xy = Xy\n",
    "        self.type = type_\n",
    "        \n",
    "    def __len__(self):\n",
    "        return len(self.X)\n",
    "\n",
    "    def __getitem__(self, idx):\n",
    "        Xy = self.Xy[idx][self.type]\n",
    "        X = [x[\"input\"] for x in Xy]\n",
    "        if self.type == \"train\":\n",
    "            y = [y[\"output\"] for y in Xy]\n",
    "        \n",
    "        return np.array(X), np.array(y)\n"
   ]
  },
  {
   "cell_type": "code",
   "execution_count": 16,
   "metadata": {
    "scrolled": true
   },
   "outputs": [
    {
     "name": "stdout",
     "output_type": "stream",
     "text": [
      "Net(\n",
      "  (conv1): Conv2d(10, 10, kernel_size=(5, 5), stride=(1, 1), padding=(2, 2))\n",
      ")\n"
     ]
    }
   ],
   "source": [
    "\n",
    "class Net(nn.Module):\n",
    "\n",
    "    def __init__(self):\n",
    "        super(Net, self).__init__()\n",
    "        \n",
    "        self.conv1 = nn.Conv2d(10, 10, 5, padding = 2)\n",
    "\n",
    "    def forward(self, x):\n",
    "\n",
    "        x =self.conv1(x)\n",
    "        return x\n",
    "\n",
    "\n",
    "net = Net()\n",
    "print(net)"
   ]
  },
  {
   "cell_type": "code",
   "execution_count": 19,
   "metadata": {
    "scrolled": true
   },
   "outputs": [],
   "source": [
    "def expand(x):\n",
    "    if len(x.shape) != 2:\n",
    "        x = np.expand_dims(x, 1)\n",
    "    return x\n",
    "\n",
    "def pad(x):\n",
    "    x = np.array([i for i in x])\n",
    "    img = np.array([np.zeros((x.shape[0], x.shape[1]))+i for i in range(10)])\n",
    "    img = (x-img == 0)*1\n",
    "    return img\n",
    "\n",
    "NUM_EPOCHS = 10\n",
    "\n",
    "cuda_ = torch.cuda.is_available()\n",
    "device = torch.device(\"cuda:0\" if cuda_ else \"cpu\")\n",
    "net = Net()\n",
    "criterion = nn.MSELoss()\n",
    "optimizer = Adam(net.parameters(), lr = 0.01)\n",
    "training_set = ArcData(train_tasks)\n",
    "history = []\n",
    "for batch in training_set:\n",
    "    X, Y = batch\n",
    "    for epoch in range(NUM_EPOCHS):\n",
    "        for x,y in zip(X,Y):\n",
    "            try:\n",
    "                x = expand(np.array(x))\n",
    "                y = expand(np.array(y))\n",
    "\n",
    "                if (x.shape == y.shape):\n",
    "                    padded_x = pad(x)\n",
    "                    padded_y = pad(y)\n",
    "                    inputs = torch.Tensor(padded_x).unsqueeze(0)\n",
    "                    outputs = torch.Tensor(padded_y).unsqueeze(0)\n",
    "                    out = net(inputs)\n",
    "                    loss = criterion(out, outputs)\n",
    "                    history.append(loss)\n",
    "                    loss.backward()\n",
    "                    optimizer.step()\n",
    "            except:\n",
    "                continue\n",
    "                "
   ]
  },
  {
   "cell_type": "code",
   "execution_count": 20,
   "metadata": {},
   "outputs": [
    {
     "data": {
      "text/plain": [
       "[<matplotlib.lines.Line2D at 0x258b1bf1248>]"
      ]
     },
     "execution_count": 20,
     "metadata": {},
     "output_type": "execute_result"
    },
    {
     "data": {
      "image/png": "[encoded data removed]",
      "text/plain": [
       "<Figure size 432x288 with 1 Axes>"
      ]
     },
     "metadata": {
      "needs_background": "light"
     },
     "output_type": "display_data"
    }
   ],
   "source": [
    "plt.plot(history)"
   ]
  },
  {
   "cell_type": "code",
   "execution_count": null,
   "metadata": {},
   "outputs": [],
   "source": []
  },
  {
   "cell_type": "code",
   "execution_count": null,
   "metadata": {},
   "outputs": [],
   "source": [
    "    if train:\n",
    "        # Zero gradients\n",
    "        model.train()\n",
    "        optimiser.zero_grad()\n",
    "    else:\n",
    "        model.eval()\n",
    "\n",
    "    # Embed all samples\n",
    "    embeddings = model(x)\n",
    "\n",
    "    # Samples are ordered by the NShotWrapper class as follows:\n",
    "    # k lots of n support samples from a particular class\n",
    "    # k lots of q query samples from those classes\n",
    "    support = embeddings[:n_shot*k_way]\n",
    "    queries = embeddings[n_shot*k_way:]\n",
    "    prototypes = compute_prototypes(support, k_way, n_shot)\n",
    "\n",
    "    # Calculate squared distances between all queries and all prototypes\n",
    "    # Output should have shape (q_queries * k_way, k_way) = (num_queries, k_way)\n",
    "    distances = pairwise_distances(queries, prototypes, distance)\n",
    "\n",
    "    # Calculate log p_{phi} (y = k | x)\n",
    "    log_p_y = (-distances).log_softmax(dim=1)\n",
    "    loss = loss_fn(log_p_y, y)\n",
    "\n",
    "    # Prediction probabilities are softmax over distances\n",
    "    y_pred = (-distances).softmax(dim=1)\n",
    "\n",
    "    if train:\n",
    "        # Take gradient step\n",
    "        loss.backward()\n",
    "        optimiser.step()\n",
    "    else:\n",
    "        pass\n",
    "\n",
    "    return loss, y_pred\n",
    "\n",
    "\n",
    "def compute_prototypes(support: torch.Tensor, k: int, n: int) -> torch.Tensor:\n",
    "    \"\"\"Compute class prototypes from support samples.\n",
    "    # Arguments\n",
    "        support: torch.Tensor. Tensor of shape (n * k, d) where d is the embedding\n",
    "            dimension.\n",
    "        k: int. \"k-way\" i.e. number of classes in the classification task\n",
    "        n: int. \"n-shot\" of the classification task\n",
    "    # Returns\n",
    "        class_prototypes: Prototypes aka mean embeddings for each class\n",
    "    \"\"\"\n",
    "    # Reshape so the first dimension indexes by class then take the mean\n",
    "    # along that dimension to generate the \"prototypes\" for each class\n",
    "    class_prototypes = support.reshape(k, n, -1).mean(dim=1)\n"
   ]
  }
 ],
 "metadata": {
  "kernelspec": {
   "display_name": "Python 3",
   "language": "python",
   "name": "python3"
  }
 },
 "nbformat": 4,
 "nbformat_minor": 2
}
