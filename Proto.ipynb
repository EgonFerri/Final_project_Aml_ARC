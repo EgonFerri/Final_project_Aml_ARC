{
 "cells": [
  {
   "cell_type": "markdown",
   "metadata": {},
   "source": [
    "# MODULES IMPORT"
   ]
  },
  {
   "cell_type": "code",
   "execution_count": 7,
   "metadata": {},
   "outputs": [],
   "source": [
    "import numpy as np              #numpy library is used to work with multidimensional array.\n",
    "import pandas as pd             #pandas used for data manipulation and analysis.\n",
    "                 \n",
    "import os                       #os library is used for loading file to use in the program\n",
    "import json                     #json library parses json into a string or dict, and convert string or dict to json file.\n",
    "from pathlib import Path        #support path\n",
    "\n",
    "import matplotlib.pyplot as plt #support ploting a figure\n",
    "from matplotlib import colors   #colors support converting number or argument into colors"
   ]
  },
  {
   "cell_type": "markdown",
   "metadata": {},
   "source": [
    "----------------\n",
    "## Proto"
   ]
  },
  {
   "cell_type": "code",
   "execution_count": 440,
   "metadata": {},
   "outputs": [],
   "source": [
    "import torch\n",
    "from torch import nn\n",
    "from torch.utils.data import Dataset, DataLoader\n",
    "from torch.nn import CrossEntropyLoss\n",
    "from torch.optim import Adam, Optimizer\n",
    "from pathlib import Path\n",
    "from os.path import join "
   ]
  },
  {
   "cell_type": "code",
   "execution_count": 9,
   "metadata": {},
   "outputs": [],
   "source": [
    "def load_data(path):\n",
    "    tasks = []\n",
    "    for file_path in os.listdir(path):\n",
    "        task_file = join(path, file_path)\n",
    "\n",
    "        with open(task_file, 'r') as f:\n",
    "            task = json.load(f)\n",
    "            tasks.append(task)\n",
    "    return tasks"
   ]
  },
  {
   "cell_type": "code",
   "execution_count": 10,
   "metadata": {},
   "outputs": [],
   "source": [
    "path = Path(\"./data\")\n",
    "train_tasks = load_data(path / 'training')\n",
    "evaluation_tasks = load_data(path /'evaluation')\n",
    "test_tasks = load_data(path / 'test')"
   ]
  },
  {
   "cell_type": "code",
   "execution_count": 11,
   "metadata": {},
   "outputs": [],
   "source": [
    "def max_padding(x):\n",
    "    x = torch.Tensor(x)\n",
    "    return nn.ConstantPad2d((floor((30 - x.shape[1])/2), floor((30 - x.shape[2])/2),\n",
    "                                       ceil((30 - x.shape[2])/2), ceil((30 - x.shape[1])/2)), 0)(x)\n",
    "    "
   ]
  },
  {
   "cell_type": "code",
   "execution_count": 46,
   "metadata": {},
   "outputs": [],
   "source": [
    "class ArcData(Dataset):\n",
    "\n",
    "    def __init__(self, Xy, type_ = \"train\"):\n",
    "        \n",
    "        self.Xy = Xy\n",
    "        self.type = type_\n",
    "        \n",
    "    def __len__(self):\n",
    "        return len(self.X)\n",
    "\n",
    "    def __getitem__(self, idx):\n",
    "        \n",
    "        Xy = self.Xy[idx][self.type]\n",
    "        X = [x[\"input\"] for x in Xy]\n",
    "        \n",
    "        if self.type == \"train\" or self.type == \"test\":\n",
    "            y = [y[\"output\"] for y in Xy]\n",
    "            return np.array(X), np.array(y)\n",
    "        else:\n",
    "            return np.array(X)\n",
    "    \n"
   ]
  },
  {
   "cell_type": "code",
   "execution_count": 433,
   "metadata": {
    "scrolled": true
   },
   "outputs": [
    {
     "name": "stdout",
     "output_type": "stream",
     "text": [
      "Net(\n",
      "  (conv1): Conv2d(10, 10, kernel_size=(5, 5), stride=(1, 1), padding=(2, 2))\n",
      ")\n"
     ]
    }
   ],
   "source": [
    "class Net(nn.Module):\n",
    "\n",
    "    def __init__(self):\n",
    "        super(Net, self).__init__()\n",
    "        \n",
    "        self.conv1 = nn.Conv2d(10, 10, 5, padding = 2)\n",
    "\n",
    "    def forward(self, x):\n",
    "\n",
    "        x =self.conv1(x)\n",
    "        return x\n",
    "\n",
    "\n",
    "net = Net()\n",
    "print(net)"
   ]
  },
  {
   "cell_type": "code",
   "execution_count": 446,
   "metadata": {},
   "outputs": [],
   "source": [
    "def expand(x):\n",
    "    x = np.array(x)\n",
    "    if len(x.shape) != 2:\n",
    "        x = np.expand_dims(x, 1)\n",
    "    return x\n",
    "\n",
    "def pad(x):\n",
    "    img = np.array([np.zeros((x.shape[0], x.shape[1]))+i for i in range(10)])\n",
    "    img = (x-img == 0)*1\n",
    "    return img\n",
    "\n",
    "# def calk_score(predict, y):\n",
    "#     return [int(np.equal(y, predict).all())]\n",
    "\n",
    "def check_list(x):\n",
    "    types = [type(i) for arr in x for i in arr]\n",
    "    if any([types == [type(list()) for _ in range(len(types))]]):\n",
    "        x = np.array([np.array([el for el in i]) for i in x]).squeeze()\n",
    "    return x\n",
    "\n",
    "def shapes(x):\n",
    "    s = []\n",
    "    if str(x).isdigit() == False:\n",
    "        for arr in x:\n",
    "            s.append(arr.shape)\n",
    "    else:\n",
    "        s.append(1)\n",
    "    return s\n",
    "def input_output_shape_is_same(batch):\n",
    "    return all([np.array(el[\"input\"]).shape == np.array(el[\"output\"]).shape for el in batch[\"train\"]])\n",
    "def calk_score(task_test, predict):\n",
    "    return [int(np.equal(sample['output'], pred).all()) for sample, pred in zip(task_test, predict)]"
   ]
  },
  {
   "cell_type": "code",
   "execution_count": 393,
   "metadata": {
    "scrolled": true
   },
   "outputs": [
    {
     "data": {
      "application/vnd.jupyter.widget-view+json": {
       "model_id": "70a61dcff71d439f8ec180b282a6b41a",
       "version_major": 2,
       "version_minor": 0
      },
      "text/plain": [
       "HBox(children=(FloatProgress(value=0.0, max=400.0), HTML(value='')))"
      ]
     },
     "metadata": {},
     "output_type": "display_data"
    },
    {
     "name": "stdout",
     "output_type": "stream",
     "text": [
      "\n"
     ]
    }
   ],
   "source": [
    "from tqdm.notebook import tqdm\n",
    "NUM_EPOCHS = 30\n",
    "\n",
    "cuda_ = torch.cuda.is_available()\n",
    "device = torch.device(\"cuda:0\" if cuda_ else \"cpu\")\n",
    "\n",
    "net = Net().to(device)\n",
    "criterion = nn.CrossEntropyLoss()\n",
    "optimizer = Adam(net.parameters(), lr = 0.1)\n",
    "training_set = ArcData(train_tasks, \"train\")\n",
    "history = []\n",
    "\n",
    "for batch in tqdm(train_tasks):\n",
    "    if input_output_shape_is_same(batch):\n",
    "        for epoch in range(NUM_EPOCHS):\n",
    "            for sample in batch[\"train\"]:\n",
    "                #print(sample)\n",
    "                \n",
    "                x = expand(sample[\"input\"])\n",
    "                y = expand(sample[\"output\"])\n",
    "\n",
    "#                 x = check_list(x)\n",
    "#                 y = check_list(y)\n",
    "\n",
    "#                 shapes_x = shapes(x)\n",
    "#                 shapes_y = shapes(y)\n",
    "\n",
    "#                 if all([shapes_x == shapes_y]):\n",
    "                padded_x = pad(x)\n",
    "\n",
    "                inputs = torch.FloatTensor(padded_x).unsqueeze(0).to(device)\n",
    "                outputs = torch.LongTensor(y).unsqueeze(0).to(device)\n",
    "                optimizer.zero_grad()\n",
    "                out = net(inputs)\n",
    "                loss = criterion(out, outputs)\n",
    "                history.append(loss)\n",
    "                loss.backward()\n",
    "                optimizer.step()\n",
    "\n"
   ]
  },
  {
   "cell_type": "code",
   "execution_count": 458,
   "metadata": {},
   "outputs": [],
   "source": [
    "import torch\n",
    "import torch.nn.functional as F\n",
    "\n",
    "def replace_grad(parameter_gradients, parameter_name):\n",
    "    \"\"\"Creates a backward hook function that replaces the calculated gradient\n",
    "    with a precomputed value when .backward() is called.\n",
    "    \n",
    "    See\n",
    "    https://pytorch.org/docs/stable/autograd.html?highlight=hook#torch.Tensor.register_hook\n",
    "    for more info\n",
    "    \"\"\"\n",
    "    def replace_grad_(module):\n",
    "        return parameter_gradients[parameter_name]\n",
    "\n",
    "    return replace_grad_\n",
    "\n",
    "def functional_forward(x: torch.Tensor, weights: dict):\n",
    "    \"\"\"Performs a forward pass of the network using the PyTorch functional API.\"\"\"\n",
    "    for block in [1, 2, 3, 4]:\n",
    "        x = functional_conv_block(x, weights[f'conv{block}.0.weight'], weights[f'conv{block}.0.bias'],\n",
    "                                  weights.get(f'conv{block}.1.weight'), weights.get(f'conv{block}.1.bias'))\n",
    "\n",
    "    x = x.view(x.size(0), -1)\n",
    "\n",
    "    x = F.linear(x, weights['logits.weight'], weights['logits.bias'])\n",
    "\n",
    "    return x\n",
    "\n",
    "def meta_gradient_step(model: Module,\n",
    "                       optimiser: Optimizer,\n",
    "                       loss_fn: Callable,\n",
    "                       x: torch.Tensor,\n",
    "                       y: torch.Tensor,\n",
    "                       n_shot: int,\n",
    "                       q_queries: int,\n",
    "                       order: int,\n",
    "                       inner_train_steps: int,\n",
    "                       inner_lr: float,\n",
    "                       train: bool,\n",
    "                       device: Union[str, torch.device]):\n",
    "    \"\"\"\n",
    "    Perform a gradient step on a meta-learner.\n",
    "    # Arguments\n",
    "        model: Base model of the meta-learner being trained\n",
    "        optimiser: Optimiser to calculate gradient step from loss\n",
    "        loss_fn: Loss function to calculate between predictions and outputs\n",
    "        x: Input samples for all few shot tasks\n",
    "        y: Input labels of all few shot tasks\n",
    "        n_shot: Number of examples per class in the support set of each task\n",
    "        k_way: Number of classes in the few shot classification task of each task\n",
    "        q_queries: Number of examples per class in the query set of each task. The query set is used to calculate\n",
    "            meta-gradients after applying the update to\n",
    "        order: Whether to use 1st order MAML (update meta-learner weights with gradients of the updated weights on the\n",
    "            query set) or 2nd order MAML (use 2nd order updates by differentiating through the gradients of the updated\n",
    "            weights on the query with respect to the original weights).\n",
    "        inner_train_steps: Number of gradient steps to fit the fast weights during each inner update\n",
    "        inner_lr: Learning rate used to update the fast weights on the inner update\n",
    "        train: Whether to update the meta-learner weights at the end of the episode.\n",
    "        device: Device on which to run computation\n",
    "    \"\"\"\n",
    "    data_shape = x.shape[2:]\n",
    "    create_graph = (True if order == 2 else False) and train\n",
    "\n",
    "    task_gradients = []\n",
    "    task_losses = []\n",
    "    task_predictions = []\n",
    "    for meta_batch_samples, meta_batch_labels in zip(x, y):\n",
    "        # By construction x is a 5D tensor of shape: (meta_batch_size, n*k + q*k, channels, width, height)\n",
    "        # Hence when we iterate over the first  dimension we are iterating through the meta batches\n",
    "        # Equivalently y is a 2D tensor of shape: (meta_batch_size, n*k + q*k, 1)\n",
    "        x_task_train = meta_batch_samples[:n_shot]\n",
    "        x_task_val = meta_batch_samples[n_shot:]\n",
    "        y_task_train = meta_batch_labels[:n_shot]\n",
    "        y_task_val = meta_batch_labels[n_shot:]\n",
    "\n",
    "        # Create a fast model using the current meta model weights\n",
    "        fast_weights = OrderedDict(model.named_parameters())\n",
    "\n",
    "        # Train the model for `inner_train_steps` iterations\n",
    "        for inner_batch in range(inner_train_steps):\n",
    "            # Perform update of model weights\n",
    "            logits = model.functional_forward(x_task_train, fast_weights)\n",
    "            loss = loss_fn(logits, y_task_train)\n",
    "            gradients = torch.autograd.grad(loss, fast_weights.values(), create_graph=create_graph)\n",
    "\n",
    "            # Update weights manually\n",
    "            fast_weights = OrderedDict(\n",
    "                (name, param - inner_lr * grad)\n",
    "                for ((name, param), grad) in zip(fast_weights.items(), gradients)\n",
    "            )\n",
    "\n",
    "        # Do a pass of the model on the validation data from the current task\n",
    "        logits = functional_forward(x_task_val, fast_weights)\n",
    "        loss = loss_fn(logits, y_task_val)\n",
    "        loss.backward(retain_graph=True)\n",
    "\n",
    "        # Get post-update accuracies\n",
    "        y_pred = logits.softmax(dim=1)\n",
    "        task_predictions.append(y_pred)\n",
    "\n",
    "        # Accumulate losses and gradients\n",
    "        task_losses.append(loss)\n",
    "        gradients = torch.autograd.grad(loss, fast_weights.values(), create_graph=create_graph)\n",
    "        named_grads = {name: g for ((name, _), g) in zip(fast_weights.items(), gradients)}\n",
    "        task_gradients.append(named_grads)\n",
    "\n",
    "    if order == 1:\n",
    "        if train:\n",
    "            sum_task_gradients = {k: torch.stack([grad[k] for grad in task_gradients]).mean(dim=0)\n",
    "                                  for k in task_gradients[0].keys()}\n",
    "            hooks = []\n",
    "            for name, param in model.named_parameters():\n",
    "                hooks.append(\n",
    "                    param.register_hook(replace_grad(sum_task_gradients, name))\n",
    "                )\n",
    "\n",
    "            model.train()\n",
    "            optimiser.zero_grad()\n",
    "            # Dummy pass in order to create `loss` variable\n",
    "            # Replace dummy gradients with mean task gradients using hooks\n",
    "            logits = model(torch.zeros((1, ) + data_shape).to(device, dtype=torch.double))\n",
    "            loss = loss_fn(logits, create_nshot_task_label(1, 1).to(device))\n",
    "            loss.backward()\n",
    "            optimiser.step()\n",
    "\n",
    "            for h in hooks:\n",
    "                h.remove()\n",
    "\n",
    "        return torch.stack(task_losses).mean(), torch.cat(task_predictions)\n",
    "\n",
    "    elif order == 2:\n",
    "        model.train()\n",
    "        optimiser.zero_grad()\n",
    "        meta_batch_loss = torch.stack(task_losses).mean()\n",
    "\n",
    "        if train:\n",
    "            meta_batch_loss.backward()\n",
    "            optimiser.step()\n",
    "\n",
    "        return meta_batch_loss, torch.cat(task_predictions)"
   ]
  },
  {
   "cell_type": "code",
   "execution_count": 460,
   "metadata": {
    "scrolled": true
   },
   "outputs": [
    {
     "data": {
      "application/vnd.jupyter.widget-view+json": {
       "model_id": "2727187af94d459aabf06ef41d11cb88",
       "version_major": 2,
       "version_minor": 0
      },
      "text/plain": [
       "HBox(children=(FloatProgress(value=0.0, max=400.0), HTML(value='')))"
      ]
     },
     "metadata": {},
     "output_type": "display_data"
    },
    {
     "name": "stdout",
     "output_type": "stream",
     "text": [
      "\n",
      "[[0], [0], [0], [0], [0], [0], [0], [0], [0], [0], [0], [0], [0], [0], [0], [0], [0], [0], [0], [0], [0], [0], [0], [0], [0], [0], [0], [0], [0], [0], [0], [0], [0], [0], [0], [0], [0], [0], [0], [0], [0], [0], [0], [0], [0], [0], [0], [0, 0], [0], [0], [0], [0], [0, 0], [0], [0], [0, 0, 0], [0], [0], [0], [0], [0], [0], [0], [0], [0], [0], [0], [0], [0], [1], [0], [0, 0], [1], [0], [0], [0], [0], [0], [0], [0], [0], [0], [0], [0], [0], [0], [0], [0], [0], [0], [0], [0], [0], [0], [0], [0], [0], [0], [0], [0], [0], [0], [0, 0], [0], [0], [0], [0], [0], [0], [0], [0], [0], [0], [0], [0], [0], [0], [0], [0], [0], [0], [1], [0], [0, 0], [1], [0], [1], [0], [0], [0], [0], [0], [0], [0], [0], [0], [0], [0], [0], [0], [0], [0], [0], [0], [0], [0], [0], [0], [0], [0], [0], [0], [0], [0], [0], [0], [0], [0], [0], [0], [0], [0], [0], [0], [0], [0], [0], [0], [0], [0], [1], [0], [0], [0], [0], [0], [0], [0], [0], [0], [0], [0], [0], [0], [0], [0, 1], [0], [0], [0], [0], [0], [0], [0], [0], [0], [0], [0], [0], [0], [0], [0], [0], [0], [0], [0], [0], [0], [0], [0], [0], [0], [0], [0], [0], [0], [0], [0], [0], [0], [1], [0], [0], [0], [0], [0], [0], [0], [0], [0], [1], [0], [0], [0], [0], [0], [0], [0], [0], [0], [0], [0], [0], [0], [0], [0], [0], [0], [0], [0], [0], [0], [0], [0], [0], [0], [0], [0], [0], [0], [0], [0], [0], [0], [0], [0], [0], [0], [0], [0], [0], [0], [0], [0], [0], [0], [1], [0], [0], [0], [0], [0], [1], [1], [0], [0], [0], [0], [0], [0], [0], [0], [0], [0], [0], [0], [0], [0], [0, 0], [0], [0], [0], [0], [0], [0], [0], [0], [0], [0], [0], [0], [0], [0], [0], [0], [0], [0], [1], [0], [0], [0], [0], [0], [0], [0], [0], [0], [0], [0], [0], [0], [0], [0], [0], [0, 0], [0], [0], [0], [0, 0], [0], [0], [0], [0], [0], [0], [0], [0], [0, 0], [0], [0], [0], [0], [0], [0, 0], [0], [0], [0], [0], [0], [0], [0], [0], [0], [0], [0], [0], [0], [0], [0], [0], [0], [0, 0], [0], [0], [0], [0], [0], [0], [0], [0], [0], [0], [0], [0], [0], [0], [0], [0], [0], [0], [0], [0], [0], [0], [0], [0], [0], [0], [0], [0, 0, 0], [0]]\n"
     ]
    }
   ],
   "source": [
    "correct = []\n",
    "val_set = ArcData(train_tasks, \"test\")\n",
    "NUM_EPOCHS = 30\n",
    "\n",
    "cuda_ = torch.cuda.is_available()\n",
    "device = torch.device(\"cuda:0\" if cuda_ else \"cpu\")\n",
    "\n",
    "\n",
    "training_set = ArcData(train_tasks, \"train\")\n",
    "history = []\n",
    "\n",
    "result = []\n",
    "predictions = []\n",
    "for batch in tqdm(train_tasks):\n",
    "    if input_output_shape_is_same(batch):\n",
    "        net = Net().to(device)\n",
    "        criterion = nn.CrossEntropyLoss()\n",
    "        optimizer = Adam(net.parameters(), lr = 0.1)\n",
    "        for epoch in range(NUM_EPOCHS):\n",
    "            for sample in batch[\"train\"]:\n",
    "                #print(sample)\n",
    "                \n",
    "                x = expand(sample[\"input\"])\n",
    "                y = expand(sample[\"output\"])\n",
    "\n",
    "                padded_x = pad(x)\n",
    "\n",
    "                inputs = torch.Tensor(padded_x).unsqueeze(0).to(device)\n",
    "                outputs = torch.LongTensor(y).unsqueeze(0).to(device)\n",
    "                optimizer.zero_grad()\n",
    "                out = net(inputs)\n",
    "                loss = criterion(out, outputs)\n",
    "                history.append(loss)\n",
    "                loss.backward()\n",
    "                optimizer.step()\n",
    "        p = []\n",
    "        with torch.no_grad():\n",
    "            for sample in batch[\"test\"]:\n",
    "                x = sample[\"input\"]\n",
    "                y = sample[\"output\"]\n",
    "                #print(sample)\n",
    "                x = expand(x)\n",
    "                y = expand(y)\n",
    "    #                 x = check_list(x)\n",
    "    #                 y = check_list(y)\n",
    "\n",
    "    #             shapes_x = shapes(x)\n",
    "    #             shapes_y = shapes(y)\n",
    "\n",
    "    #             if all([shapes_x == shapes_y]):\n",
    "\n",
    "                padded_x = pad(x)\n",
    "\n",
    "                inputs = torch.FloatTensor(padded_x).unsqueeze(0).to(device)\n",
    "\n",
    "                pred = net(inputs)\n",
    "\n",
    "                pred = pred.squeeze(dim = 0).cpu().numpy().argmax(0)\n",
    "                p.append(pred)\n",
    "        score = calk_score(batch['test'], p)\n",
    "                \n",
    "    else:\n",
    "        pred = [el['input'] for el in batch['test']]\n",
    "        score = [0]*len(batch['test'])\n",
    "    predictions.append(pred)\n",
    "    result.append(score)\n",
    "\n",
    "print(result)"
   ]
  },
  {
   "cell_type": "code",
   "execution_count": 295,
   "metadata": {},
   "outputs": [
    {
     "data": {
      "image/png": "[encoded data removed]",
      "text/plain": [
       "<Figure size 600x400 with 6 Axes>"
      ]
     },
     "metadata": {
      "needs_background": "light"
     },
     "output_type": "display_data"
    }
   ],
   "source": [
    "cmap = colors.ListedColormap(\n",
    "    ['#000000', '#0074D9','#FF4136','#2ECC40','#FFDC00',\n",
    "     '#AAAAAA', '#F012BE', '#FF851B', '#7FDBFF', '#870C25'])\n",
    "norm = colors.Normalize(vmin=0, vmax=9)\n",
    "\n",
    "fig, axs = plt.subplots(2, len(correct), figsize=(4*len(correct),8), dpi=50)\n",
    "for n, i in enumerate(correct):\n",
    "    axs[0][n].imshow(i, cmap=cmap, norm=norm)\n",
    "plt.show()"
   ]
  },
  {
   "cell_type": "code",
   "execution_count": 289,
   "metadata": {},
   "outputs": [
    {
     "data": {
      "text/plain": [
       "3"
      ]
     },
     "execution_count": 289,
     "metadata": {},
     "output_type": "execute_result"
    }
   ],
   "source": [
    "len(correct)"
   ]
  },
  {
   "cell_type": "code",
   "execution_count": 365,
   "metadata": {},
   "outputs": [
    {
     "data": {
      "text/plain": [
       "[<matplotlib.lines.Line2D at 0x2588e018ac8>]"
      ]
     },
     "execution_count": 365,
     "metadata": {},
     "output_type": "execute_result"
    },
    {
     "data": {
      "image/png": "[encoded data removed]",
      "text/plain": [
       "<Figure size 432x288 with 1 Axes>"
      ]
     },
     "metadata": {
      "needs_background": "light"
     },
     "output_type": "display_data"
    }
   ],
   "source": [
    "plt.plot(history)"
   ]
  }
 ],
 "metadata": {
  "kernelspec": {
   "display_name": "Python 3",
   "language": "python",
   "name": "python3"
  },
  "language_info": {
   "codemirror_mode": {
    "name": "ipython",
    "version": 3
   },
   "file_extension": ".py",
   "mimetype": "text/x-python",
   "name": "python",
   "nbconvert_exporter": "python",
   "pygments_lexer": "ipython3",
   "version": "3.7.6"
  }
 },
 "nbformat": 4,
 "nbformat_minor": 2
}
